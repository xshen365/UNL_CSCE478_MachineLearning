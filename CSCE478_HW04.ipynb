{
 "cells": [
  {
   "cell_type": "markdown",
   "metadata": {},
   "source": [
    "<font size=6, color=blue>__MLPClassifier__</font>"
   ]
  },
  {
   "cell_type": "code",
   "execution_count": 1,
   "metadata": {},
   "outputs": [],
   "source": [
    "import numpy as np\n",
    "import pandas as pd\n",
    "from scipy import stats\n",
    "import math\n",
    "import matplotlib.pyplot as plt\n",
    "import random\n",
    "import sklearn\n",
    "from sklearn.datasets import load_digits\n",
    "import copy\n",
    "from mlxtend.evaluate import confusion_matrix as cm\n",
    "from yellowbrick.classifier import ClassificationReport"
   ]
  },
  {
   "cell_type": "code",
   "execution_count": 2,
   "metadata": {},
   "outputs": [],
   "source": [
    "def initializeTheta(in_, out_):\n",
    "    Theta = np.asarray(np.random.randn(in_, out_)*np.sqrt(2.0/in_))\n",
    "    #Theta = np.random.rand(in_,out_)\n",
    "    return Theta"
   ]
  },
  {
   "cell_type": "code",
   "execution_count": 3,
   "metadata": {},
   "outputs": [],
   "source": [
    "def logistic(z):\n",
    "    z = np.asarray(z)\n",
    "    return np.asarray(1/(1+np.exp(-z)))\n",
    "\n",
    "def logistic_gradient(z):\n",
    "    return np.asarray(logistic(z)*(1-logistic(z)))"
   ]
  },
  {
   "cell_type": "code",
   "execution_count": 4,
   "metadata": {},
   "outputs": [],
   "source": [
    "def relu(z):\n",
    "    z = np.asarray(z)\n",
    "    return np.maximum(0, z)"
   ]
  },
  {
   "cell_type": "code",
   "execution_count": 5,
   "metadata": {},
   "outputs": [],
   "source": [
    "def relu_gradient(z):\n",
    "    return np.array([0 if i <= 0 else 1 for i in z])"
   ]
  },
  {
   "cell_type": "code",
   "execution_count": 6,
   "metadata": {},
   "outputs": [],
   "source": [
    "def tanh(z):\n",
    "    z = np.asarray(z)\n",
    "    return np.asarray(2/(1+np.exp(-2*z))-1)"
   ]
  },
  {
   "cell_type": "code",
   "execution_count": 7,
   "metadata": {},
   "outputs": [],
   "source": [
    "def activate(activation, z):\n",
    "    if activation == 'logistic':\n",
    "        return logistic(z)\n",
    "    if activation == 'relu':\n",
    "        return relu(z)\n",
    "    if activation == 'tanh':\n",
    "        return tanh(z)\n",
    "    \n",
    "def regularize(regularizer, loss, alpha, Theta1, Theta2):\n",
    "    if regularizer == 'None':\n",
    "        return loss\n",
    "    if regularizer == 'l2':\n",
    "        Theta1_reg = np.sum(np.square(Theta1[:][1:]))\n",
    "        Theta2_reg = np.sum(np.square(Theta2[:][1:]))\n",
    "        reg = Theta1_reg+Theta2_reg\n",
    "        return loss+(alpha/2.0)*reg\n",
    "    \n",
    "def regularize_weights(regularizer, Theta1, Theta2, lambd):\n",
    "    if regularizer == None:\n",
    "        return Theta1, Theta2\n",
    "    if regularizer == 'l1':\n",
    "        return lambd*np.sign(Theta1[1:, :]), lambd*np.sign(Theta2[1:, 1])\n",
    "    if regularizer == 'l2':\n",
    "        return lambd*Theta1[1:, :], lambd*Theta2[1:, :]"
   ]
  },
  {
   "cell_type": "code",
   "execution_count": 8,
   "metadata": {},
   "outputs": [],
   "source": [
    "def softmax(a):\n",
    "    return np.asarray((np.exp(a)/np.sum(np.exp(a))))\n",
    "\n",
    "def cross_entropy_loss(y_one_hot, y_pred, y_proba):\n",
    "    loss = 0\n",
    "    for i in range(len(y_one_hot)):\n",
    "        for c in range(len(y_proba[0])):\n",
    "            loss += y_one_hot[i][c]*np.log(y_proba[i][c])\n",
    "    return -loss\n",
    "\n",
    "def one_hot_labels(y):\n",
    "    unique_list = np.unique(y)\n",
    "    columns = len(unique_list)\n",
    "    rows = len(y)\n",
    "    y_encoded = np.zeros((rows, columns)).astype(int)\n",
    "    for i in range(rows):\n",
    "        for j,val in enumerate(unique_list):\n",
    "            if y[i] == val:\n",
    "                y_encoded[i][j] = 1\n",
    "    return y_encoded\n",
    "\n",
    "def softmax_gradient(a):\n",
    "    return np.asarray(softmax(a)*(1-softmax(a)))"
   ]
  },
  {
   "cell_type": "code",
   "execution_count": 9,
   "metadata": {},
   "outputs": [],
   "source": [
    "#calculate tp, fp, tn, fn\n",
    "#Function that returns accuracy and generalization error of two vectors\n",
    "def accu_error(x, x_predict):\n",
    "    #g_error = np.mean((np.subtract(x, x_predict))**2)\n",
    "    #accu = 1 - g_error\n",
    "    c_m = cm(x, x_predict, binary = False)\n",
    "    accu = np.trace(c_m)/len(x)\n",
    "    err = 1 - accu\n",
    "    return accu, err\n",
    "\n",
    "def values(x, x_predict):\n",
    "    true_positive = 0.0\n",
    "    false_positive = 0.0\n",
    "    true_negative = 0.0\n",
    "    false_negative = 0.0\n",
    "    for i in range(len(x)):\n",
    "        if np.logical_and(x_predict[i] == 1, x[i] == 1):\n",
    "        #if x_predict[i] == 1 & x[i] == 1:\n",
    "            true_positive += 1\n",
    "        if np.logical_and(x_predict[i] == 1, x[i] == 0):\n",
    "            false_positive += 1\n",
    "        if np.logical_and(x_predict[i] == 0, x[i] == 0):\n",
    "            true_negative += 1\n",
    "        if np.logical_and(x_predict[i] == 0, x[i] == 1):\n",
    "            false_negative += 1\n",
    "          \n",
    "    if(true_positive+false_negative == 0):\n",
    "        tpr = 0.0\n",
    "    else:\n",
    "        tpr = (true_positive)/(true_positive+false_negative)\n",
    "    if(false_positive+true_negative == 0):\n",
    "        fpr = 0.0\n",
    "    else:\n",
    "        fpr = (false_positive)/(false_positive+true_negative)\n",
    "\n",
    "    return [true_positive, false_positive, true_negative, false_negative, tpr, fpr]\n",
    "\n",
    "#Function to compute precision\n",
    "def precision(c_m):\n",
    "    tp = np.diagonal(c_m)\n",
    "    fp = np.sum(c_m,axis=0) - tp\n",
    "    return tp/(tp + fp)\n",
    "\n",
    "#Function to compute recall\n",
    "def recall(c_m):\n",
    "    tp = np.diagonal(c_m)\n",
    "    fn = np.sum(c_m,axis=1) - tp\n",
    "    return tp/(tp + fn)\n",
    "\n",
    "#Function to compute f1\n",
    "def f1_score(c_m):\n",
    "    f1 = 2*((precision(c_m)*recall(c_m))/(precision(c_m)+recall(c_m)))\n",
    "    return f1\n",
    "\n",
    "#Function to compute confusion matrix\n",
    "def confusion_matrix(y, y_predict):\n",
    "    confusion_matrix = [[], []]\n",
    "    confusion_matrix[0].append(values(x, x_predict)[2])\n",
    "    confusion_matrix[0].append(values(x, x_predict)[1])\n",
    "    confusion_matrix[1].append(values(x, x_predict)[3])\n",
    "    confusion_matrix[1].append(values(x, x_predict)[0])\n",
    "    return np.asarray(confusion_matrix)"
   ]
  },
  {
   "cell_type": "code",
   "execution_count": 10,
   "metadata": {},
   "outputs": [],
   "source": [
    "class MLPClassifier:\n",
    "    \n",
    "    def partitions(self, X, y, t):\n",
    "        test_rows_X = math.ceil(len(X)*t)\n",
    "        test_rows_y = math.ceil(len(y)*t)\n",
    "        train_rows_X = len(X) - test_rows_X\n",
    "        train_rows_y = len(y) - test_rows_y\n",
    "        #X_train = X.iloc[:train_rows_X]\n",
    "        #X_test = X.iloc[train_rows_X:]\n",
    "        X_train = X[0:train_rows_y]\n",
    "        X_test = X[train_rows_y:len(y)]\n",
    "        y_train = y[0:train_rows_y]\n",
    "        y_test = y[train_rows_y:len(y)]\n",
    "\n",
    "        return np.asarray([X_train, y_train, X_test, y_test])\n",
    "    \n",
    "    def FeedForward(self, X, Theta1, Theta2, single):\n",
    "        #a1 = np.c_[np.ones((len(X), 1)), X]\n",
    "        #print(a1.shape)\n",
    "        if single == True:\n",
    "            a1 = np.insert(X, 0, 1)\n",
    "            a1 = a1.T\n",
    "            z2 = np.dot(a1, Theta1) # sample by feature(layer 2)\n",
    "            a2 = activate(self.activation, z2)\n",
    "            #a2 = np.c_[np.ones((len(X), 1)), a2]\n",
    "            a2 = np.insert(a2, 0, 1)\n",
    "            z3 = np.dot(a2, Theta2)\n",
    "            a3 = softmax(z3)\n",
    "        else:\n",
    "            a1 = np.c_[np.ones((len(X), 1)), X]\n",
    "            z2 = np.dot(a1, Theta1) # sample by feature(layer 2)\n",
    "            a2 = activate(self.activation, z2)\n",
    "            a2 = np.c_[np.ones((len(X), 1)), a2]\n",
    "            z3 = np.dot(a2, Theta2)\n",
    "            a3 = softmax(z3)\n",
    "        return [a1, z2, a2, z3, a3]\n",
    "\n",
    "    \n",
    "    def fit(self, X, y, hidden_layer_neurons=2, activation='logistic', regularizer=None, alpha=0.0001, learning_rate='constant', learning_rate_init=0.001, max_iter=1000, tol=0.0001, verbose=False, early_stopping=False, validation_fraction=0.1, n_iter_no_change=10, lambd=0.01, **kwargs):\n",
    "        self.X = np.asarray(X)\n",
    "        self.y = np.asarray(y) # currently assume y is a column vec - vertical\n",
    "        self.hidden_layer_neurons = hidden_layer_neurons\n",
    "        self.activation = activation\n",
    "        self.regularizer = regularizer\n",
    "        self.alpha = alpha\n",
    "        self.learning_rate = learning_rate\n",
    "        self.learning_rate_init = learning_rate_init\n",
    "        self.max_iter = max_iter\n",
    "        self.tol = tol\n",
    "        self.verbose = verbose\n",
    "        self.early_stopping = early_stopping\n",
    "        self.validation_fraction = validation_fraction\n",
    "        self.n_iter_no_change = n_iter_no_change\n",
    "        self.lambd = lambd\n",
    "        self.Theta1 = []\n",
    "        self.Theta2 = []\n",
    "        self.cost_avg = [0.0]\n",
    "        self.val_loss_list = [0.0]\n",
    "        self.val_score = [0.0]\n",
    "        self.epochs = []\n",
    "        \n",
    "        \n",
    "        # initialize Theta1 and Theta2\n",
    "        Theta1 = initializeTheta(len(self.X[0])+1, self.hidden_layer_neurons)\n",
    "        Theta2 = initializeTheta(self.hidden_layer_neurons+1, len(np.unique(self.y)))\n",
    "        one_hot_y = one_hot_labels(self.y)\n",
    "        no_change_iter = 0\n",
    "        highest_val_score = 0\n",
    "        highest_theta1 = []\n",
    "        highest_theta2 = []\n",
    "        \n",
    "        loss_list = []\n",
    "        # update Thetas in here - SGD\n",
    "        for i in range(self.max_iter):\n",
    "            #print(i)\n",
    "            #print(Theta1)\n",
    "            #print(Theta2)\n",
    "            loss_list = []\n",
    "            r = np.random.permutation(len(self.y))\n",
    "            X_shuffle = self.X[r]\n",
    "            y_shuffle = one_hot_y[r]\n",
    "            y_shuffle_batch = y[r]\n",
    "            \n",
    "            if early_stopping == True:\n",
    "                par = self.partitions(X_shuffle, y_shuffle, self.validation_fraction)\n",
    "                X_shuffle_train = par[0]\n",
    "                y_shuffle_train = par[1]\n",
    "                X_shuffle_val = par[2]\n",
    "                y_shuffle_val = par[3] # one-hot-encoding\n",
    "                \n",
    "                par_batch = self.partitions(X_shuffle, y_shuffle_batch, self.validation_fraction)\n",
    "                y_shuffle_val_batch = par_batch[3]\n",
    "                y_shuffle_train_batch = par_batch[1]\n",
    "            else: \n",
    "                X_shuffle_train = X_shuffle\n",
    "                y_shuffle_train = y_shuffle\n",
    "                \n",
    "            \n",
    "            for X_single, y_single in zip(X_shuffle_train, y_shuffle_train):\n",
    "                forward_params = self.FeedForward(X_single, Theta1, Theta2, True)\n",
    "                a1 = forward_params[0]\n",
    "                z2 = forward_params[1]\n",
    "                a2 = forward_params[2]\n",
    "                z3 = forward_params[3]\n",
    "                a3 = forward_params[4]\n",
    "\n",
    "                y_proba = a3\n",
    "                y_pred = np.argmax(a3, axis=0)\n",
    "                loss = cross_entropy_loss([y_single], [y_pred], [y_proba])\n",
    "                loss_regularized = regularize(self.regularizer, loss, self.alpha, self.Theta1, self.Theta2)\n",
    "                #print('a1: ', a1.shape)\n",
    "                #print('a2: ', a2.shape)\n",
    "                #print('a3: ', a3.shape)\n",
    "                #print('z2: ', z2.shape)\n",
    "                #print('z3: ', z3.shape)\n",
    "                # compute delta - errors in weight\n",
    "                delta3 = (a3-y_single)*softmax_gradient(z3)\n",
    "                #print('delta3: ', delta3.shape)\n",
    "                #delta2 = np.dot(delta3, Theta2.T[:, 1:])*logistic_gradient(z2)\n",
    "                delta2 = np.dot(delta3.reshape(1,-1), Theta2.T)*np.insert(relu_gradient(z2), 0, 1).reshape(1, -1)\n",
    "                #print(delta2.shape)\n",
    "                delta2 = delta2[:, 1:] # remove bias while computing errors\n",
    "                #print('Theta2: ', Theta2.shape)\n",
    "                #print('delta2: ', delta2.shape)\n",
    "                # Xjian:delta1 = np.dot(delta2.T, a1).T\n",
    "                delta1 = np.dot(a1.reshape(1,-1).T, delta2.reshape(1,-1))\n",
    "                \n",
    "                \n",
    "                b1 = Theta1[0, :].reshape(1,-1)\n",
    "                b2 = Theta2[0, :].reshape(1,-1)\n",
    "                #print(Theta1.shape)\n",
    "                Thetas_regularized = regularize_weights(self.regularizer, Theta1, Theta2, self.lambd)\n",
    "                #print(b1.shape)\n",
    "                #print(Thetas_regularized[0].shape)\n",
    "                if self.regularizer == None:\n",
    "                    Theta1_regularized = 0\n",
    "                    Theta2_regularized = 0\n",
    "                else:\n",
    "                    Theta1_regularized = np.c_[b1.T, Thetas_regularized[0].T].T\n",
    "                    Theta2_regularized = np.c_[b2.T, Thetas_regularized[1].T].T\n",
    "                #print(Theta1_regularized.shape)\n",
    "                \n",
    "                # Xjian: Theta2[:, 1:] = Theta2[:, 1:] + (learning_rate_init*np.dot((y_single-a3).T, a2).T)[:, 1:]\n",
    "                \n",
    "                Theta2 = Theta2 + (learning_rate_init*np.dot((y_single-a3).reshape(1,-1).T, a2.reshape(1,-1))).T - Theta2_regularized\n",
    "                #print('Theta1: ', Theta1.shape)\n",
    "                #print('delta1: ', delta1.shape)\n",
    "                Theta1 = Theta1 - learning_rate_init*delta1 - Theta1_regularized\n",
    "\n",
    "                loss_list.append(loss_regularized)\n",
    "            \n",
    "                #self.Theta1 = copy.deepcopy(Theta1)\n",
    "                #self.Theta2 = copy.deepcopy(Theta2)\n",
    "                self.Theta1 = Theta1\n",
    "                self.Theta2 = Theta2\n",
    "            \n",
    "            self.cost_avg.append(sum(loss_list)/len(y_shuffle_train))\n",
    "            \n",
    "            \n",
    "            if early_stopping == True:\n",
    "                val = self.predict(X_shuffle_val)[1]\n",
    "                y_shuffle_pred = self.predict(X_shuffle_val)[0]\n",
    "                val_loss = cross_entropy_loss(y_shuffle_val, y_shuffle_pred, val)\n",
    "                self.val_loss_list.append(val_loss/(len(X_shuffle_val)**2))\n",
    "                #print('y_shuffle_pred: ', y_shuffle_pred.shape)\n",
    "                #print('y_shuffle_val_batch: ', y_shuffle_val_batch.shape)\n",
    "                #self.val_score.append(accu_error(y_shuffle_val_batch, y_shuffle_pred)[0])\n",
    "                self.val_score.append(accu_error(y_shuffle_val_batch, y_shuffle_pred)[0])\n",
    "                \n",
    "                if highest_val_score + self.tol < self.val_score[i+1]:\n",
    "                    highest_val_score = self.val_score[i+1]\n",
    "                    highest_theta1 = Theta1\n",
    "                    highest_theta2 = Theta2\n",
    "                    no_change_iter = 0\n",
    "                else:\n",
    "                    no_change_iter += 1\n",
    "                #print(no_change_iter)\n",
    "                #if self.val_score[i+1]-self.val_score[i] < self.tol:\n",
    "                #    no_change_iter += 1\n",
    "                #else:\n",
    "                #    no_change_iter = 0\n",
    "                if no_change_iter == self.n_iter_no_change:\n",
    "                    self.Theta1 = highest_theta1\n",
    "                    self.Theta2 = highest_theta2\n",
    "                    print('Early stopping because the validation score change between two consecutive epochs is less than (value of “%f”) over the last (value of  “%d”) epochs.' %(self.tol, i))\n",
    "                    self.epochs.append(i+2)\n",
    "                    break\n",
    "            #if abs(self.cost_avg[i+1]-self.cost_avg[i]) < self.tol:\n",
    "            #    break\n",
    "            \n",
    "            \n",
    "            \n",
    "            #self.Theta1 = copy.deepcopy(Theta1)\n",
    "            #self.Theta2 = copy.deepcopy(Theta2)\n",
    "\n",
    "            if verbose == True:\n",
    "                print('Epoch %s  of %s: Training Loss = %f | Validation Loss = %f | Validation Score = %f | Eta = %f' %(i+1, self.max_iter, self.cost_avg[i+1], self.val_loss_list[i+1], self.val_score[i], self.learning_rate_init))\n",
    "            \n",
    "        return self.epochs, self.cost_avg, self.val_loss_list, self.val_score\n",
    "    \n",
    "    def predict(self, X):\n",
    "        predictions = []\n",
    "        a3 = self.FeedForward(X, self.Theta1, self.Theta2, False)[4] # class probability\n",
    "\n",
    "        #predictions = activate(self.activation, \n",
    "        #                       np.dot(activate(self.activation, np.dot(X, self.Theta1)), \n",
    "        #                              self.Theta2))\n",
    "        predictions = np.argmax(a3, axis=1)\n",
    "        return predictions, a3\n",
    "        \n",
    "        \n",
    "    def __init__(self):\n",
    "        return None"
   ]
  },
  {
   "cell_type": "code",
   "execution_count": 11,
   "metadata": {},
   "outputs": [],
   "source": [
    "digits = sklearn.datasets.load_digits(n_class=10, return_X_y=True)"
   ]
  },
  {
   "cell_type": "code",
   "execution_count": 12,
   "metadata": {},
   "outputs": [
    {
     "name": "stdout",
     "output_type": "stream",
     "text": [
      "(1797, 64) (1797,)\n"
     ]
    }
   ],
   "source": [
    "X = digits[0]\n",
    "y = digits[1]\n",
    "print(X.shape, y.shape)"
   ]
  },
  {
   "cell_type": "code",
   "execution_count": 13,
   "metadata": {},
   "outputs": [],
   "source": [
    "X_norm = (X-np.mean(X))/(np.max(X)-np.min(X))\n",
    "X_norm = pd.DataFrame(X_norm)\n",
    "#scaler = StandardScaler()\n",
    "#X_norm = scaler.fit_transform(X)\n",
    "#X_norm = pd.DataFrame(X_norm)"
   ]
  },
  {
   "cell_type": "code",
   "execution_count": 14,
   "metadata": {},
   "outputs": [],
   "source": [
    "# Partition Data\n",
    "#partition function to split data into train and test\n",
    "def partitions(X, y, t):\n",
    "    test_rows_X = math.ceil(len(X)*t)\n",
    "    test_rows_y = math.ceil(len(y)*t)\n",
    "    train_rows_X = len(X) - test_rows_X\n",
    "    train_rows_y = len(y) - test_rows_y\n",
    "    X_train = X.iloc[:train_rows_X]\n",
    "    X_test = X.iloc[train_rows_X:]\n",
    "    y_train = y[0:train_rows_y]\n",
    "    y_test = y[train_rows_y:len(y)]\n",
    "\n",
    "    return np.asarray([X_train, y_train, X_test, y_test])"
   ]
  },
  {
   "cell_type": "code",
   "execution_count": 15,
   "metadata": {},
   "outputs": [],
   "source": [
    "par = partitions(X_norm, y, 0.2)\n",
    "X_train = par[0]\n",
    "y_train = par[1]\n",
    "X_test = par[2]\n",
    "y_test = par[3]"
   ]
  },
  {
   "cell_type": "code",
   "execution_count": 16,
   "metadata": {},
   "outputs": [
    {
     "name": "stdout",
     "output_type": "stream",
     "text": [
      "Train Test Split Sizes:\n",
      "\n",
      "(1437, 64)\n",
      "(1437,)\n",
      "(360, 64)\n",
      "(360,)\n"
     ]
    }
   ],
   "source": [
    "print('Train Test Split Sizes:\\n')\n",
    "print(X_train.shape)\n",
    "print(y_train.shape)\n",
    "print(X_test.shape)\n",
    "print(y_test.shape)"
   ]
  },
  {
   "cell_type": "code",
   "execution_count": 17,
   "metadata": {
    "scrolled": false
   },
   "outputs": [
    {
     "name": "stdout",
     "output_type": "stream",
     "text": [
      "Epoch 1  of 300: Training Loss = 0.791853 | Validation Loss = 0.043568 | Validation Score = 0.000000 | Eta = 0.100000\n",
      "Epoch 2  of 300: Training Loss = 0.275331 | Validation Loss = 0.046073 | Validation Score = 0.937500 | Eta = 0.100000\n",
      "Epoch 3  of 300: Training Loss = 0.237012 | Validation Loss = 0.046177 | Validation Score = 0.979167 | Eta = 0.100000\n",
      "Epoch 4  of 300: Training Loss = 0.225776 | Validation Loss = 0.045765 | Validation Score = 0.965278 | Eta = 0.100000\n",
      "Epoch 5  of 300: Training Loss = 0.208624 | Validation Loss = 0.045837 | Validation Score = 0.979167 | Eta = 0.100000\n",
      "Epoch 6  of 300: Training Loss = 0.202152 | Validation Loss = 0.048650 | Validation Score = 0.979167 | Eta = 0.100000\n",
      "Epoch 7  of 300: Training Loss = 0.200389 | Validation Loss = 0.049850 | Validation Score = 0.986111 | Eta = 0.100000\n",
      "Epoch 8  of 300: Training Loss = 0.188964 | Validation Loss = 0.043301 | Validation Score = 0.986111 | Eta = 0.100000\n",
      "Epoch 9  of 300: Training Loss = 0.187972 | Validation Loss = 0.045636 | Validation Score = 0.965278 | Eta = 0.100000\n",
      "Epoch 10  of 300: Training Loss = 0.192239 | Validation Loss = 0.043316 | Validation Score = 0.979167 | Eta = 0.100000\n",
      "Epoch 11  of 300: Training Loss = 0.183736 | Validation Loss = 0.054690 | Validation Score = 0.993056 | Eta = 0.100000\n",
      "Epoch 12  of 300: Training Loss = 0.181685 | Validation Loss = 0.048061 | Validation Score = 0.986111 | Eta = 0.100000\n",
      "Epoch 13  of 300: Training Loss = 0.186386 | Validation Loss = 0.048600 | Validation Score = 0.986111 | Eta = 0.100000\n",
      "Epoch 14  of 300: Training Loss = 0.189384 | Validation Loss = 0.053219 | Validation Score = 0.958333 | Eta = 0.100000\n",
      "Epoch 15  of 300: Training Loss = 0.184870 | Validation Loss = 0.050804 | Validation Score = 0.972222 | Eta = 0.100000\n",
      "Epoch 16  of 300: Training Loss = 0.185760 | Validation Loss = 0.045701 | Validation Score = 0.979167 | Eta = 0.100000\n",
      "Epoch 17  of 300: Training Loss = 0.179120 | Validation Loss = 0.054718 | Validation Score = 0.993056 | Eta = 0.100000\n",
      "Epoch 18  of 300: Training Loss = 0.189417 | Validation Loss = 0.047342 | Validation Score = 0.972222 | Eta = 0.100000\n",
      "Epoch 19  of 300: Training Loss = 0.180868 | Validation Loss = 0.058494 | Validation Score = 0.993056 | Eta = 0.100000\n",
      "Early stopping because the validation score change between two consecutive epochs is less than (value of “0.000100”) over the last (value of  “19”) epochs.\n"
     ]
    }
   ],
   "source": [
    "model = MLPClassifier()\n",
    "train = model.fit(X_train, y_train, hidden_layer_neurons=25, activation='relu', regularizer='l2', alpha=0.001, learning_rate='constant', learning_rate_init=0.1, max_iter=300, tol=0.0001, verbose=True, early_stopping=True, validation_fraction=0.1, n_iter_no_change=10, lambd=0.0001)"
   ]
  },
  {
   "cell_type": "code",
   "execution_count": 18,
   "metadata": {},
   "outputs": [],
   "source": [
    "epochs = train[0][0]\n",
    "training_loss_list = train[1]\n",
    "validation_loss_list = train[2]\n",
    "val_score_list = train[3]"
   ]
  },
  {
   "cell_type": "code",
   "execution_count": 19,
   "metadata": {},
   "outputs": [],
   "source": [
    "y_pred = model.predict(X_test)[0]"
   ]
  },
  {
   "cell_type": "code",
   "execution_count": 20,
   "metadata": {},
   "outputs": [],
   "source": [
    "test_accuracy = accu_error(y_test,y_pred)[0]"
   ]
  },
  {
   "cell_type": "code",
   "execution_count": 21,
   "metadata": {},
   "outputs": [
    {
     "data": {
      "image/png": "[encoded data removed]",
      "text/plain": [
       "<Figure size 720x432 with 1 Axes>"
      ]
     },
     "metadata": {
      "needs_background": "light"
     },
     "output_type": "display_data"
    }
   ],
   "source": [
    "plt.figure(figsize=(10, 6))\n",
    "plt.plot(range(1,epochs+1), training_loss_list, \"r-+\", linewidth=3, label=\"Training Loss\")\n",
    "plt.plot(range(1,epochs+1), validation_loss_list, \"b-\", linewidth=2, label=\"Validation Loss\")\n",
    "plt.legend(loc=\"best\", fontsize=14)   \n",
    "plt.xlabel(\"No. of Epochs\", fontsize=14) \n",
    "plt.ylabel(\"Average Loss\", fontsize=14) \n",
    "plt.title(\"Training Loss vs Epochs\")\n",
    "plt.show()"
   ]
  },
  {
   "cell_type": "code",
   "execution_count": 22,
   "metadata": {},
   "outputs": [
    {
     "data": {
      "image/png": "[encoded data removed]",
      "text/plain": [
       "<Figure size 720x432 with 1 Axes>"
      ]
     },
     "metadata": {
      "needs_background": "light"
     },
     "output_type": "display_data"
    }
   ],
   "source": [
    "plt.figure(figsize=(10, 6))\n",
    "plt.plot(range(1,epochs+1), val_score_list, \"r-+\", linewidth=3, label=\"Validation Score\")\n",
    "plt.legend(loc=\"best\", fontsize=14)   \n",
    "plt.xlabel(\"No. of Epochs\", fontsize=14) \n",
    "plt.ylabel(\"Average Loss\", fontsize=14) \n",
    "plt.title(\"Scores vs Epochs\")\n",
    "plt.show()"
   ]
  },
  {
   "cell_type": "code",
   "execution_count": 23,
   "metadata": {},
   "outputs": [
    {
     "name": "stdout",
     "output_type": "stream",
     "text": [
      "Training Accuracy:  0.988169798190675\n",
      "\n",
      "Test - No. of correct predictions: 1420/1437\n",
      "\n",
      "Train - Confusion Matrix:\n",
      " [[143   0   0   0   0   0   0   0   0   0]\n",
      " [  0 139   1   0   0   2   1   0   3   0]\n",
      " [  0   0 142   0   0   0   0   0   0   0]\n",
      " [  0   0   0 146   0   0   0   0   0   0]\n",
      " [  0   0   0   0 141   0   1   1   0   1]\n",
      " [  0   0   0   0   0 144   0   0   0   1]\n",
      " [  0   0   0   0   0   0 144   0   0   0]\n",
      " [  0   0   0   0   0   1   0 142   0   0]\n",
      " [  0   0   0   0   0   1   0   0 140   0]\n",
      " [  0   0   0   1   0   1   0   0   2 139]]\n",
      "\n",
      "Train - Classification Report\n",
      "   precision    recall  f1_score\n",
      "0   1.000000  1.000000  1.000000\n",
      "1   1.000000  0.952055  0.975439\n",
      "2   0.993007  1.000000  0.996491\n",
      "3   0.993197  1.000000  0.996587\n",
      "4   1.000000  0.979167  0.989474\n",
      "5   0.966443  0.993103  0.979592\n",
      "6   0.986301  1.000000  0.993103\n",
      "7   0.993007  0.993007  0.993007\n",
      "8   0.965517  0.992908  0.979021\n",
      "9   0.985816  0.972028  0.978873\n"
     ]
    }
   ],
   "source": [
    "print('Training Accuracy: ', accu_error(y_train,model.predict(X_train)[0])[0])\n",
    "print('\\nTest - No. of correct predictions: %d/%d' %(accu_error(y_train,model.predict(X_train)[0])[0]*len(X_train), len(y_train)))\n",
    "\n",
    "train_confusion_matrix = cm(y_train, model.predict(X_train)[0])\n",
    "print('\\nTrain - Confusion Matrix:\\n', train_confusion_matrix)\n",
    "\n",
    "precision_values = precision(train_confusion_matrix)\n",
    "recall_values = recall(train_confusion_matrix)\n",
    "f1_score_values = f1_score(train_confusion_matrix)\n",
    "\n",
    "d = np.zeros((10,3))\n",
    "\n",
    "for i in range(10):\n",
    "    d[i][0] = precision_values[i]\n",
    "    d[i][1] = recall_values[i]\n",
    "    d[i][2] = f1_score_values[i]\n",
    "df = pd.DataFrame(d, columns=['precision' ,'recall', 'f1_score'])\n",
    "\n",
    "print('\\nTrain - Classification Report')\n",
    "print(df)"
   ]
  },
  {
   "cell_type": "code",
   "execution_count": 24,
   "metadata": {},
   "outputs": [
    {
     "name": "stdout",
     "output_type": "stream",
     "text": [
      "Test Accuracy:  0.9194444444444444\n",
      "\n",
      "Test - No. of correct predictions: 331/360\n",
      "\n",
      "Test - Confusion Matrix:\n",
      " [[33  0  0  0  1  0  1  0  0  0]\n",
      " [ 0 30  0  2  0  0  0  0  0  4]\n",
      " [ 0  0 35  0  0  0  0  0  0  0]\n",
      " [ 0  0  1 29  0  3  0  0  4  0]\n",
      " [ 0  0  0  0 34  0  0  0  3  0]\n",
      " [ 0  0  0  0  0 37  0  0  0  0]\n",
      " [ 0  1  0  0  0  0 36  0  0  0]\n",
      " [ 0  0  0  0  0  0  0 35  1  0]\n",
      " [ 0  1  0  1  0  2  0  0 29  0]\n",
      " [ 0  0  0  1  0  2  0  0  1 33]]\n",
      "\n",
      "Test - Classification Report\n",
      "   precision    recall  f1_score\n",
      "0   1.000000  0.942857  0.970588\n",
      "1   0.937500  0.833333  0.882353\n",
      "2   0.972222  1.000000  0.985915\n",
      "3   0.878788  0.783784  0.828571\n",
      "4   0.971429  0.918919  0.944444\n",
      "5   0.840909  1.000000  0.913580\n",
      "6   0.972973  0.972973  0.972973\n",
      "7   1.000000  0.972222  0.985915\n",
      "8   0.763158  0.878788  0.816901\n",
      "9   0.891892  0.891892  0.891892\n"
     ]
    }
   ],
   "source": [
    "print('Test Accuracy: ', test_accuracy)\n",
    "print('\\nTest - No. of correct predictions: %d/%d' %(test_accuracy*len(y_test), len(y_test)))\n",
    "\n",
    "test_confusion_matrix = cm(y_test, y_pred)\n",
    "print('\\nTest - Confusion Matrix:\\n', test_confusion_matrix)\n",
    "\n",
    "precision_values = precision(test_confusion_matrix)\n",
    "recall_values = recall(test_confusion_matrix)\n",
    "f1_score_values = f1_score(test_confusion_matrix)\n",
    "\n",
    "classification_list = []\n",
    "classification_list.append([precision_values])\n",
    "classification_list.append([recall_values])\n",
    "classification_list.append([f1_score_values])\n",
    "d = np.zeros((10,3))\n",
    "\n",
    "for i in range(10):\n",
    "    d[i][0] = precision_values[i]\n",
    "    d[i][1] = recall_values[i]\n",
    "    d[i][2] = f1_score_values[i]\n",
    "df = pd.DataFrame(d, columns=['precision' ,'recall', 'f1_score'])\n",
    "\n",
    "print('\\nTest - Classification Report')\n",
    "print(df)"
   ]
  },
  {
   "cell_type": "code",
   "execution_count": null,
   "metadata": {},
   "outputs": [],
   "source": []
  }
 ],
 "metadata": {
  "kernelspec": {
   "display_name": "Python 3",
   "language": "python",
   "name": "python3"
  },
  "language_info": {
   "codemirror_mode": {
    "name": "ipython",
    "version": 3
   },
   "file_extension": ".py",
   "mimetype": "text/x-python",
   "name": "python",
   "nbconvert_exporter": "python",
   "pygments_lexer": "ipython3",
   "version": "3.7.9"
  }
 },
 "nbformat": 4,
 "nbformat_minor": 2
}
