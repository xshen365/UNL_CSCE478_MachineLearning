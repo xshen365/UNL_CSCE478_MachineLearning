{
 "cells": [
  {
   "cell_type": "markdown",
   "metadata": {},
   "source": [
    "<font size=6>__Experiment 1__</font>"
   ]
  },
  {
   "cell_type": "code",
   "execution_count": 2,
   "metadata": {
    "scrolled": true
   },
   "outputs": [
    {
     "name": "stdout",
     "output_type": "stream",
     "text": [
      "Theta (MLE): 1.000000\n",
      "\n",
      "Theta (MAP): 1.000000\n",
      "\n",
      "Theta Mean: 0.916667\n",
      "\n",
      "Theta Standard Deviation: 0.996522\n"
     ]
    }
   ],
   "source": [
    "import numpy as np\n",
    "# n = 10, H = 10\n",
    "n = 10\n",
    "H = 10\n",
    "T = n - H\n",
    "theta_mle = H/n\n",
    "print('Theta (MLE): %f' %theta_mle)\n",
    "# uniform\n",
    "a = 1\n",
    "b = 1\n",
    "theta_map = (H+a-1)/(H+T+a+b-2)\n",
    "print('\\nTheta (MAP): %f' %theta_map)\n",
    "theta_posterior_mean = (H+a)/(H+T+a+b)\n",
    "print('\\nTheta Mean: %f' %theta_posterior_mean)\n",
    "#theta_posterior_std = np.sqrt((theta_mle*(1-theta_mle))/n)\n",
    "theta_posterior_std = np.sqrt(((a+H)*(b+T))/((a+H+b+T)**2)*(a+H+b+T+1))\n",
    "print('\\nTheta Standard Deviation: %f' %theta_posterior_std)"
   ]
  },
  {
   "cell_type": "markdown",
   "metadata": {},
   "source": [
    "<font size=6>__Experiment 2__</font>"
   ]
  },
  {
   "cell_type": "code",
   "execution_count": 14,
   "metadata": {},
   "outputs": [
    {
     "name": "stdout",
     "output_type": "stream",
     "text": [
      "Theta (MLE): 1.000000\n",
      "\n",
      "Theta (MAP): 0.846154\n",
      "\n",
      "Theta Mean: 0.800000\n",
      "\n",
      "Theta Standard Deviation: 1.600000\n"
     ]
    }
   ],
   "source": [
    "n = 10\n",
    "H = 10\n",
    "T = n - H\n",
    "a = 2\n",
    "b = 3\n",
    "theta_mle = H/n\n",
    "print('Theta (MLE): %f' %theta_mle)\n",
    "theta_map = (H+a-1)/(H+T+a+b-2)\n",
    "print('\\nTheta (MAP): %f' %theta_map)\n",
    "theta_posterior_mean = (H+a)/(H+T+a+b)\n",
    "print('\\nTheta Mean: %f' %theta_posterior_mean)\n",
    "theta_posterior_std = np.sqrt(((a+H)*(b+T))/((a+H+b+T)**2)*(a+H+b+T+1))\n",
    "print('\\nTheta Standard Deviation: %f' %theta_posterior_std)"
   ]
  },
  {
   "cell_type": "markdown",
   "metadata": {},
   "source": [
    "<font size=6>__Experiment 3__</font>"
   ]
  },
  {
   "cell_type": "code",
   "execution_count": 9,
   "metadata": {},
   "outputs": [
    {
     "name": "stdout",
     "output_type": "stream",
     "text": [
      "Theta (MLE): 0.850000\n",
      "\n",
      "Theta (MAP): 0.834951\n",
      "\n",
      "Theta Mean: 0.828571\n",
      "\n",
      "Theta Standard Deviation: 0.035707\n"
     ]
    }
   ],
   "source": [
    "n = 100\n",
    "H = 85\n",
    "T = n - H\n",
    "a = 2\n",
    "b = 3\n",
    "theta_mle = H/n\n",
    "print('Theta (MLE): %f' %theta_mle)\n",
    "theta_map = (H+a-1)/(H+T+a+b-2)\n",
    "print('\\nTheta (MAP): %f' %theta_map)\n",
    "theta_posterior_mean = (H+a)/(H+T+a+b)\n",
    "print('\\nTheta Mean: %f' %theta_posterior_mean)\n",
    "theta_posterior_std = np.sqrt((theta_mle*(1-theta_mle))/n)\n",
    "print('\\nTheta Standard Deviation: %f' %theta_posterior_std)"
   ]
  },
  {
   "cell_type": "markdown",
   "metadata": {},
   "source": [
    "<font size=6>__Experiment 4__</font>"
   ]
  },
  {
   "cell_type": "code",
   "execution_count": 10,
   "metadata": {},
   "outputs": [
    {
     "name": "stdout",
     "output_type": "stream",
     "text": [
      "Theta (MLE): 0.850000\n",
      "\n",
      "Theta (MAP): 0.143333\n",
      "\n",
      "Theta Mean: 0.144518\n",
      "\n",
      "Theta Standard Deviation: 0.035707\n"
     ]
    }
   ],
   "source": [
    "n = 100\n",
    "H = 85\n",
    "T = n - H\n",
    "a = 2\n",
    "b = 500\n",
    "theta_mle = H/n\n",
    "print('Theta (MLE): %f' %theta_mle)\n",
    "theta_map = (H+a-1)/(H+T+a+b-2)\n",
    "print('\\nTheta (MAP): %f' %theta_map)\n",
    "theta_posterior_mean = (H+a)/(H+T+a+b)\n",
    "print('\\nTheta Mean: %f' %theta_posterior_mean)\n",
    "theta_posterior_std = np.sqrt((theta_mle*(1-theta_mle))/n)\n",
    "print('\\nTheta Standard Deviation: %f' %theta_posterior_std)"
   ]
  },
  {
   "cell_type": "markdown",
   "metadata": {},
   "source": [
    "<font size=6>__Experiment 5__</font>"
   ]
  },
  {
   "cell_type": "code",
   "execution_count": 11,
   "metadata": {},
   "outputs": [
    {
     "name": "stdout",
     "output_type": "stream",
     "text": [
      "Theta (MLE): 0.850000\n",
      "\n",
      "Theta (MAP): 0.567333\n",
      "\n",
      "Theta Mean: 0.567244\n",
      "\n",
      "Theta Standard Deviation: 0.011292\n"
     ]
    }
   ],
   "source": [
    "n = 1000\n",
    "H = 850\n",
    "T = n - H\n",
    "a = 2\n",
    "b = 500\n",
    "theta_mle = H/n\n",
    "print('Theta (MLE): %f' %theta_mle)\n",
    "theta_map = (H+a-1)/(H+T+a+b-2)\n",
    "print('\\nTheta (MAP): %f' %theta_map)\n",
    "theta_posterior_mean = (H+a)/(H+T+a+b)\n",
    "print('\\nTheta Mean: %f' %theta_posterior_mean)\n",
    "theta_posterior_std = np.sqrt((theta_mle*(1-theta_mle))/n)\n",
    "print('\\nTheta Standard Deviation: %f' %theta_posterior_std)"
   ]
  },
  {
   "cell_type": "markdown",
   "metadata": {},
   "source": [
    "<font size=6>__Experiment 6__</font>"
   ]
  },
  {
   "cell_type": "code",
   "execution_count": 12,
   "metadata": {},
   "outputs": [
    {
     "name": "stdout",
     "output_type": "stream",
     "text": [
      "Theta (MLE): 0.850000\n",
      "\n",
      "Theta (MAP): 0.849576\n",
      "\n",
      "Theta Mean: 0.849576\n",
      "\n",
      "Theta Standard Deviation: 0.000357\n"
     ]
    }
   ],
   "source": [
    "n = 1000000\n",
    "H = 850000\n",
    "T = n - H\n",
    "a = 2\n",
    "b = 500\n",
    "theta_mle = H/n\n",
    "print('Theta (MLE): %f' %theta_mle)\n",
    "theta_map = (H+a-1)/(H+T+a+b-2)\n",
    "print('\\nTheta (MAP): %f' %theta_map)\n",
    "theta_posterior_mean = (H+a)/(H+T+a+b)\n",
    "print('\\nTheta Mean: %f' %theta_posterior_mean)\n",
    "theta_posterior_std = np.sqrt((theta_mle*(1-theta_mle))/n)\n",
    "print('\\nTheta Standard Deviation: %f' %theta_posterior_std)"
   ]
  },
  {
   "cell_type": "code",
   "execution_count": null,
   "metadata": {},
   "outputs": [],
   "source": []
  }
 ],
 "metadata": {
  "kernelspec": {
   "display_name": "Python 3",
   "language": "python",
   "name": "python3"
  },
  "language_info": {
   "codemirror_mode": {
    "name": "ipython",
    "version": 3
   },
   "file_extension": ".py",
   "mimetype": "text/x-python",
   "name": "python",
   "nbconvert_exporter": "python",
   "pygments_lexer": "ipython3",
   "version": "3.7.3"
  }
 },
 "nbformat": 4,
 "nbformat_minor": 2
}
