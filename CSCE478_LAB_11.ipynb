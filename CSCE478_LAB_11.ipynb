{
 "cells": [
  {
   "cell_type": "markdown",
   "metadata": {
    "collapsed": true
   },
   "source": [
    "# Multi-Layer Perceptron (MLP) - Model Invariance & Effect of Data Augmentation\n",
    "\n",
    "An important performance issue of a Multi-Layer Perceptron (MLP) is to consider whether its predictions remain unchanged, or invariant, under one or more transformations of the input data. \n",
    "\n",
    "In this recitation, you will implement a solution that ensures invariance of your MLP. \n",
    "\n",
    "You will investigate three types of invariance:\n",
    "- Translation Invariance\n",
    "- Rotation Invariance\n",
    "- Noise Invariance\n",
    "\n",
    "\n",
    "These invariance types are induced in the MLP by training it with an augmented training data. This dataset is created by adding replicas of the training patterns, transformed according to the desired invariances. \n",
    "\n",
    "For example:\n",
    "- For inducing translation invariance, training data is augmented by shifting the image along x-y axes.\n",
    "- For inducing rotation invariance, training data is augmented by rotating the image.\n",
    "- For inducing noise invariance, training data is augmented by adding Gaussian noise.\n",
    "\n",
    "For testing the MLP models you will use a given test data mat file from Canvas. The test data file contains images that are altered by translation/rotation/noise. However, you will not be told what type of transformations are done.\n",
    "\n",
    "For training the MLP models you will use a given training data mat file from Canvas. The training data file images are not augmented. It contains that images from the MNIST dataset.\n",
    "\n",
    "From the training dataset, a test subset will be created. This is a non-augmented test subset. Unlike the augmented test set, this test subset does not contain any augmented images.\n",
    "\n",
    "\n",
    "You will perform the following tasks.\n",
    "- Task 1: Train a MLP with training data (non-augmented) and evaluate its performance on both the non-augmented and augmented test subsets. [15 points]\n",
    "\n",
    "- Task 2: Using the augmented test set determine what type of augmentation needs to be done. [20 points]\n",
    "\n",
    "- Task 3: Augment the training data, [20 points]\n",
    "\n",
    "- Task 4: Train a MLP model by using the augmented training data and evaluate its performance on both the non-augmented and augmented test subsets. [45 points]\n",
    "\n",
    "\n",
    "Please complete the marked blocks in this notebook and answer the questions. For training the MLPs use the given setting."
   ]
  },
  {
   "cell_type": "code",
   "execution_count": 1,
   "metadata": {},
   "outputs": [],
   "source": [
    "import warnings\n",
    "import time\n",
    "import numpy as np\n",
    "import pandas as pd\n",
    "import copy \n",
    "import matplotlib.pyplot as plt\n",
    "%matplotlib inline\n",
    "from scipy.io import loadmat\n",
    "\n",
    "from scipy.ndimage.interpolation import shift, rotate\n",
    "from scipy.ndimage import gaussian_filter\n",
    "\n",
    "\n",
    "from sklearn.datasets import fetch_openml\n",
    "from sklearn.neural_network import MLPClassifier\n",
    "\n",
    "\n",
    "from sklearn.metrics import confusion_matrix, classification_report\n",
    "from sklearn.model_selection import train_test_split"
   ]
  },
  {
   "cell_type": "markdown",
   "metadata": {},
   "source": [
    "## Non-Augmented Data Matrix (X) and the Label Vector (y)\n",
    "\n",
    "\n",
    "We will use the MNIST dataset, which is a set of 70,000 small images of digits handwritten by high school students and employees of the US Census Bureau. Each image is labeled with the digit it represents.\n",
    "\n",
    "There are 70,000 images. Each image is 28x28 pixels, and each feature simply represents one pixel’s intensity, from 0 (white) to 255 (black).\n",
    "\n",
    "Thus, each image has 784 features. \n",
    "\n",
    "First load the data from a local folder (obtain it from Canvas) or load it directly from cloud using Scikit-Learn."
   ]
  },
  {
   "cell_type": "code",
   "execution_count": 2,
   "metadata": {},
   "outputs": [
    {
     "name": "stdout",
     "output_type": "stream",
     "text": [
      "\n",
      "No. of Samples:  (70000, 784)\n",
      "No. of Labels:  (70000,)\n",
      "\n",
      "X type:  float64\n",
      "y type:  int64\n"
     ]
    }
   ],
   "source": [
    "# Load the data from the local folder \"data\"\n",
    "mnist = loadmat('data/mnist-original.mat')\n",
    "\n",
    "#Create the data Matrix X and the target vector y\n",
    "X = mnist[\"data\"].T.astype('float64')\n",
    "y = mnist[\"label\"][0].astype('int64')\n",
    "\n",
    "# Load data using Scikit-Learn\n",
    "# mnist = fetch_openml('mnist_784', cache=False)\n",
    "\n",
    "# X = mnist[\"data\"].astype('float64')\n",
    "# y = mnist[\"target\"].astype('int64')\n",
    "\n",
    "\n",
    "print(\"\\nNo. of Samples: \", X.shape)\n",
    "print(\"No. of Labels: \", y.shape)\n",
    "\n",
    "print(\"\\nX type: \", X.dtype)\n",
    "print(\"y type: \", y.dtype)"
   ]
  },
  {
   "cell_type": "markdown",
   "metadata": {},
   "source": [
    "## Split Data Into Training and Test Sets\n",
    "\n",
    "We use sklearn's train_test_split function to spilt the dataset into training and test subsets. The data is shuffled by default before splitting.\n",
    "\n",
    "This function splits arrays or matrices into random train and test subsets.\n",
    "\n",
    "For the reproducibility of the results, we need to use the same seed for the random number generator. The seed is set by the \"random_state\" parameter of the split function.\n",
    "\n",
    "However, in repeated experiments if we don't want to use the same train and test subsets, then we drop the \"random_state\" parameter from the funtion."
   ]
  },
  {
   "cell_type": "code",
   "execution_count": 3,
   "metadata": {},
   "outputs": [
    {
     "name": "stdout",
     "output_type": "stream",
     "text": [
      "X_train:  (56000, 784)\n",
      "X_test:  (14000, 784)\n"
     ]
    }
   ],
   "source": [
    "X_train, X_test, y_train, y_test = train_test_split(X, y, test_size=0.2, random_state=0)\n",
    "\n",
    "\n",
    "print(\"X_train: \", X_train.shape)\n",
    "print(\"X_test: \", X_test.shape)"
   ]
  },
  {
   "cell_type": "markdown",
   "metadata": {},
   "source": [
    "## Data Augmentation\n",
    "\n",
    "We define the three functions for augmenting the data in the following ways:\n",
    "- Shifting the image along x-y coordinates (to add translation invariance)\n",
    "- Rotating the image (to add rotation invariance)\n",
    "- Blurring the image by adding Gaussian noise (to add noise invariance)\n",
    "\n",
    "\n",
    "You will use these functions later to augment the training data. Thus, carefully go through the three demos on how to use these three functions."
   ]
  },
  {
   "cell_type": "code",
   "execution_count": 4,
   "metadata": {},
   "outputs": [],
   "source": [
    "def shift_image(image, dx, dy):\n",
    "    image = image.reshape((28, 28))\n",
    "    shifted_image = shift(image, [dy, dx], cval=0, mode=\"constant\")\n",
    "    return shifted_image.reshape([-1])\n",
    "\n",
    "\n",
    "def rotate_image(image, angle):\n",
    "    image = image.reshape((28, 28))\n",
    "    rotated_image = rotate(image, angle, cval=0, mode=\"constant\", reshape=False)\n",
    "    return rotated_image.reshape([-1])\n",
    "\n",
    "\n",
    "def add_gaussian_noise_image(image, sigma):\n",
    "    image = image.reshape((28, 28))\n",
    "    gaussian_image = gaussian_filter(image, sigma, cval=0, mode=\"constant\") \n",
    "    return gaussian_image.reshape([-1])"
   ]
  },
  {
   "cell_type": "markdown",
   "metadata": {},
   "source": [
    "## Demo: How to Augment Data by Shifting"
   ]
  },
  {
   "cell_type": "code",
   "execution_count": 5,
   "metadata": {},
   "outputs": [
    {
     "data": {
      "image/png": "[encoded data removed]",
      "text/plain": [
       "<Figure size 1296x432 with 5 Axes>"
      ]
     },
     "metadata": {
      "needs_background": "light"
     },
     "output_type": "display_data"
    }
   ],
   "source": [
    "image = X_train[1000]\n",
    "shifted_image_1 = shift_image(image, 0, 5)\n",
    "shifted_image_2 = shift_image(image, 5, 0)\n",
    "shifted_image_3 = shift_image(image, 0, -5)\n",
    "shifted_image_4 = shift_image(image, -5, 0)\n",
    "\n",
    "\n",
    "plt.figure(figsize=(18,6))\n",
    "plt.subplot(151)\n",
    "plt.title(\"Original\", fontsize=14)\n",
    "plt.imshow(image.reshape(28, 28), interpolation=\"nearest\", cmap=\"Greys\")\n",
    "plt.subplot(152)\n",
    "plt.title(\"Shifted\", fontsize=14)\n",
    "plt.imshow(shifted_image_1.reshape(28, 28), interpolation=\"nearest\", cmap=\"Greys\")\n",
    "plt.subplot(153)\n",
    "plt.title(\"Shifted\", fontsize=14)\n",
    "plt.imshow(shifted_image_2.reshape(28, 28), interpolation=\"nearest\", cmap=\"Greys\")\n",
    "plt.subplot(154)\n",
    "plt.title(\"Shifted\", fontsize=14)\n",
    "plt.imshow(shifted_image_3.reshape(28, 28), interpolation=\"nearest\", cmap=\"Greys\")\n",
    "plt.subplot(155)\n",
    "plt.title(\"Shifted\", fontsize=14)\n",
    "plt.imshow(shifted_image_4.reshape(28, 28), interpolation=\"nearest\", cmap=\"Greys\")\n",
    "\n",
    "plt.show()"
   ]
  },
  {
   "cell_type": "markdown",
   "metadata": {},
   "source": [
    "# Demo: How to Augment Data by Rotation"
   ]
  },
  {
   "cell_type": "code",
   "execution_count": 6,
   "metadata": {},
   "outputs": [
    {
     "data": {
      "image/png": "[encoded data removed]",
      "text/plain": [
       "<Figure size 1296x432 with 5 Axes>"
      ]
     },
     "metadata": {
      "needs_background": "light"
     },
     "output_type": "display_data"
    }
   ],
   "source": [
    "image = X_train[1000]\n",
    "rotated_image_1 = rotate_image(image, -25)\n",
    "rotated_image_2 = rotate_image(image, -45)\n",
    "rotated_image_3 = rotate_image(image, 25)\n",
    "rotated_image_4 = rotate_image(image, 45)\n",
    "\n",
    "\n",
    "plt.figure(figsize=(18,6))\n",
    "plt.subplot(151)\n",
    "plt.title(\"Original\", fontsize=14)\n",
    "plt.imshow(image.reshape(28, 28), interpolation=\"nearest\", cmap=\"Greys\")\n",
    "plt.subplot(152)\n",
    "plt.title(\"Rotated\", fontsize=14)\n",
    "plt.imshow(rotated_image_1.reshape(28, 28), interpolation=\"nearest\", cmap=\"Greys\")\n",
    "plt.subplot(153)\n",
    "plt.title(\"Rotated\", fontsize=14)\n",
    "plt.imshow(rotated_image_2.reshape(28, 28), interpolation=\"nearest\", cmap=\"Greys\")\n",
    "plt.subplot(154)\n",
    "plt.title(\"Rotated\", fontsize=14)\n",
    "plt.imshow(rotated_image_3.reshape(28, 28), interpolation=\"nearest\", cmap=\"Greys\")\n",
    "plt.subplot(155)\n",
    "plt.title(\"Rotated\", fontsize=14)\n",
    "plt.imshow(rotated_image_4.reshape(28, 28), interpolation=\"nearest\", cmap=\"Greys\")\n",
    "plt.show()"
   ]
  },
  {
   "cell_type": "markdown",
   "metadata": {},
   "source": [
    "## Demo: How to Augment Data by Blurring"
   ]
  },
  {
   "cell_type": "code",
   "execution_count": 7,
   "metadata": {},
   "outputs": [
    {
     "data": {
      "image/png": "[encoded data removed]",
      "text/plain": [
       "<Figure size 1296x432 with 5 Axes>"
      ]
     },
     "metadata": {
      "needs_background": "light"
     },
     "output_type": "display_data"
    }
   ],
   "source": [
    "image = X_train[1000]\n",
    "gaussian_image_1 = add_gaussian_noise_image(image, 0.5)\n",
    "gaussian_image_2 = add_gaussian_noise_image(image, 1.0)\n",
    "gaussian_image_3 = add_gaussian_noise_image(image, 1.5)\n",
    "gaussian_image_4 = add_gaussian_noise_image(image, 2.0)\n",
    "\n",
    "\n",
    "plt.figure(figsize=(18,6))\n",
    "plt.subplot(151)\n",
    "plt.title(\"Original\", fontsize=14)\n",
    "plt.imshow(image.reshape(28, 28), interpolation=\"nearest\", cmap=\"Greys\")\n",
    "plt.subplot(152)\n",
    "plt.title(\"Blurred\", fontsize=14)\n",
    "plt.imshow(gaussian_image_1.reshape(28, 28), interpolation=\"nearest\", cmap=\"Greys\")\n",
    "plt.subplot(153)\n",
    "plt.title(\"Blurred\", fontsize=14)\n",
    "plt.imshow(gaussian_image_2.reshape(28, 28), interpolation=\"nearest\", cmap=\"Greys\")\n",
    "plt.subplot(154)\n",
    "plt.title(\"Blurred\", fontsize=14)\n",
    "plt.imshow(gaussian_image_3.reshape(28, 28), interpolation=\"nearest\", cmap=\"Greys\")\n",
    "plt.subplot(155)\n",
    "plt.title(\"Blurred\", fontsize=14)\n",
    "plt.imshow(gaussian_image_4.reshape(28, 28), interpolation=\"nearest\", cmap=\"Greys\")\n",
    "plt.show()"
   ]
  },
  {
   "cell_type": "markdown",
   "metadata": {},
   "source": [
    "## Load Augmented Test Data \n",
    "\n",
    "Load the following augmented test data file: Test_Data"
   ]
  },
  {
   "cell_type": "code",
   "execution_count": 8,
   "metadata": {},
   "outputs": [],
   "source": [
    "augmented_test_data = loadmat('data/Test_Data.mat')\n",
    "\n",
    "X_test_augmented = augmented_test_data[\"X_test\"].astype('float64')\n",
    "y_test_augmented = augmented_test_data[\"y_test\"][0].astype('int64')"
   ]
  },
  {
   "cell_type": "markdown",
   "metadata": {},
   "source": [
    "## Scale the Data"
   ]
  },
  {
   "cell_type": "code",
   "execution_count": 9,
   "metadata": {},
   "outputs": [],
   "source": [
    "# Create a deep copy of the training data for using it later for augmentation\n",
    "X_train_original = copy.deepcopy(X_train)\n",
    "\n",
    "\n",
    "X_train /= 255.0\n",
    "X_test /= 255.0\n",
    "X_test_augmented /= 255.0"
   ]
  },
  {
   "cell_type": "markdown",
   "metadata": {},
   "source": [
    "## Task 1: Train a MLP Model using Non-Augmened Training Data [5 points]"
   ]
  },
  {
   "cell_type": "code",
   "execution_count": 10,
   "metadata": {},
   "outputs": [
    {
     "name": "stdout",
     "output_type": "stream",
     "text": [
      "Iteration 1, loss = 0.40886675\n",
      "Validation score: 0.932679\n",
      "Iteration 2, loss = 0.19419106\n",
      "Validation score: 0.951429\n",
      "Iteration 3, loss = 0.14385625\n",
      "Validation score: 0.960000\n",
      "Iteration 4, loss = 0.11466252\n",
      "Validation score: 0.964464\n",
      "Iteration 5, loss = 0.09499003\n",
      "Validation score: 0.965714\n",
      "Iteration 6, loss = 0.08248333\n",
      "Validation score: 0.970357\n",
      "Iteration 7, loss = 0.07131126\n",
      "Validation score: 0.970179\n",
      "Iteration 8, loss = 0.06324839\n",
      "Validation score: 0.972500\n",
      "Iteration 9, loss = 0.05644300\n",
      "Validation score: 0.973929\n",
      "Iteration 10, loss = 0.05160096\n",
      "Validation score: 0.973571\n",
      "Iteration 11, loss = 0.04799070\n",
      "Validation score: 0.975179\n",
      "Iteration 12, loss = 0.04425474\n",
      "Validation score: 0.976786\n",
      "Iteration 13, loss = 0.04104076\n",
      "Validation score: 0.975893\n",
      "Iteration 14, loss = 0.03763602\n",
      "Validation score: 0.976786\n",
      "Iteration 15, loss = 0.03603052\n",
      "Validation score: 0.977321\n",
      "Iteration 16, loss = 0.03457569\n",
      "Validation score: 0.976786\n",
      "Iteration 17, loss = 0.03249957\n",
      "Validation score: 0.977143\n",
      "Iteration 18, loss = 0.03181334\n",
      "Validation score: 0.975714\n",
      "Iteration 19, loss = 0.02977752\n",
      "Validation score: 0.975714\n",
      "Iteration 20, loss = 0.02978653\n",
      "Validation score: 0.978571\n",
      "Iteration 21, loss = 0.02934286\n",
      "Validation score: 0.976607\n",
      "Iteration 22, loss = 0.02795728\n",
      "Validation score: 0.977143\n",
      "Iteration 23, loss = 0.02738316\n",
      "Validation score: 0.978571\n",
      "Iteration 24, loss = 0.02670965\n",
      "Validation score: 0.979107\n",
      "Iteration 25, loss = 0.02619358\n",
      "Validation score: 0.978750\n",
      "Iteration 26, loss = 0.02819997\n",
      "Validation score: 0.978393\n",
      "Iteration 27, loss = 0.02621332\n",
      "Validation score: 0.978929\n",
      "Iteration 28, loss = 0.02589854\n",
      "Validation score: 0.978929\n",
      "Iteration 29, loss = 0.02502447\n",
      "Validation score: 0.977500\n",
      "Iteration 30, loss = 0.02709255\n",
      "Validation score: 0.979107\n",
      "Iteration 31, loss = 0.02559986\n",
      "Validation score: 0.977679\n",
      "Iteration 32, loss = 0.02471329\n",
      "Validation score: 0.977679\n",
      "Iteration 33, loss = 0.02488966\n",
      "Validation score: 0.978036\n",
      "Iteration 34, loss = 0.02586494\n",
      "Validation score: 0.978036\n",
      "Iteration 35, loss = 0.02418881\n",
      "Validation score: 0.980000\n",
      "Iteration 36, loss = 0.02528651\n",
      "Validation score: 0.978036\n",
      "Iteration 37, loss = 0.02552080\n",
      "Validation score: 0.977679\n",
      "Iteration 38, loss = 0.02560515\n",
      "Validation score: 0.978214\n",
      "Iteration 39, loss = 0.02353292\n",
      "Validation score: 0.978571\n",
      "Iteration 40, loss = 0.02260024\n",
      "Validation score: 0.980179\n",
      "Iteration 41, loss = 0.02229075\n",
      "Validation score: 0.974286\n",
      "Iteration 42, loss = 0.02787461\n",
      "Validation score: 0.975536\n",
      "Iteration 43, loss = 0.02727729\n",
      "Validation score: 0.980893\n",
      "Iteration 44, loss = 0.02311337\n",
      "Validation score: 0.979464\n",
      "Iteration 45, loss = 0.02140246\n",
      "Validation score: 0.978750\n",
      "Iteration 46, loss = 0.02081665\n",
      "Validation score: 0.980893\n",
      "Iteration 47, loss = 0.02203741\n",
      "Validation score: 0.975714\n",
      "Iteration 48, loss = 0.02600482\n",
      "Validation score: 0.975714\n",
      "Iteration 49, loss = 0.02760327\n",
      "Validation score: 0.978214\n",
      "Iteration 50, loss = 0.02318629\n",
      "Validation score: 0.981071\n",
      "Iteration 51, loss = 0.02097697\n",
      "Validation score: 0.981607\n",
      "Iteration 52, loss = 0.02021470\n",
      "Validation score: 0.980714\n",
      "Iteration 53, loss = 0.02073017\n",
      "Validation score: 0.976964\n",
      "Iteration 54, loss = 0.02944007\n",
      "Validation score: 0.978214\n",
      "Iteration 55, loss = 0.02511713\n",
      "Validation score: 0.980357\n",
      "Iteration 56, loss = 0.02220720\n",
      "Validation score: 0.981964\n",
      "Iteration 57, loss = 0.02025180\n",
      "Validation score: 0.981250\n",
      "Iteration 58, loss = 0.02004214\n",
      "Validation score: 0.981071\n",
      "Iteration 59, loss = 0.02032923\n",
      "Validation score: 0.980357\n",
      "Iteration 60, loss = 0.02579718\n",
      "Validation score: 0.976964\n",
      "Iteration 61, loss = 0.02493349\n",
      "Validation score: 0.978571\n",
      "Iteration 62, loss = 0.02133586\n",
      "Validation score: 0.980357\n",
      "Iteration 63, loss = 0.02027566\n",
      "Validation score: 0.981607\n",
      "Iteration 64, loss = 0.01987844\n",
      "Validation score: 0.980000\n",
      "Iteration 65, loss = 0.02287605\n",
      "Validation score: 0.975357\n",
      "Iteration 66, loss = 0.02806353\n",
      "Validation score: 0.978750\n",
      "Iteration 67, loss = 0.02348852\n",
      "Validation score: 0.979821\n",
      "Validation score did not improve more than tol=0.000010 for 10 consecutive epochs. Stopping.\n",
      "CPU times: user 5min 32s, sys: 9.22 s, total: 5min 41s\n",
      "Wall time: 1min 27s\n"
     ]
    },
    {
     "data": {
      "text/plain": [
       "MLPClassifier(activation='relu', alpha=0.01, batch_size='auto', beta_1=0.9,\n",
       "              beta_2=0.999, early_stopping=True, epsilon=1e-08,\n",
       "              hidden_layer_sizes=(200,), learning_rate='constant',\n",
       "              learning_rate_init=0.001, max_iter=200, momentum=0.9,\n",
       "              n_iter_no_change=10, nesterovs_momentum=True, power_t=0.5,\n",
       "              random_state=1, shuffle=True, solver='adam', tol=1e-05,\n",
       "              validation_fraction=0.1, verbose=True, warm_start=False)"
      ]
     },
     "execution_count": 10,
     "metadata": {},
     "output_type": "execute_result"
    }
   ],
   "source": [
    "%%time\n",
    "mlp_clf = MLPClassifier(hidden_layer_sizes=(200,), max_iter=200, alpha=0.01,\n",
    "                    solver='adam', verbose=True, tol=1e-5, random_state=1, \n",
    "                    learning_rate='constant', learning_rate_init=0.001, activation='relu',\n",
    "                    early_stopping=True, n_iter_no_change=10)\n",
    "\n",
    "\n",
    "# Train the model using the non-augmented training data\n",
    "\n",
    "# TODO\n",
    "mlp_clf.fit(X_train, y_train)"
   ]
  },
  {
   "cell_type": "markdown",
   "metadata": {},
   "source": [
    "## Task 1: Evaluate the Model using Test Data (Non-Augmented & Augmented) [5 points]\n",
    "\n",
    "Show the training accuracy, test (non-augmented) accuracy and test (augmented) accuracy. "
   ]
  },
  {
   "cell_type": "code",
   "execution_count": 11,
   "metadata": {},
   "outputs": [
    {
     "name": "stdout",
     "output_type": "stream",
     "text": [
      "\n",
      "Training Accuracy (non-augmented):  0.9981428571428571\n",
      "\n",
      "Non-Augmented Test Accuracy (based on non-augmented model):  0.9808571428571429\n",
      "\n",
      "Augmented Test Accuracy (based on non-augmented model):  0.4307142857142857\n"
     ]
    }
   ],
   "source": [
    "# TODO\n",
    "y_train_pred_naug = mlp_clf.predict(X_train)\n",
    "accu_train_naug = np.mean(y_train == y_train_pred_naug)\n",
    "print(\"\\nTraining Accuracy (non-augmented): \", accu_train_naug)\n",
    "\n",
    "\n",
    "# TODO\n",
    "\n",
    "y_test_pred_naug = mlp_clf.predict(X_test)\n",
    "accu_test_naug = np.mean(y_test == y_test_pred_naug)\n",
    "print(\"\\nNon-Augmented Test Accuracy (based on non-augmented model): \", accu_test_naug)\n",
    "\n",
    "\n",
    "\n",
    "# TODO\n",
    "\n",
    "y_test_pred_aug = mlp_clf.predict(X_test_augmented)\n",
    "accu_test_aug = np.mean(y_test_augmented == y_test_pred_aug)\n",
    "print(\"\\nAugmented Test Accuracy (based on non-augmented model): \", accu_test_aug)"
   ]
  },
  {
   "cell_type": "markdown",
   "metadata": {},
   "source": [
    "## Question [5 points]: \n",
    "\n",
    "The augmented test data accuracy should be much smaller than the accuracy of the original (non-augmented) test data. \n",
    "\n",
    "- Explain why is the augmented test accuracy low?"
   ]
  },
  {
   "cell_type": "markdown",
   "metadata": {},
   "source": [
    "Answer: The MLP is not invariant to the translation of the images that are used for training.\n"
   ]
  },
  {
   "cell_type": "markdown",
   "metadata": {},
   "source": [
    "## Task 2: Detemine the Type of Data Augmentation [10 points]\n",
    "\n",
    "\n",
    "You need to analyze the augmented test data (X_test_augmented) to determine what type of augmentation is required for the training data. You may want to visualize a sequence of images (from X_test_augmented) to understand the type of required data augmentation. Please show your work.\n",
    "\n",
    "For example, if you observe that images are blurred (in X_test_augmented), then augment the training data by adding Gaussian noises. \n",
    "\n",
    "\n",
    "As an illustration of how to augment the training data, carefully go through the following block. It shows how to augment the training data by blurring the images. You need to edit the code according to the required data augmentation technique (shifting/rotation/blurring) that you want to apply.\n",
    "\n",
    "\n",
    "Depending on the augmentation technique, you need to determine the following parameter values for the augmentation function as well:\n",
    "- Shifting: dx & dy\n",
    "- Rotation: angle\n",
    "- Blurring: sigma\n",
    "\n",
    "Use at least four values for each parameter to augment the data."
   ]
  },
  {
   "cell_type": "code",
   "execution_count": 12,
   "metadata": {},
   "outputs": [
    {
     "name": "stdout",
     "output_type": "stream",
     "text": [
      "CPU times: user 784 ms, sys: 14.4 ms, total: 798 ms\n",
      "Wall time: 332 ms\n"
     ]
    },
    {
     "name": "stderr",
     "output_type": "stream",
     "text": [
      "//anaconda3/lib/python3.7/site-packages/ipykernel_launcher.py:9: RuntimeWarning: More than 20 figures have been opened. Figures created through the pyplot interface (`matplotlib.pyplot.figure`) are retained until explicitly closed and may consume too much memory. (To control this warning, see the rcParam `figure.max_open_warning`).\n",
      "  if __name__ == '__main__':\n"
     ]
    },
    {
     "data": {
      "text/plain": [
       "'\\nAnalysis of the augmented test data (X_test_augmented) \\n to determine what type of augmentation required for the training data\\n'"
      ]
     },
     "execution_count": 12,
     "metadata": {},
     "output_type": "execute_result"
    },
    {
     "data": {
      "image/png": "[encoded data removed]",
      "text/plain": [
       "<Figure size 1296x432 with 1 Axes>"
      ]
     },
     "metadata": {
      "needs_background": "light"
     },
     "output_type": "display_data"
    },
    {
     "data": {
      "image/png": "[encoded data removed]",
      "text/plain": [
       "<Figure size 1296x432 with 1 Axes>"
      ]
     },
     "metadata": {
      "needs_background": "light"
     },
     "output_type": "display_data"
    },
    {
     "data": {
      "image/png": "[encoded data removed]",
      "text/plain": [
       "<Figure size 1296x432 with 1 Axes>"
      ]
     },
     "metadata": {
      "needs_background": "light"
     },
     "output_type": "display_data"
    },
    {
     "data": {
      "image/png": "[encoded data removed]",
      "text/plain": [
       "<Figure size 1296x432 with 1 Axes>"
      ]
     },
     "metadata": {
      "needs_background": "light"
     },
     "output_type": "display_data"
    },
    {
     "data": {
      "image/png": "[encoded data removed]",
      "text/plain": [
       "<Figure size 1296x432 with 1 Axes>"
      ]
     },
     "metadata": {
      "needs_background": "light"
     },
     "output_type": "display_data"
    },
    {
     "data": {
      "image/png": "[encoded data removed]",
      "text/plain": [
       "<Figure size 1296x432 with 1 Axes>"
      ]
     },
     "metadata": {
      "needs_background": "light"
     },
     "output_type": "display_data"
    },
    {
     "data": {
      "image/png": "[encoded data removed]",
      "text/plain": [
       "<Figure size 1296x432 with 1 Axes>"
      ]
     },
     "metadata": {
      "needs_background": "light"
     },
     "output_type": "display_data"
    },
    {
     "data": {
      "image/png": "[encoded data removed]",
      "text/plain": [
       "<Figure size 1296x432 with 1 Axes>"
      ]
     },
     "metadata": {
      "needs_background": "light"
     },
     "output_type": "display_data"
    },
    {
     "data": {
      "image/png": "[encoded data removed]",
      "text/plain": [
       "<Figure size 1296x432 with 1 Axes>"
      ]
     },
     "metadata": {
      "needs_background": "light"
     },
     "output_type": "display_data"
    },
    {
     "data": {
      "image/png": "[encoded data removed]",
      "text/plain": [
       "<Figure size 1296x432 with 1 Axes>"
      ]
     },
     "metadata": {
      "needs_background": "light"
     },
     "output_type": "display_data"
    },
    {
     "data": {
      "image/png": "[encoded data removed]",
      "text/plain": [
       "<Figure size 1296x432 with 1 Axes>"
      ]
     },
     "metadata": {
      "needs_background": "light"
     },
     "output_type": "display_data"
    },
    {
     "data": {
      "image/png": "[encoded data removed]",
      "text/plain": [
       "<Figure size 1296x432 with 1 Axes>"
      ]
     },
     "metadata": {
      "needs_background": "light"
     },
     "output_type": "display_data"
    },
    {
     "data": {
      "image/png": "[encoded data removed]",
      "text/plain": [
       "<Figure size 1296x432 with 1 Axes>"
      ]
     },
     "metadata": {
      "needs_background": "light"
     },
     "output_type": "display_data"
    },
    {
     "data": {
      "image/png": "[encoded data removed]",
      "text/plain": [
       "<Figure size 1296x432 with 1 Axes>"
      ]
     },
     "metadata": {
      "needs_background": "light"
     },
     "output_type": "display_data"
    },
    {
     "data": {
      "image/png": "[encoded data removed]",
      "text/plain": [
       "<Figure size 1296x432 with 1 Axes>"
      ]
     },
     "metadata": {
      "needs_background": "light"
     },
     "output_type": "display_data"
    },
    {
     "data": {
      "image/png": "[encoded data removed]",
      "text/plain": [
       "<Figure size 1296x432 with 1 Axes>"
      ]
     },
     "metadata": {
      "needs_background": "light"
     },
     "output_type": "display_data"
    },
    {
     "data": {
      "image/png": "[encoded data removed]",
      "text/plain": [
       "<Figure size 1296x432 with 1 Axes>"
      ]
     },
     "metadata": {
      "needs_background": "light"
     },
     "output_type": "display_data"
    },
    {
     "data": {
      "image/png": "[encoded data removed]",
      "text/plain": [
       "<Figure size 1296x432 with 1 Axes>"
      ]
     },
     "metadata": {
      "needs_background": "light"
     },
     "output_type": "display_data"
    },
    {
     "data": {
      "image/png": "[encoded data removed]",
      "text/plain": [
       "<Figure size 1296x432 with 1 Axes>"
      ]
     },
     "metadata": {
      "needs_background": "light"
     },
     "output_type": "display_data"
    },
    {
     "data": {
      "image/png": "[encoded data removed]",
      "text/plain": [
       "<Figure size 1296x432 with 1 Axes>"
      ]
     },
     "metadata": {
      "needs_background": "light"
     },
     "output_type": "display_data"
    },
    {
     "data": {
      "image/png": "[encoded data removed]",
      "text/plain": [
       "<Figure size 1296x432 with 1 Axes>"
      ]
     },
     "metadata": {
      "needs_background": "light"
     },
     "output_type": "display_data"
    },
    {
     "data": {
      "image/png": "[encoded data removed]",
      "text/plain": [
       "<Figure size 1296x432 with 1 Axes>"
      ]
     },
     "metadata": {
      "needs_background": "light"
     },
     "output_type": "display_data"
    },
    {
     "data": {
      "image/png": "[encoded data removed]",
      "text/plain": [
       "<Figure size 1296x432 with 1 Axes>"
      ]
     },
     "metadata": {
      "needs_background": "light"
     },
     "output_type": "display_data"
    },
    {
     "data": {
      "image/png": "[encoded data removed]",
      "text/plain": [
       "<Figure size 1296x432 with 1 Axes>"
      ]
     },
     "metadata": {
      "needs_background": "light"
     },
     "output_type": "display_data"
    },
    {
     "data": {
      "image/png": "[encoded data removed]",
      "text/plain": [
       "<Figure size 1296x432 with 1 Axes>"
      ]
     },
     "metadata": {
      "needs_background": "light"
     },
     "output_type": "display_data"
    },
    {
     "data": {
      "image/png": "[encoded data removed]",
      "text/plain": [
       "<Figure size 1296x432 with 1 Axes>"
      ]
     },
     "metadata": {
      "needs_background": "light"
     },
     "output_type": "display_data"
    },
    {
     "data": {
      "image/png": "[encoded data removed]",
      "text/plain": [
       "<Figure size 1296x432 with 1 Axes>"
      ]
     },
     "metadata": {
      "needs_background": "light"
     },
     "output_type": "display_data"
    },
    {
     "data": {
      "image/png": "[encoded data removed]",
      "text/plain": [
       "<Figure size 1296x432 with 1 Axes>"
      ]
     },
     "metadata": {
      "needs_background": "light"
     },
     "output_type": "display_data"
    }
   ],
   "source": [
    "%%time\n",
    "# TODO \n",
    "for i in X_test_augmented[1:10, :]: \n",
    "    plt.figure(figsize=(18,6))\n",
    "    plt.subplot(151)\n",
    "    plt.title(\"Augmented\", fontsize=14)\n",
    "    plt.imshow(i.reshape(28, 28), interpolation=\"nearest\", cmap=\"Greys\")\n",
    "\n",
    "for i in X_train_original[1:20, :]:\n",
    "    plt.figure(figsize=(18,6))\n",
    "    plt.subplot(151)\n",
    "    plt.title(\"Original\", fontsize=14)\n",
    "    plt.imshow(i.reshape(28, 28), interpolation=\"nearest\", cmap=\"Greys\")\n",
    "'''\n",
    "Analysis of the augmented test data (X_test_augmented) \n",
    " to determine what type of augmentation required for the training data\n",
    "'''"
   ]
  },
  {
   "cell_type": "markdown",
   "metadata": {},
   "source": [
    "Question 1 [5 points]: What data augmentation would you like to perform? Justify?\n",
    "\n",
    "- Answer: The data would be rotated. Through printing out some of the augmented data as pictures I found some of them are tilted somewhat.\n",
    "\n",
    "\n",
    "\n",
    "Question 2 [5 points]: What are the four values that you plan to use for the parameter of the augmentation function?\n",
    "\n",
    "- Answer: I would rotate the images by unit: 45, 90, 135, 180.\n",
    "              "
   ]
  },
  {
   "cell_type": "markdown",
   "metadata": {},
   "source": [
    "## Task 3: Augment the Training Data [20 points]"
   ]
  },
  {
   "cell_type": "code",
   "execution_count": 13,
   "metadata": {},
   "outputs": [
    {
     "name": "stdout",
     "output_type": "stream",
     "text": [
      "X_train_augmented Shape:  (280000, 784)\n",
      "CPU times: user 42.3 s, sys: 2.31 s, total: 44.6 s\n",
      "Wall time: 45 s\n"
     ]
    }
   ],
   "source": [
    "%%time\n",
    "\n",
    "X_train_augmented = [image for image in X_train_original ]\n",
    "y_train_augmented = [label for label in y_train]\n",
    "\n",
    "\n",
    "# TODO\n",
    "# Edit the following code block to implement appropriate augmentation\n",
    "#for dx, dy in ((3, 0), (-3, 0), (0, 3), (0, 4), (0, -3), (0, -4), (0, -5), (0, -6), (0, -7)):\n",
    "#    for image, label in zip(X_train_original, y_train):\n",
    "#        X_train_augmented.append(shift_image(image, dx, dy))\n",
    "#        y_train_augmented.append(label)\n",
    "        \n",
    "        \n",
    "for rt in (45, 90, 135, 180):\n",
    "    for image, label in zip(X_train_original, y_train):\n",
    "        X_train_augmented.append(rotate_image(image, rt))\n",
    "        y_train_augmented.append(label)\n",
    "\n",
    "        \n",
    "# Augmentation by blurring\n",
    "#for sigma in (0.5, 1.0, 1.5, 2.0):\n",
    "#    for image, label in zip(X_train_original, y_train):\n",
    "#        X_train_augmented.append(add_gaussian_noise_image(image, sigma))\n",
    "#        y_train_augmented.append(label)\n",
    "\n",
    "X_train_augmented = np.array(X_train_augmented)\n",
    "y_train_augmented = np.array(y_train_augmented)\n",
    "\n",
    "print(\"X_train_augmented Shape: \", X_train_augmented.shape)"
   ]
  },
  {
   "cell_type": "markdown",
   "metadata": {},
   "source": [
    "## Randomize the Augmented Data"
   ]
  },
  {
   "cell_type": "code",
   "execution_count": 14,
   "metadata": {},
   "outputs": [],
   "source": [
    "shuffle_idx = np.random.permutation(len(X_train_augmented))\n",
    "X_train_augmented = X_train_augmented[shuffle_idx]\n",
    "y_train_augmented = y_train_augmented[shuffle_idx]"
   ]
  },
  {
   "cell_type": "markdown",
   "metadata": {},
   "source": [
    "## Scale the Augmented Training Data"
   ]
  },
  {
   "cell_type": "code",
   "execution_count": 15,
   "metadata": {},
   "outputs": [],
   "source": [
    "X_train_augmented /= 255.0"
   ]
  },
  {
   "cell_type": "markdown",
   "metadata": {},
   "source": [
    "## Task 4: Train a MLP Model using Augmened Training Data"
   ]
  },
  {
   "cell_type": "code",
   "execution_count": 16,
   "metadata": {},
   "outputs": [
    {
     "name": "stdout",
     "output_type": "stream",
     "text": [
      "Iteration 1, loss = 0.50224294\n",
      "Validation score: 0.918036\n",
      "Iteration 2, loss = 0.24971122\n",
      "Validation score: 0.936964\n",
      "Iteration 3, loss = 0.20192995\n",
      "Validation score: 0.944786\n",
      "Iteration 4, loss = 0.17825386\n",
      "Validation score: 0.950214\n",
      "Iteration 5, loss = 0.16404057\n",
      "Validation score: 0.950929\n",
      "Iteration 6, loss = 0.15394827\n",
      "Validation score: 0.953179\n",
      "Iteration 7, loss = 0.14691273\n",
      "Validation score: 0.953357\n",
      "Iteration 8, loss = 0.13998894\n",
      "Validation score: 0.955571\n",
      "Iteration 9, loss = 0.13575104\n",
      "Validation score: 0.954857\n",
      "Iteration 10, loss = 0.13162668\n",
      "Validation score: 0.957179\n",
      "Iteration 11, loss = 0.12758550\n",
      "Validation score: 0.956857\n",
      "Iteration 12, loss = 0.12371897\n",
      "Validation score: 0.956214\n",
      "Iteration 13, loss = 0.12252429\n",
      "Validation score: 0.956071\n",
      "Iteration 14, loss = 0.11924956\n",
      "Validation score: 0.954071\n",
      "Iteration 15, loss = 0.11748981\n",
      "Validation score: 0.956357\n",
      "Iteration 16, loss = 0.11460634\n",
      "Validation score: 0.957036\n",
      "Iteration 17, loss = 0.11385131\n",
      "Validation score: 0.956929\n",
      "Iteration 18, loss = 0.11167746\n",
      "Validation score: 0.956250\n",
      "Iteration 19, loss = 0.10992693\n",
      "Validation score: 0.957857\n",
      "Iteration 20, loss = 0.10996545\n",
      "Validation score: 0.958536\n",
      "Iteration 21, loss = 0.10820245\n",
      "Validation score: 0.959536\n",
      "Iteration 22, loss = 0.10693198\n",
      "Validation score: 0.959679\n",
      "Iteration 23, loss = 0.10577976\n",
      "Validation score: 0.959393\n",
      "Iteration 24, loss = 0.10436986\n",
      "Validation score: 0.959821\n",
      "Iteration 25, loss = 0.10365364\n",
      "Validation score: 0.959179\n",
      "Iteration 26, loss = 0.10403138\n",
      "Validation score: 0.958321\n",
      "Iteration 27, loss = 0.10250520\n",
      "Validation score: 0.956071\n",
      "Iteration 28, loss = 0.10171698\n",
      "Validation score: 0.958536\n",
      "Iteration 29, loss = 0.10122388\n",
      "Validation score: 0.959857\n",
      "Iteration 30, loss = 0.10083525\n",
      "Validation score: 0.958571\n",
      "Iteration 31, loss = 0.09985221\n",
      "Validation score: 0.959643\n",
      "Iteration 32, loss = 0.09971901\n",
      "Validation score: 0.959143\n",
      "Iteration 33, loss = 0.09879397\n",
      "Validation score: 0.957750\n",
      "Iteration 34, loss = 0.09810099\n",
      "Validation score: 0.960321\n",
      "Iteration 35, loss = 0.09792112\n",
      "Validation score: 0.960036\n",
      "Iteration 36, loss = 0.09673010\n",
      "Validation score: 0.958607\n",
      "Iteration 37, loss = 0.09727404\n",
      "Validation score: 0.959000\n",
      "Iteration 38, loss = 0.09698851\n",
      "Validation score: 0.960000\n",
      "Iteration 39, loss = 0.09609493\n",
      "Validation score: 0.959393\n",
      "Iteration 40, loss = 0.09559958\n",
      "Validation score: 0.959750\n",
      "Iteration 41, loss = 0.09581828\n",
      "Validation score: 0.960321\n",
      "Iteration 42, loss = 0.09489919\n",
      "Validation score: 0.959643\n",
      "Iteration 43, loss = 0.09530444\n",
      "Validation score: 0.960179\n",
      "Iteration 44, loss = 0.09447091\n",
      "Validation score: 0.958750\n",
      "Iteration 45, loss = 0.09558976\n",
      "Validation score: 0.959036\n",
      "Validation score did not improve more than tol=0.000010 for 10 consecutive epochs. Stopping.\n",
      "CPU times: user 26min 4s, sys: 35.3 s, total: 26min 39s\n",
      "Wall time: 7min 16s\n"
     ]
    },
    {
     "data": {
      "text/plain": [
       "MLPClassifier(activation='relu', alpha=0.01, batch_size='auto', beta_1=0.9,\n",
       "              beta_2=0.999, early_stopping=True, epsilon=1e-08,\n",
       "              hidden_layer_sizes=(200,), learning_rate='constant',\n",
       "              learning_rate_init=0.001, max_iter=200, momentum=0.9,\n",
       "              n_iter_no_change=10, nesterovs_momentum=True, power_t=0.5,\n",
       "              random_state=1, shuffle=True, solver='adam', tol=1e-05,\n",
       "              validation_fraction=0.1, verbose=True, warm_start=False)"
      ]
     },
     "execution_count": 16,
     "metadata": {},
     "output_type": "execute_result"
    }
   ],
   "source": [
    "%%time\n",
    "mlp_clf_aug = MLPClassifier(hidden_layer_sizes=(200,), max_iter=200, alpha=0.01,\n",
    "                    solver='adam', verbose=True, tol=1e-5, random_state=1, \n",
    "                    learning_rate='constant', learning_rate_init=0.001, activation='relu',\n",
    "                    early_stopping=True, n_iter_no_change=10)\n",
    "\n",
    "\n",
    "# Train the model using the augmented training data\n",
    "\n",
    "# TODO\n",
    "mlp_clf_aug.fit(X_train_augmented, y_train_augmented)"
   ]
  },
  {
   "cell_type": "markdown",
   "metadata": {},
   "source": [
    "## Task 4: Evaluate the Model using Test Data (Non-Augmented & Augmented) [20 points]\n",
    "\n",
    "Show the training accuracy, test (non-augmented) accuracy and test (augmented) accuracy. "
   ]
  },
  {
   "cell_type": "code",
   "execution_count": 17,
   "metadata": {},
   "outputs": [
    {
     "name": "stdout",
     "output_type": "stream",
     "text": [
      "\n",
      "Training Accuracy (based on augmented model):  0.9852714285714286\n",
      "\n",
      "Non-Augmented Test Accuracy (based on augmented model):  0.9575\n",
      "\n",
      "Augmented Test Accuracy (based on augmented model):  0.9597428571428571\n"
     ]
    }
   ],
   "source": [
    "# TODO\n",
    "y_train_pred_aug = mlp_clf_aug.predict(X_train_augmented)\n",
    "accu_train_aug = np.mean(y_train_augmented == y_train_pred_aug)\n",
    "print(\"\\nTraining Accuracy (based on augmented model): \",  accu_train_aug)\n",
    "\n",
    "\n",
    "# TODO\n",
    "y_test_pred_naug_based_on_aug = mlp_clf_aug.predict(X_test)\n",
    "accu_test_aug_based_on_naug = np.mean(y_test == y_test_pred_naug_based_on_aug)\n",
    "print(\"\\nNon-Augmented Test Accuracy (based on augmented model): \", accu_test_aug_based_on_naug)\n",
    "\n",
    "\n",
    "\n",
    "# TODO\n",
    "y_test_pred_aug_based_on_aug = mlp_clf_aug.predict(X_test_augmented)\n",
    "accu_test_aug_based_on_aug = np.mean(y_test_augmented == y_test_pred_aug_based_on_aug)\n",
    "print(\"\\nAugmented Test Accuracy (based on augmented model): \", accu_test_aug_based_on_aug)"
   ]
  },
  {
   "cell_type": "markdown",
   "metadata": {},
   "source": [
    "## Report Your Observation [25 points]\n",
    "\n",
    "Using a table report the effect of the data augmentation on the models performance."
   ]
  },
  {
   "cell_type": "code",
   "execution_count": 18,
   "metadata": {},
   "outputs": [
    {
     "name": "stdout",
     "output_type": "stream",
     "text": [
      "\n",
      "Augmented Test Accuracy (based on non-augmented model):  0.4307142857142857\n",
      "\n",
      "Augmented Test Accuracy (based on augmented model):  0.9597428571428571\n"
     ]
    }
   ],
   "source": [
    "\n",
    "print(\"\\nAugmented Test Accuracy (based on non-augmented model): \", accu_test_aug)\n",
    "\n",
    "print(\"\\nAugmented Test Accuracy (based on augmented model): \", accu_test_aug_based_on_aug)"
   ]
  },
  {
   "cell_type": "code",
   "execution_count": 21,
   "metadata": {},
   "outputs": [
    {
     "data": {
      "text/html": [
       "<div>\n",
       "<style scoped>\n",
       "    .dataframe tbody tr th:only-of-type {\n",
       "        vertical-align: middle;\n",
       "    }\n",
       "\n",
       "    .dataframe tbody tr th {\n",
       "        vertical-align: top;\n",
       "    }\n",
       "\n",
       "    .dataframe thead th {\n",
       "        text-align: right;\n",
       "    }\n",
       "</style>\n",
       "<table border=\"1\" class=\"dataframe\">\n",
       "  <thead>\n",
       "    <tr style=\"text-align: right;\">\n",
       "      <th></th>\n",
       "      <th>Data Form</th>\n",
       "      <th>Train Accuracy</th>\n",
       "      <th>Test Accuracy</th>\n",
       "      <th>Train Size</th>\n",
       "      <th>Training Time</th>\n",
       "    </tr>\n",
       "  </thead>\n",
       "  <tbody>\n",
       "    <tr>\n",
       "      <th>0</th>\n",
       "      <td>Non-augmented</td>\n",
       "      <td>0.998143</td>\n",
       "      <td>0.430714</td>\n",
       "      <td>(56000, 784)</td>\n",
       "      <td>1min 27s</td>\n",
       "    </tr>\n",
       "    <tr>\n",
       "      <th>1</th>\n",
       "      <td>Augmented</td>\n",
       "      <td>0.985271</td>\n",
       "      <td>0.959743</td>\n",
       "      <td>(280000, 784)</td>\n",
       "      <td>7min 16s</td>\n",
       "    </tr>\n",
       "  </tbody>\n",
       "</table>\n",
       "</div>"
      ],
      "text/plain": [
       "       Data Form  Train Accuracy  Test Accuracy     Train Size Training Time\n",
       "0  Non-augmented        0.998143       0.430714   (56000, 784)      1min 27s\n",
       "1      Augmented        0.985271       0.959743  (280000, 784)      7min 16s"
      ]
     },
     "execution_count": 21,
     "metadata": {},
     "output_type": "execute_result"
    }
   ],
   "source": [
    "d = [['Non-augmented', accu_train_naug, accu_test_aug, X_train.shape, '1min 27s'],\n",
    "    ['Augmented', accu_train_aug, accu_test_aug_based_on_aug, X_train_augmented.shape, '7min 16s']]\n",
    "pd.DataFrame(d, columns=['Data Form' ,'Train Accuracy', 'Test Accuracy', 'Train Size', 'Training Time'])"
   ]
  },
  {
   "cell_type": "code",
   "execution_count": null,
   "metadata": {},
   "outputs": [],
   "source": []
  }
 ],
 "metadata": {
  "anaconda-cloud": {},
  "kernelspec": {
   "display_name": "Python 3",
   "language": "python",
   "name": "python3"
  },
  "language_info": {
   "codemirror_mode": {
    "name": "ipython",
    "version": 3
   },
   "file_extension": ".py",
   "mimetype": "text/x-python",
   "name": "python",
   "nbconvert_exporter": "python",
   "pygments_lexer": "ipython3",
   "version": "3.7.5"
  }
 },
 "nbformat": 4,
 "nbformat_minor": 1
}
