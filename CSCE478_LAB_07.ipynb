{
 "cells": [
  {
   "cell_type": "markdown",
   "metadata": {},
   "source": [
    "## Linear Regression - OLS Polynomial Regression & Stochastic Gradient Descent \n",
    "\n",
    "\n",
    "There are four tasks for this recitation:\n",
    "- Perform Polynomial Regression using sklearn's OLS method\n",
    "- Plot degree vs. error to choose optimal degree for a fixed set datasize\n",
    "- Plot learning curves to investigate how the size of training data influeces the model performance for various polynomial models\n",
    "- Using the optimal degree obtained from OLS Polynomial Regression, perform Linear (Polynomial) Regression using sklearn's SGDRegressor\n",
    "\n",
    "You will use the **Red wine** quality dataset from the following link.\n",
    "\n",
    "### Dataset\n",
    "\n",
    "URL: https://archive.ics.uci.edu/ml/datasets/wine+quality\n",
    "\n",
    "The dataset is related to the **Red** variants of the Portuguese \"Vinho Verde\" wine. It provides the physicochemical (inputs) and sensory (the output) variables are available.\n",
    "\n",
    "The dataset consists of characteristics of white wine (e.g., alcohol content, density, amount of citric acid, pH, etc) with target variable \"quality\" representing rating of wine.\n",
    "\n",
    "\n",
    "Given the characteristics of a new, unlabeled wine, the regression task is to predict its \"quality\".\n",
    "\n",
    "Input variables (based on physicochemical tests):\n",
    "- fixed acidity\n",
    "- volatile acidity\n",
    "- citric acid\n",
    "- residual sugar\n",
    "- chlorides\n",
    "- free sulfur dioxide\n",
    "- total sulfur dioxide\n",
    "- density\n",
    "- pH\n",
    "- sulphates\n",
    "- alcohol\n",
    "\n",
    "Output variable (based on sensory data): \n",
    "- quality \n"
   ]
  },
  {
   "cell_type": "code",
   "execution_count": 1,
   "metadata": {},
   "outputs": [],
   "source": [
    "import warnings\n",
    "import numpy as np\n",
    "import pandas as pd\n",
    "%matplotlib inline\n",
    "import matplotlib.pyplot as plt\n",
    "\n",
    "from sklearn import datasets\n",
    "from sklearn.preprocessing import StandardScaler\n",
    "from sklearn.model_selection import train_test_split, learning_curve, GridSearchCV, cross_val_score\n",
    "from sklearn.linear_model import LinearRegression, Ridge, Lasso, ElasticNet, SGDRegressor\n",
    "from sklearn.metrics import mean_squared_error, r2_score\n",
    "from sklearn.preprocessing import PolynomialFeatures\n",
    "from sklearn.pipeline import make_pipeline"
   ]
  },
  {
   "cell_type": "markdown",
   "metadata": {},
   "source": [
    "## Load Data\n",
    "\n",
    "First load the data and explore the feature names, target names, etc."
   ]
  },
  {
   "cell_type": "code",
   "execution_count": 2,
   "metadata": {
    "scrolled": true
   },
   "outputs": [],
   "source": [
    "# Load data\n",
    "df = pd.read_csv('winequality-red.csv')"
   ]
  },
  {
   "cell_type": "markdown",
   "metadata": {},
   "source": [
    "# Exploratory Data Analysis\n",
    "\n",
    "Perform EDA and determine the following:\n",
    "- Are the input variables collinear?\n",
    "- Do you need to drop any input variable column? \n",
    "\n",
    "Drop the redundant columns if need be. However, if dropping a column doesn't achieve the best accuracy, then don't drop it."
   ]
  },
  {
   "cell_type": "code",
   "execution_count": 3,
   "metadata": {},
   "outputs": [
    {
     "name": "stdout",
     "output_type": "stream",
     "text": [
      "<class 'pandas.core.frame.DataFrame'>\n",
      "RangeIndex: 1599 entries, 0 to 1598\n",
      "Data columns (total 12 columns):\n",
      "fixed acidity           1599 non-null float64\n",
      "volatile acidity        1599 non-null float64\n",
      "citric acid             1599 non-null float64\n",
      "residual sugar          1599 non-null float64\n",
      "chlorides               1599 non-null float64\n",
      "free sulfur dioxide     1599 non-null float64\n",
      "total sulfur dioxide    1599 non-null float64\n",
      "density                 1599 non-null float64\n",
      "pH                      1599 non-null float64\n",
      "sulphates               1599 non-null float64\n",
      "alcohol                 1599 non-null float64\n",
      "quality                 1599 non-null int64\n",
      "dtypes: float64(11), int64(1)\n",
      "memory usage: 150.0 KB\n"
     ]
    },
    {
     "data": {
      "text/plain": [
       "quality                 1.000000\n",
       "alcohol                 0.476166\n",
       "sulphates               0.251397\n",
       "citric acid             0.226373\n",
       "fixed acidity           0.124052\n",
       "residual sugar          0.013732\n",
       "free sulfur dioxide    -0.050656\n",
       "pH                     -0.057731\n",
       "chlorides              -0.128907\n",
       "density                -0.174919\n",
       "total sulfur dioxide   -0.185100\n",
       "volatile acidity       -0.390558\n",
       "Name: quality, dtype: float64"
      ]
     },
     "execution_count": 3,
     "metadata": {},
     "output_type": "execute_result"
    }
   ],
   "source": [
    "df.info()\n",
    "df.corr()['quality'].sort_values(ascending=False)"
   ]
  },
  {
   "cell_type": "markdown",
   "metadata": {},
   "source": [
    "# Create a Separate Feature Set (Data Matrix X) and Target (1D Vector y)\n",
    "\n",
    "Create a data matrix (X) that contains all features and a 1D target vector (y) containing the target.\n",
    "\n"
   ]
  },
  {
   "cell_type": "code",
   "execution_count": 4,
   "metadata": {},
   "outputs": [
    {
     "name": "stdout",
     "output_type": "stream",
     "text": [
      "(1599, 11)\n",
      "(1599,)\n"
     ]
    }
   ],
   "source": [
    "X = df.drop(columns=['quality'])\n",
    "y = df['quality']\n",
    "print(X.shape)\n",
    "print(y.shape)"
   ]
  },
  {
   "cell_type": "markdown",
   "metadata": {},
   "source": [
    "# Scale The Features\n",
    "\n",
    "We should ensure that all features have a similar scale. Otherwise optimization algorithms (e.g., Gradient Descent based algorithms) will take much longer time to converge.\n",
    "\n",
    "Also, regularization techniques are sensitive to the scale of data. Thus, you must scale the features before applying regularization."
   ]
  },
  {
   "cell_type": "code",
   "execution_count": 5,
   "metadata": {},
   "outputs": [],
   "source": [
    "scaler = StandardScaler().fit(X)\n",
    "X = scaler.transform(X)"
   ]
  },
  {
   "cell_type": "markdown",
   "metadata": {},
   "source": [
    "# Create Train and Test Dataset\n",
    "\n",
    "Use the **\"random_state\"** attribute of the \"train_test_split\" function to ensure the reproducability of your results."
   ]
  },
  {
   "cell_type": "code",
   "execution_count": 6,
   "metadata": {},
   "outputs": [],
   "source": [
    "X_train, X_test, y_train, y_test = train_test_split(X, y, test_size=0.2, random_state=42)"
   ]
  },
  {
   "cell_type": "markdown",
   "metadata": {},
   "source": [
    "# <font color=blue>Polynomial Regression Using the OLS Method</font>\n",
    "\n",
    "\n",
    "\n",
    "## Choose the Optimal Degree (Model Complexity) of the Polynomial Regression\n",
    "\n",
    "Vary the degree of the polynomial (degree 1, 2 & 3) and train the sklearn's Linear Regression model (OLS) using the training data. Then, compute the mean squared error (mse) for the test data using the models with varying degree.\n",
    "\n",
    "Finally, plot the **root mean square error (rmse)** values against the varying degree. From this plot find the optimal degree (that gives the smallest rmse).\n",
    "\n",
    "\n",
    "## <font color=red> Note for Assignment 2:\n",
    "\n",
    "For the assignment you will have to use cross-validation to get an estimate of a model’s generalization performance. \n",
    "\n",
    "You will write a function to plot the training and validation root mean square error (rmse) values of the data matrix X for various polynomial degree starting from 1 up to the value set by max polynomial degree. It takes the data matrix X (usually the training data matrix) and the max polynomial degree; and for each polynomial degree it will augment the data matrix, then use k-fold cross-validation to compute the average mse for both the training and the validation fold. For training the model (using the “fit” method) it will use the model parameters from the function argument. Finally, the function will plot the root-mean-square error (rmse) values for the training and validation folds for each degree of the data matrix starting from 1 up to the max polynomial degree.\n",
    "\n",
    "\n",
    "## Model's Complexity: Overfitting or Underfitting\n",
    "If a model performs well on the training data but generalizes poorly (on the validation data) according to the cross-validation metrics, then your model is overfitting. If it performs poorly on both, then it is underfitting. This is one way to tell when a model is too simple or too complex.\n",
    "\n",
    "\n",
    "#### Report optimal degree"
   ]
  },
  {
   "cell_type": "code",
   "execution_count": 7,
   "metadata": {},
   "outputs": [
    {
     "data": {
      "image/png": "[encoded data removed]",
      "text/plain": [
       "<Figure size 720x432 with 1 Axes>"
      ]
     },
     "metadata": {
      "needs_background": "light"
     },
     "output_type": "display_data"
    },
    {
     "name": "stdout",
     "output_type": "stream",
     "text": [
      "Optimal Degree:  2\n"
     ]
    }
   ],
   "source": [
    "# RMSE vs. Degree Curve\n",
    "degree = [1,2,3,4]\n",
    "mse_train, mse_test = [], []\n",
    "for i in degree:\n",
    "    model = make_pipeline(PolynomialFeatures(i, include_bias=False), StandardScaler(), LinearRegression())\n",
    "    model.fit(X_train, y_train)\n",
    "    \n",
    "    y_train_pred = model.predict(X_train)\n",
    "    y_test_pred = model.predict(X_test)\n",
    "    \n",
    "    mse_train.append(mean_squared_error(y_train, y_train_pred))\n",
    "    mse_test.append(mean_squared_error(y_test, y_test_pred))\n",
    "    \n",
    "plt.figure(figsize=(10, 6))\n",
    "plt.plot(degree, np.sqrt(mse_train), \"bo-\", alpha=1.0, linewidth=1.0, label=\"Train RMSE\")\n",
    "plt.plot(degree, np.sqrt(mse_test), \"ro-\", alpha=1.0, linewidth=1.0, label=\"Test RMSE\")\n",
    "plt.legend(loc=\"best\", fontsize=14)\n",
    "plt.title(\"RMSE/Degree\")\n",
    "plt.xlabel(\"Degree\")\n",
    "plt.ylabel(\"RMSE\")\n",
    "plt.show()\n",
    "    \n",
    "rmse_test = np.sqrt(mse_test)\n",
    "j = 0\n",
    "min_rmse = rmse_test[j]\n",
    "optimal_degree = 1\n",
    "\n",
    "for i in degree:\n",
    "    if rmse_test[j] < min_rmse:\n",
    "        min_rmse = rmse_test[j]\n",
    "        optimal_degree = i\n",
    "    j += 1\n",
    "\n",
    "\n",
    "print(\"Optimal Degree: \", optimal_degree)"
   ]
  },
  {
   "cell_type": "markdown",
   "metadata": {},
   "source": [
    "## Determine Model Complexity using Learning Curve\n",
    "\n",
    "Determine your polynomial regression model's complexity (whether it's overfitting or underfitting) by creating learning curves by varying the degree of polynomial. \n",
    "\n",
    "Use skleatn's function for plotting the learning curves.\n",
    "\n",
    "\n",
    "You will generate two set of learning curves.\n",
    "- Linear Model\n",
    "- 4th Degree Polynomial Model\n",
    "\n",
    "Your goal is to investigate whether your two models are overfitting or underfitting. Under the \"Observation\" block clearly state your conclusion and justification."
   ]
  },
  {
   "cell_type": "markdown",
   "metadata": {},
   "source": [
    "## Learning Curve: Linear Model"
   ]
  },
  {
   "cell_type": "code",
   "execution_count": 8,
   "metadata": {},
   "outputs": [
    {
     "data": {
      "image/png": "[encoded data removed]",
      "text/plain": [
       "<Figure size 720x432 with 1 Axes>"
      ]
     },
     "metadata": {
      "needs_background": "light"
     },
     "output_type": "display_data"
    }
   ],
   "source": [
    "# Learning Curve: Linear Model\n",
    "#model_lin = make_pipeline(PolynomialFeatures(1, include_bias=False), StandardScaler(), LinearRegression())\n",
    "#mse_train_lin, mse_test_lin = [], []\n",
    "#for i in range(1, len(X_train)):\n",
    "#    model_lin.fit(X_train[:i], y_train[:i])\n",
    "#    y_train_pred_lin = model_lin.predict(X_train[:i])\n",
    "#    y_test_pred_lin = model_lin.predict(X_test)\n",
    "#    mse_train_lin.append(mean_squared_error(y_train[:i], y_train_pred_lin))\n",
    "#    mse_test_lin.append(mean_squared_error(y_test, y_test_pred_lin))\n",
    "\n",
    "#plt.figure(figsize=(10, 6))\n",
    "#plt.plot(np.sqrt(mse_train_lin), \"b-\", alpha=1.0, linewidth=1.6, label=\"Linear Train RMSE\")\n",
    "#plt.plot(np.sqrt(mse_test_lin), \"r-\", alpha=1.0, linewidth=1.6, label=\"Linear Test RMSE\")\n",
    "#plt.legend(loc=\"best\", fontsize=14)\n",
    "#plt.title(\"Linear Learning Curve\")\n",
    "#plt.xlabel(\"Training Size\")\n",
    "#plt.ylabel(\"RMSE\")\n",
    "#plt.show()\n",
    "\n",
    "train_sizes, train_scores, val_scores = learning_curve(LinearRegression(), X_train, y_train, cv=5, \n",
    "                                                        scoring='neg_mean_squared_error', \n",
    "                                                        train_sizes=np.linspace(0.01, 1.0, 50),\n",
    "                                                        n_jobs=-1)\n",
    "train_mean = np.mean(train_scores, axis=1)\n",
    "train_std = np.std(train_scores, axis=1)\n",
    "\n",
    "val_mean = np.mean(val_scores, axis=1)\n",
    "val_std = np.std(val_scores, axis=1)\n",
    "\n",
    "plt.figure(figsize=(10, 6))\n",
    "plt.plot(train_sizes, train_mean, \"r-+\", linewidth=3, label=\"Training Score\")\n",
    "plt.plot(train_sizes, val_mean, \"b-\", linewidth=2, label=\"Cross-validation Score\")\n",
    "plt.legend(loc=\"best\", fontsize=14)   \n",
    "plt.xlabel(\"Training set size\", fontsize=14) \n",
    "plt.ylabel(\"Negative MSE\", fontsize=14) \n",
    "plt.title(\"Learning Curve (Linear Model)\")\n",
    "plt.show()"
   ]
  },
  {
   "cell_type": "markdown",
   "metadata": {},
   "source": [
    "## Observation: Linear Model Learning Curve\n",
    "\n",
    "#### Conclusion: The linear model is ideal.\n",
    "\n",
    "#### Justification: Both train and test data have very low errors and there is no gap between train and test error."
   ]
  },
  {
   "cell_type": "markdown",
   "metadata": {},
   "source": [
    "## Learning Curve: Polynomial Model (4th degree)"
   ]
  },
  {
   "cell_type": "code",
   "execution_count": 9,
   "metadata": {},
   "outputs": [
    {
     "data": {
      "image/png": "[encoded data removed]",
      "text/plain": [
       "<Figure size 720x432 with 1 Axes>"
      ]
     },
     "metadata": {
      "needs_background": "light"
     },
     "output_type": "display_data"
    }
   ],
   "source": [
    "# Learning Curve: Polynomial (4th Degree) Model\n",
    "#model_poly = make_pipeline(PolynomialFeatures(4, include_bias=False), StandardScaler(), LinearRegression())\n",
    "#mse_train_poly, mse_test_poly = [], []\n",
    "#for i in range(1, len(X_train)):\n",
    "#    model_poly.fit(X_train[:i], y_train[:i])\n",
    "#    y_train_pred_poly = model_poly.predict(X_train[:i])\n",
    "#    y_test_pred_poly = model_poly.predict(X_test)\n",
    "#    mse_train_poly.append(mean_squared_error(y_train[:i], y_train_pred_poly))\n",
    "#    mse_test_poly.append(mean_squared_error(y_test, y_test_pred_poly))\n",
    "\n",
    "#plt.figure(figsize=(10, 6))\n",
    "#plt.plot(np.sqrt(mse_train_poly), \"b-\", alpha=1.0, linewidth=1.6, label=\"Polynomial Train RMSE\")\n",
    "#plt.plot(np.sqrt(mse_test_poly), \"r-\", alpha=1.0, linewidth=1.6, label=\"Polynomial Test RMSE\")\n",
    "#plt.legend(loc=\"best\", fontsize=14)\n",
    "#plt.title(\"Polynomial(4) Learning Curve\")\n",
    "#plt.xlabel(\"Training Size\")\n",
    "#plt.ylabel(\"RMSE\")\n",
    "#plt.show()\n",
    "\n",
    "poly_features = PolynomialFeatures(degree=4, include_bias=False)\n",
    "X_train_poly = poly_features.fit_transform(X_train)\n",
    "\n",
    "scaler = StandardScaler().fit(X_train_poly)\n",
    "X_train_poly_standardized = scaler.transform(X_train_poly)\n",
    "\n",
    "train_sizes, train_scores, val_scores = learning_curve(LinearRegression(), X_train_poly_standardized, y_train, cv=5, \n",
    "                                                        scoring='neg_mean_squared_error', \n",
    "                                                        train_sizes=np.linspace(0.01, 1.0, 50))\n",
    "\n",
    "train_mean_poly = np.mean(train_scores, axis=1)\n",
    "train_std_poly = np.std(train_scores, axis=1)\n",
    "\n",
    "val_mean_poly = np.mean(val_scores, axis=1)\n",
    "val_std_poly = np.std(val_scores, axis=1)\n",
    "\n",
    "plt.figure(figsize=(10, 6))\n",
    "plt.plot(train_sizes, train_mean_poly, \"r-+\", linewidth=3, label=\"Training Score\")\n",
    "plt.plot(train_sizes, val_mean_poly, \"b-\", linewidth=2, label=\"Cross-validation Score\")\n",
    "plt.legend(loc=\"best\", fontsize=14)   \n",
    "plt.xlabel(\"Training set size\", fontsize=14) \n",
    "plt.ylabel(\"Negative MSE\", fontsize=14) \n",
    "plt.title(\"Learning Curve: Polynomial Degree = %d\" % 4)\n",
    "plt.show()"
   ]
  },
  {
   "cell_type": "markdown",
   "metadata": {},
   "source": [
    "## Observation: Polynomial Model (4th degree) Learning Curve\n",
    "\n",
    "##### Conclusion: The degree 4 polynomial model is overfitting.\n",
    "\n",
    "\n",
    "\n",
    "##### Justification: There is a huge gap between train and test error and cross validation MSE is decreasing. The model memorized the noise in the training data so the testing error is increasing."
   ]
  },
  {
   "cell_type": "markdown",
   "metadata": {},
   "source": [
    "# <font color=blue>Stochastic Gradient Descent (SGD)\n",
    "\n",
    "\n",
    "Using the **optimal degree** (obtained from the RMSE vs Degree curve) perform Gradient Descent based linear regression by using sklearn's SGDRegressor. You should use **regularized** SGDRegressor.\n",
    "\n",
    "First, you will select the best model via hyperparameter tuning. Use sklearn's GridSearchCV.\n",
    "\n",
    "Find the best combination of the following hyperparameters. You may add other parameters in this list if you find it reasonable.\n",
    "\n",
    "- alpha\n",
    "- learning_rate (\"constant\", \"optimal\")\n",
    "- eta0\n",
    "- l1_ratio\n",
    "- max_iter\n",
    "- eta0\n",
    "\n",
    "The GridSearchCV takes an argument to define the scoring metric (performance measure). \n",
    "\n",
    "See the list of possible scoring functions:\n",
    "https://scikit-learn.org/stable/modules/model_evaluation.html#scoring-parameter\n",
    "\n",
    "For regression, you may use \"neg_mean_squared_error\" or \"explained_variance\" scoring function. \n"
   ]
  },
  {
   "cell_type": "code",
   "execution_count": 10,
   "metadata": {},
   "outputs": [
    {
     "name": "stdout",
     "output_type": "stream",
     "text": [
      "Augmented feature number:  77\n"
     ]
    }
   ],
   "source": [
    "# Augment the feature space if needed based on the optimal degree\n",
    "poly_features = PolynomialFeatures(degree=optimal_degree, include_bias=False)\n",
    "X_train_poly = poly_features.fit_transform(X_train)\n",
    "print(\"Augmented feature number: \", X_train_poly.shape[1])"
   ]
  },
  {
   "cell_type": "markdown",
   "metadata": {},
   "source": [
    "## Hyperparameter Tuning for SGD Regressor\n",
    "\n",
    "You should tune the following hyperparameters. I have suggested some values and range, but you free to explore. \n",
    "\n",
    "- alpha: 0.1, 0.01, 0.001\n",
    "- learning_rate: \"constant\", \"optimal\", \"invscaling\"\n",
    "- max_iter': 100, 400, 1000, 5000, 10000, 20000\n",
    "- eta0: 0.01, 0.001\n",
    "- loss: 'squared_loss', 'huber', 'epsilon_insensitive', 'squared_epsilon_insensitive'\n",
    "\n",
    "#### Report the best score (negative mean squared error) & optimal hyperparameter values."
   ]
  },
  {
   "cell_type": "code",
   "execution_count": 11,
   "metadata": {},
   "outputs": [
    {
     "name": "stdout",
     "output_type": "stream",
     "text": [
      "Fitting 10 folds for each of 432 candidates, totalling 4320 fits\n"
     ]
    },
    {
     "name": "stderr",
     "output_type": "stream",
     "text": [
      "[Parallel(n_jobs=-1)]: Using backend LokyBackend with 8 concurrent workers.\n",
      "[Parallel(n_jobs=-1)]: Done 214 tasks      | elapsed:    0.4s\n",
      "[Parallel(n_jobs=-1)]: Done 1797 tasks      | elapsed:   11.1s\n",
      "[Parallel(n_jobs=-1)]: Done 2829 tasks      | elapsed:   18.5s\n"
     ]
    },
    {
     "name": "stdout",
     "output_type": "stream",
     "text": [
      "Best Score (negative mean squared error): -0.457895\n",
      "Optimal Hyperparameter Values:  {'alpha': 0.1, 'eta0': 0.01, 'learning_rate': 'optimal', 'loss': 'epsilon_insensitive', 'max_iter': 5000}\n",
      "CPU times: user 4.35 s, sys: 183 ms, total: 4.53 s\n",
      "Wall time: 39.4 s\n"
     ]
    },
    {
     "name": "stderr",
     "output_type": "stream",
     "text": [
      "[Parallel(n_jobs=-1)]: Done 4320 out of 4320 | elapsed:   39.3s finished\n"
     ]
    }
   ],
   "source": [
    "%%time\n",
    "warnings.filterwarnings('ignore')\n",
    "param_grid = {'alpha':[0.1, 0.01, 0.001], 'learning_rate':[\"constant\", \"optimal\", \"invscaling\"],\n",
    "              'max_iter':[100, 400, 1000, 5000, 10000, 20000], 'eta0':[0.01, 0.001],\n",
    "              'loss':['squared_loss', 'huber', 'epsilon_insensitive', 'squared_epsilon_insensitive']}\n",
    "sgd = SGDRegressor()\n",
    "\n",
    "sgd_cv = GridSearchCV(sgd, param_grid, scoring='neg_mean_squared_error', cv=10, verbose=2, n_jobs=-1)\n",
    "sgd_cv.fit(X_train_poly, y_train)\n",
    "params_optimal_sgd = sgd_cv.best_params_\n",
    "print(\"Best Score (negative mean squared error): %f\" % sgd_cv.best_score_)\n",
    "print(\"Optimal Hyperparameter Values: \", params_optimal_sgd)"
   ]
  },
  {
   "cell_type": "markdown",
   "metadata": {},
   "source": [
    "## Select The Best Model for the SGD Regressor\n",
    "\n",
    "Using the optimal hyperparameter values, create the best model.\n",
    "Then, fit the model.\n",
    "\n",
    "\n",
    "Report the following two evaluation metrics.\n",
    "\n",
    "- Mean Squared Error (MSE)\n",
    "- Coefficient of Determination or $R^2$/$r^2$\n"
   ]
  },
  {
   "cell_type": "code",
   "execution_count": 12,
   "metadata": {},
   "outputs": [
    {
     "name": "stdout",
     "output_type": "stream",
     "text": [
      "\n",
      "----------------------------- Model Evaluation -----------------------------\n",
      "Mean squared error: 0.40\n",
      "Coefficient of determination r^2 variance score [1 is perfect prediction]: 0.38\n"
     ]
    }
   ],
   "source": [
    "# SGD Regression using the best model\n",
    "sgd_poly_optimal = SGDRegressor(**params_optimal_sgd)\n",
    "sgd_poly_optimal.fit(X_train_poly, y_train)\n",
    "\n",
    "print(\"\\n----------------------------- Model Evaluation -----------------------------\")\n",
    "\n",
    "# Make prediction on the training data\n",
    "y_train_pred_sgd = sgd_poly_optimal.predict(X_train_poly)\n",
    "\n",
    "\n",
    "print(\"Mean squared error: %.2f\" % mean_squared_error(y_train, y_train_pred_sgd))\n",
    "\n",
    "\n",
    "print(\"Coefficient of determination r^2 variance score [1 is perfect prediction]: %.2f\" %r2_score(y_train, y_train_pred_sgd))"
   ]
  },
  {
   "cell_type": "markdown",
   "metadata": {},
   "source": [
    "## Evaluate Model Performance Using Test Data"
   ]
  },
  {
   "cell_type": "code",
   "execution_count": 13,
   "metadata": {},
   "outputs": [
    {
     "name": "stdout",
     "output_type": "stream",
     "text": [
      "Mean squared error: 0.43\n",
      "Coefficient of determination r^2 variance score [1 is perfect prediction]: 0.34\n"
     ]
    }
   ],
   "source": [
    "X_test_poly = poly_features.fit_transform(X_test)\n",
    "sgd_poly_optimal.fit(X_test_poly, y_test)\n",
    "\n",
    "\n",
    "\n",
    "\n",
    "# Make prediction using the test data\n",
    "y_test_pred_sgd = sgd_poly_optimal.predict(X_test_poly)\n",
    "\n",
    "print(\"Mean squared error: %.2f\" % mean_squared_error(y_test, y_test_pred_sgd))\n",
    "\n",
    "\n",
    "print(\"Coefficient of determination r^2 variance score [1 is perfect prediction]: %.2f\" % r2_score(y_test, y_test_pred_sgd))"
   ]
  },
  {
   "cell_type": "code",
   "execution_count": null,
   "metadata": {},
   "outputs": [],
   "source": []
  }
 ],
 "metadata": {
  "anaconda-cloud": {},
  "kernelspec": {
   "display_name": "Python 3",
   "language": "python",
   "name": "python3"
  },
  "language_info": {
   "codemirror_mode": {
    "name": "ipython",
    "version": 3
   },
   "file_extension": ".py",
   "mimetype": "text/x-python",
   "name": "python",
   "nbconvert_exporter": "python",
   "pygments_lexer": "ipython3",
   "version": "3.7.4"
  }
 },
 "nbformat": 4,
 "nbformat_minor": 1
}
