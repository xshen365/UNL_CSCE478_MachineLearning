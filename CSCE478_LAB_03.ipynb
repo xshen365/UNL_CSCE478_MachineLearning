{
 "cells": [
  {
   "cell_type": "markdown",
   "metadata": {},
   "source": [
    "<font size=6 color=red>__Part1__</font>"
   ]
  },
  {
   "cell_type": "code",
   "execution_count": 1,
   "metadata": {},
   "outputs": [
    {
     "name": "stdout",
     "output_type": "stream",
     "text": [
      "<class 'pandas.core.frame.DataFrame'>\n",
      "RangeIndex: 4898 entries, 0 to 4897\n",
      "Data columns (total 1 columns):\n",
      "fixed acidity;\"volatile acidity\";\"citric acid\";\"residual sugar\";\"chlorides\";\"free sulfur dioxide\";\"total sulfur dioxide\";\"density\";\"pH\";\"sulphates\";\"alcohol\";\"quality\"    4898 non-null object\n",
      "dtypes: object(1)\n",
      "memory usage: 38.3+ KB\n"
     ]
    },
    {
     "data": {
      "text/html": [
       "<div>\n",
       "<style scoped>\n",
       "    .dataframe tbody tr th:only-of-type {\n",
       "        vertical-align: middle;\n",
       "    }\n",
       "\n",
       "    .dataframe tbody tr th {\n",
       "        vertical-align: top;\n",
       "    }\n",
       "\n",
       "    .dataframe thead th {\n",
       "        text-align: right;\n",
       "    }\n",
       "</style>\n",
       "<table border=\"1\" class=\"dataframe\">\n",
       "  <thead>\n",
       "    <tr style=\"text-align: right;\">\n",
       "      <th></th>\n",
       "      <th>fixed acidity;\"volatile acidity\";\"citric acid\";\"residual sugar\";\"chlorides\";\"free sulfur dioxide\";\"total sulfur dioxide\";\"density\";\"pH\";\"sulphates\";\"alcohol\";\"quality\"</th>\n",
       "    </tr>\n",
       "  </thead>\n",
       "  <tbody>\n",
       "    <tr>\n",
       "      <th>0</th>\n",
       "      <td>7;0.27;0.36;20.7;0.045;45;170;1.001;3;0.45;8.8;6</td>\n",
       "    </tr>\n",
       "    <tr>\n",
       "      <th>1</th>\n",
       "      <td>6.3;0.3;0.34;1.6;0.049;14;132;0.994;3.3;0.49;9...</td>\n",
       "    </tr>\n",
       "    <tr>\n",
       "      <th>2</th>\n",
       "      <td>8.1;0.28;0.4;6.9;0.05;30;97;0.9951;3.26;0.44;1...</td>\n",
       "    </tr>\n",
       "    <tr>\n",
       "      <th>3</th>\n",
       "      <td>7.2;0.23;0.32;8.5;0.058;47;186;0.9956;3.19;0.4...</td>\n",
       "    </tr>\n",
       "    <tr>\n",
       "      <th>4</th>\n",
       "      <td>7.2;0.23;0.32;8.5;0.058;47;186;0.9956;3.19;0.4...</td>\n",
       "    </tr>\n",
       "  </tbody>\n",
       "</table>\n",
       "</div>"
      ],
      "text/plain": [
       "  fixed acidity;\"volatile acidity\";\"citric acid\";\"residual sugar\";\"chlorides\";\"free sulfur dioxide\";\"total sulfur dioxide\";\"density\";\"pH\";\"sulphates\";\"alcohol\";\"quality\"\n",
       "0   7;0.27;0.36;20.7;0.045;45;170;1.001;3;0.45;8.8;6                                                                                                                     \n",
       "1  6.3;0.3;0.34;1.6;0.049;14;132;0.994;3.3;0.49;9...                                                                                                                     \n",
       "2  8.1;0.28;0.4;6.9;0.05;30;97;0.9951;3.26;0.44;1...                                                                                                                     \n",
       "3  7.2;0.23;0.32;8.5;0.058;47;186;0.9956;3.19;0.4...                                                                                                                     \n",
       "4  7.2;0.23;0.32;8.5;0.058;47;186;0.9956;3.19;0.4...                                                                                                                     "
      ]
     },
     "execution_count": 1,
     "metadata": {},
     "output_type": "execute_result"
    }
   ],
   "source": [
    "import array as arr\n",
    "import warnings\n",
    "import pandas as pd\n",
    "import numpy as np\n",
    "import matplotlib.pyplot as plt\n",
    "%matplotlib inline\n",
    "from sklearn import datasets\n",
    "from sklearn.preprocessing import StandardScaler, scale\n",
    "from sklearn.neighbors import KNeighborsClassifier\n",
    "from sklearn.model_selection import train_test_split, GridSearchCV, cross_val_score, cross_val_predict\n",
    "from sklearn.metrics import confusion_matrix, precision_score, recall_score, f1_score, roc_curve, roc_auc_score\n",
    "from sklearn.metrics import precision_recall_curve, classification_report\n",
    "\n",
    "df = pd.read_csv('winequality-white.csv')\n",
    "df.info()\n",
    "df.head()"
   ]
  },
  {
   "cell_type": "code",
   "execution_count": 2,
   "metadata": {},
   "outputs": [
    {
     "data": {
      "text/plain": [
       "'fixed acidity;\"volatile acidity\";\"citric acid\";\"residual sugar\";\"chlorides\";\"free sulfur dioxide\";\"total sulfur dioxide\";\"density\";\"pH\";\"sulphates\";\"alcohol\";\"quality\"'"
      ]
     },
     "execution_count": 2,
     "metadata": {},
     "output_type": "execute_result"
    }
   ],
   "source": [
    "df.columns[0]"
   ]
  },
  {
   "cell_type": "code",
   "execution_count": 3,
   "metadata": {
    "scrolled": false
   },
   "outputs": [
    {
     "name": "stdout",
     "output_type": "stream",
     "text": [
      "<class 'pandas.core.frame.DataFrame'>\n",
      "RangeIndex: 4898 entries, 0 to 4897\n",
      "Data columns (total 12 columns):\n",
      "fixed acidity           4898 non-null object\n",
      "volatile acidity        4898 non-null object\n",
      "citric acid             4898 non-null object\n",
      "residual sugar          4898 non-null object\n",
      "chlorides               4898 non-null object\n",
      "free sulfur dioxide     4898 non-null object\n",
      "total sulfur dioxide    4898 non-null object\n",
      "density                 4898 non-null object\n",
      "pH                      4898 non-null object\n",
      "sulphates               4898 non-null object\n",
      "alcohol                 4898 non-null object\n",
      "quality                 4898 non-null object\n",
      "dtypes: object(12)\n",
      "memory usage: 459.3+ KB\n"
     ]
    },
    {
     "data": {
      "text/html": [
       "<div>\n",
       "<style scoped>\n",
       "    .dataframe tbody tr th:only-of-type {\n",
       "        vertical-align: middle;\n",
       "    }\n",
       "\n",
       "    .dataframe tbody tr th {\n",
       "        vertical-align: top;\n",
       "    }\n",
       "\n",
       "    .dataframe thead th {\n",
       "        text-align: right;\n",
       "    }\n",
       "</style>\n",
       "<table border=\"1\" class=\"dataframe\">\n",
       "  <thead>\n",
       "    <tr style=\"text-align: right;\">\n",
       "      <th></th>\n",
       "      <th>fixed acidity</th>\n",
       "      <th>volatile acidity</th>\n",
       "      <th>citric acid</th>\n",
       "      <th>residual sugar</th>\n",
       "      <th>chlorides</th>\n",
       "      <th>free sulfur dioxide</th>\n",
       "      <th>total sulfur dioxide</th>\n",
       "      <th>density</th>\n",
       "      <th>pH</th>\n",
       "      <th>sulphates</th>\n",
       "      <th>alcohol</th>\n",
       "      <th>quality</th>\n",
       "    </tr>\n",
       "  </thead>\n",
       "  <tbody>\n",
       "    <tr>\n",
       "      <th>0</th>\n",
       "      <td>7</td>\n",
       "      <td>0.27</td>\n",
       "      <td>0.36</td>\n",
       "      <td>20.7</td>\n",
       "      <td>0.045</td>\n",
       "      <td>45</td>\n",
       "      <td>170</td>\n",
       "      <td>1.001</td>\n",
       "      <td>3</td>\n",
       "      <td>0.45</td>\n",
       "      <td>8.8</td>\n",
       "      <td>6</td>\n",
       "    </tr>\n",
       "    <tr>\n",
       "      <th>1</th>\n",
       "      <td>6.3</td>\n",
       "      <td>0.3</td>\n",
       "      <td>0.34</td>\n",
       "      <td>1.6</td>\n",
       "      <td>0.049</td>\n",
       "      <td>14</td>\n",
       "      <td>132</td>\n",
       "      <td>0.994</td>\n",
       "      <td>3.3</td>\n",
       "      <td>0.49</td>\n",
       "      <td>9.5</td>\n",
       "      <td>6</td>\n",
       "    </tr>\n",
       "    <tr>\n",
       "      <th>2</th>\n",
       "      <td>8.1</td>\n",
       "      <td>0.28</td>\n",
       "      <td>0.4</td>\n",
       "      <td>6.9</td>\n",
       "      <td>0.05</td>\n",
       "      <td>30</td>\n",
       "      <td>97</td>\n",
       "      <td>0.9951</td>\n",
       "      <td>3.26</td>\n",
       "      <td>0.44</td>\n",
       "      <td>10.1</td>\n",
       "      <td>6</td>\n",
       "    </tr>\n",
       "    <tr>\n",
       "      <th>3</th>\n",
       "      <td>7.2</td>\n",
       "      <td>0.23</td>\n",
       "      <td>0.32</td>\n",
       "      <td>8.5</td>\n",
       "      <td>0.058</td>\n",
       "      <td>47</td>\n",
       "      <td>186</td>\n",
       "      <td>0.9956</td>\n",
       "      <td>3.19</td>\n",
       "      <td>0.4</td>\n",
       "      <td>9.9</td>\n",
       "      <td>6</td>\n",
       "    </tr>\n",
       "    <tr>\n",
       "      <th>4</th>\n",
       "      <td>7.2</td>\n",
       "      <td>0.23</td>\n",
       "      <td>0.32</td>\n",
       "      <td>8.5</td>\n",
       "      <td>0.058</td>\n",
       "      <td>47</td>\n",
       "      <td>186</td>\n",
       "      <td>0.9956</td>\n",
       "      <td>3.19</td>\n",
       "      <td>0.4</td>\n",
       "      <td>9.9</td>\n",
       "      <td>6</td>\n",
       "    </tr>\n",
       "  </tbody>\n",
       "</table>\n",
       "</div>"
      ],
      "text/plain": [
       "  fixed acidity volatile acidity citric acid residual sugar chlorides  \\\n",
       "0             7             0.27        0.36           20.7     0.045   \n",
       "1           6.3              0.3        0.34            1.6     0.049   \n",
       "2           8.1             0.28         0.4            6.9      0.05   \n",
       "3           7.2             0.23        0.32            8.5     0.058   \n",
       "4           7.2             0.23        0.32            8.5     0.058   \n",
       "\n",
       "  free sulfur dioxide total sulfur dioxide density    pH sulphates alcohol  \\\n",
       "0                  45                  170   1.001     3      0.45     8.8   \n",
       "1                  14                  132   0.994   3.3      0.49     9.5   \n",
       "2                  30                   97  0.9951  3.26      0.44    10.1   \n",
       "3                  47                  186  0.9956  3.19       0.4     9.9   \n",
       "4                  47                  186  0.9956  3.19       0.4     9.9   \n",
       "\n",
       "  quality  \n",
       "0       6  \n",
       "1       6  \n",
       "2       6  \n",
       "3       6  \n",
       "4       6  "
      ]
     },
     "execution_count": 3,
     "metadata": {},
     "output_type": "execute_result"
    }
   ],
   "source": [
    "df = df['fixed acidity;\"volatile acidity\";\"citric acid\";\"residual sugar\";\"chlorides\";\"free sulfur dioxide\";\"total sulfur dioxide\";\"density\";\"pH\";\"sulphates\";\"alcohol\";\"quality\"'].str.split(';', 12, expand=True)\n",
    "df.columns = ['fixed acidity', 'volatile acidity', 'citric acid', 'residual sugar', 'chlorides', 'free sulfur dioxide', 'total sulfur dioxide', 'density', 'pH', 'sulphates', 'alcohol', 'quality']\n",
    "df.info()\n",
    "df.head()"
   ]
  },
  {
   "cell_type": "code",
   "execution_count": 4,
   "metadata": {},
   "outputs": [
    {
     "name": "stdout",
     "output_type": "stream",
     "text": [
      "(4898, 11)\n",
      "(4898,)\n"
     ]
    }
   ],
   "source": [
    "target = df['quality'].values\n",
    "target = target.astype(np.int)\n",
    "#X = df[['fixed acidity', 'volatile acidity', 'citric acid', 'residual sugar', 'chlorides', 'free sulfur dioxide', 'total sulfur dioxide', 'density', 'pH', 'sulphates', 'alcohol']]\n",
    "X = df.drop(columns = 'quality')\n",
    "X = X.to_numpy().astype(float)\n",
    "y = (target > 5).astype(int)\n",
    "print(X.shape)\n",
    "print(y.shape)"
   ]
  },
  {
   "cell_type": "markdown",
   "metadata": {},
   "source": [
    "<font size=6 color=blue>__Question 4__</font>"
   ]
  },
  {
   "cell_type": "code",
   "execution_count": 5,
   "metadata": {},
   "outputs": [
    {
     "name": "stdout",
     "output_type": "stream",
     "text": [
      "The mean of each feature is:\n",
      "\n",
      "[6.85478767e+00 2.78241119e-01 3.34191507e-01 6.39141486e+00\n",
      " 4.57723561e-02 3.53080849e+01 1.38360657e+02 9.94027376e-01\n",
      " 3.18826664e+00 4.89846876e-01 1.05142670e+01]\n",
      "\n",
      "The standard deviation for each feature is:\n",
      "\n",
      "[8.43782079e-01 1.00784259e-01 1.21007450e-01 5.07153999e+00\n",
      " 2.18457377e-02 1.70054011e+01 4.24937260e+01 2.99060158e-03\n",
      " 1.50985184e-01 1.14114183e-01 1.23049494e+00]\n",
      "\n",
      "The quatiles for each feature is:\n",
      "\n",
      "[6.300000e+00 2.100000e-01 2.700000e-01 1.700000e+00 3.600000e-02\n",
      " 2.300000e+01 1.080000e+02 9.917225e-01 3.090000e+00 4.100000e-01\n",
      " 9.500000e+00]\n",
      "\n",
      "The mean of the target is:\n",
      "\n",
      "5.87790935075541\n",
      "\n",
      "The standard deviation of the target is:\n",
      "\n",
      "0.8855481621683543\n",
      "\n",
      "The quartiles of the target is:\n",
      "\n",
      "5.0\n"
     ]
    }
   ],
   "source": [
    "#summary of variables\n",
    "print(\"The mean of each feature is:\\n\")\n",
    "print(X.mean(axis=0))\n",
    "print(\"\\nThe standard deviation for each feature is:\\n\")\n",
    "print(np.std(X, axis=0))\n",
    "print(\"\\nThe quatiles for each feature is:\\n\")\n",
    "print(np.percentile(X, 25, axis=0))\n",
    "print(\"\\nThe mean of the target is:\\n\")\n",
    "print(target.mean(axis=0))\n",
    "print(\"\\nThe standard deviation of the target is:\\n\")\n",
    "print(np.std(target, axis=0))\n",
    "print(\"\\nThe quartiles of the target is:\\n\")\n",
    "print(np.percentile(target, 25, axis=0))"
   ]
  },
  {
   "cell_type": "markdown",
   "metadata": {},
   "source": [
    "<font size=6 color=blue>__Question 6__</font>"
   ]
  },
  {
   "cell_type": "code",
   "execution_count": 6,
   "metadata": {},
   "outputs": [
    {
     "name": "stdout",
     "output_type": "stream",
     "text": [
      "The dropped features are:\n",
      "\n",
      "volatile acidity, citric acid, sulphates, alcohol, chlorides, free sulfur dioxide, density, pH\n"
     ]
    }
   ],
   "source": [
    "#Identify redundant features by standard deviation:\n",
    "#volatile acidity, citric acid, sulphates, alcohol\n",
    "#chlorides, free sulfur dioxide, density, pH\n",
    "\n",
    "print(\"The dropped features are:\\n\\nvolatile acidity, citric acid, sulphates, alcohol, chlorides, free sulfur dioxide, density, pH\")"
   ]
  },
  {
   "cell_type": "markdown",
   "metadata": {},
   "source": [
    "<font size=6 color=blue>__Question 7__</font>"
   ]
  },
  {
   "cell_type": "code",
   "execution_count": 7,
   "metadata": {},
   "outputs": [
    {
     "name": "stdout",
     "output_type": "stream",
     "text": [
      "(4898, 3)\n",
      "\n",
      "\n",
      "[[  7.   20.7 170. ]\n",
      " [  6.3   1.6 132. ]\n",
      " [  8.1   6.9  97. ]\n",
      " ...\n",
      " [  6.5   1.2 111. ]\n",
      " [  5.5   1.1 110. ]\n",
      " [  6.    0.8  98. ]]\n"
     ]
    }
   ],
   "source": [
    "df_new = df.drop(columns = {'volatile acidity', 'citric acid', 'sulphates', 'alcohol', 'chlorides', 'free sulfur dioxide', 'density', 'pH'})\n",
    "df_new.head()\n",
    "\n",
    "#after dropping features: X_new\n",
    "X_new = df_new.drop(columns = 'quality')\n",
    "X_new = X_new.to_numpy().astype(float)\n",
    "print(X_new.shape)\n",
    "print('\\n')\n",
    "print(X_new)"
   ]
  },
  {
   "cell_type": "markdown",
   "metadata": {},
   "source": [
    "<font size=6 color=blue>__Question 8__</font>"
   ]
  },
  {
   "cell_type": "code",
   "execution_count": 8,
   "metadata": {},
   "outputs": [
    {
     "name": "stdout",
     "output_type": "stream",
     "text": [
      "\n",
      "Information on train and test data:\n",
      "\n",
      "X_train:  (3918, 11)\n",
      "X_test:  (980, 11)\n",
      "y_train:  (3918,)\n",
      "y_test:  (980,)\n",
      "\n",
      "\n",
      "Information on train and test data after dropping fearures:\n",
      "\n",
      "X_new_train:  (3918, 3)\n",
      "X_new_test:  (980, 3)\n",
      "y_train shape:  (3918,)\n",
      "y_test shape:  (980,)\n"
     ]
    }
   ],
   "source": [
    "#split into training and testing data\n",
    "X_train, X_test, y_train, y_test = train_test_split(X, y, test_size = 0.2, random_state = 0)\n",
    "print(\"\\nInformation on train and test data:\\n\")\n",
    "print('X_train: ', X_train.shape)\n",
    "print('X_test: ', X_test.shape)\n",
    "print('y_train: ', y_train.shape)\n",
    "print('y_test: ', y_test.shape)\n",
    "print(\"\\n\")\n",
    "print(\"Information on train and test data after dropping fearures:\\n\")\n",
    "#split into training and testing data adter dropping features\n",
    "X_new_train, X_new_test, y_train, y_test = train_test_split(X_new, y, test_size = 0.2, random_state = 0)\n",
    "print('X_new_train: ', X_new_train.shape)\n",
    "print('X_new_test: ', X_new_test.shape)\n",
    "print('y_train shape: ', y_train.shape)\n",
    "print('y_test shape: ', y_test.shape)"
   ]
  },
  {
   "cell_type": "markdown",
   "metadata": {},
   "source": [
    "<font size=6 color=blue>__Question 9__</font>"
   ]
  },
  {
   "cell_type": "code",
   "execution_count": 9,
   "metadata": {},
   "outputs": [
    {
     "name": "stdout",
     "output_type": "stream",
     "text": [
      "[[ 1.72096961e-01 -8.17699008e-02  2.13280202e-01 ... -1.24692128e+00\n",
      "  -3.49184257e-01 -1.39315246e+00]\n",
      " [-6.57501128e-01  2.15895632e-01  4.80011213e-02 ...  7.40028640e-01\n",
      "   1.34184656e-03 -8.24275678e-01]\n",
      " [ 1.47575110e+00  1.74519434e-02  5.43838363e-01 ...  4.75101984e-01\n",
      "  -4.36815783e-01 -3.36667007e-01]\n",
      " ...\n",
      " [-4.20473102e-01 -3.79435433e-01 -1.19159198e+00 ... -1.31315295e+00\n",
      "  -2.61552731e-01 -9.05543789e-01]\n",
      " [-1.60561323e+00  1.16673788e-01 -2.82557040e-01 ...  1.00495530e+00\n",
      "  -9.62604939e-01  1.85757201e+00]\n",
      " [-1.01304317e+00 -6.77100966e-01  3.78559282e-01 ...  4.75101984e-01\n",
      "  -1.48839409e+00  1.04489089e+00]]\n",
      "\n",
      "\n",
      "[[ 0.17209696  2.82134917  0.74456503]\n",
      " [-0.65750113 -0.94476527 -0.14968462]\n",
      " [ 1.4757511   0.10028219 -0.97333563]\n",
      " ...\n",
      " [-0.4204731  -1.02363678 -0.64387523]\n",
      " [-1.60561323 -1.04335466 -0.66740811]\n",
      " [-1.01304317 -1.10250829 -0.94980274]]\n"
     ]
    }
   ],
   "source": [
    "#Standardize features\n",
    "X = scale(X)\n",
    "print(X)\n",
    "\n",
    "print(\"\\n\")\n",
    "#Standardize features on X_new\n",
    "X_new = scale(X_new)\n",
    "print(X_new)"
   ]
  },
  {
   "cell_type": "markdown",
   "metadata": {},
   "source": [
    "<font size=6 color=red>__Part 2__</font>"
   ]
  },
  {
   "cell_type": "markdown",
   "metadata": {},
   "source": [
    "<font size=6 color=blue>__Question 10 (including comparing performance between full features and dataset with dropped features)__</font>"
   ]
  },
  {
   "cell_type": "code",
   "execution_count": 10,
   "metadata": {},
   "outputs": [
    {
     "name": "stdout",
     "output_type": "stream",
     "text": [
      "Best Score: 0.852494\n",
      "Optimal Hyperparameter Values:  {'n_neighbors': 33, 'p': 1, 'weights': 'distance'}\n",
      "\n",
      "\n",
      "CPU times: user 7.62 s, sys: 41.5 ms, total: 7.66 s\n",
      "Wall time: 7.7 s\n"
     ]
    }
   ],
   "source": [
    "%%time\n",
    "#Model Selection\n",
    "warnings.filterwarnings('ignore')\n",
    "\n",
    "param_grid = {'n_neighbors': [1, 5, 9, 33, 37], 'p': [1, 2, 10, 100], 'weights': [\"uniform\", \"distance\"]}\n",
    "knn = KNeighborsClassifier()\n",
    "\n",
    "knn_cv = GridSearchCV(knn, param_grid, scoring = 'f1', cv = 10)\n",
    "knn_cv.fit(X_train, y_train)\n",
    "\n",
    "params_optimal_knn = knn_cv.best_params_\n",
    "\n",
    "print(\"Best Score: %f\" %knn_cv.best_score_)\n",
    "print(\"Optimal Hyperparameter Values: \", params_optimal_knn)\n",
    "print(\"\\n\")"
   ]
  },
  {
   "cell_type": "code",
   "execution_count": 11,
   "metadata": {},
   "outputs": [
    {
     "name": "stdout",
     "output_type": "stream",
     "text": [
      "Best Score: 0.844364\n",
      "Optimal Hyperparameter Values:  {'n_neighbors': 37, 'p': 2, 'weights': 'distance'}\n",
      "\n",
      "\n",
      "CPU times: user 4.03 s, sys: 17.6 ms, total: 4.04 s\n",
      "Wall time: 4.05 s\n"
     ]
    }
   ],
   "source": [
    "%%time\n",
    "#Model Selection on X_new\n",
    "warnings.filterwarnings('ignore')\n",
    "\n",
    "param_grid = {'n_neighbors': [1, 5, 9, 33, 37], 'p': [1, 2, 10, 100], 'weights': [\"uniform\", \"distance\"]}\n",
    "knn = KNeighborsClassifier()\n",
    "\n",
    "knn_cv_new = GridSearchCV(knn, param_grid, scoring = 'f1', cv = 10)\n",
    "knn_cv_new.fit(X_new_train, y_train)\n",
    "\n",
    "params_optimal_knn_new = knn_cv_new.best_params_\n",
    "\n",
    "print(\"Best Score: %f\" %knn_cv_new.best_score_)\n",
    "print(\"Optimal Hyperparameter Values: \", params_optimal_knn_new)\n",
    "print(\"\\n\")"
   ]
  },
  {
   "cell_type": "markdown",
   "metadata": {},
   "source": [
    "<font size=6 color=blue>__Question 11__</font>"
   ]
  },
  {
   "cell_type": "code",
   "execution_count": 12,
   "metadata": {},
   "outputs": [
    {
     "name": "stdout",
     "output_type": "stream",
     "text": [
      "Training Accuracy:  1.0\n"
     ]
    }
   ],
   "source": [
    "#Keep the original features because F1 does not increase\n",
    "#Train KNeighborsClassifier model\n",
    "knn = KNeighborsClassifier(**params_optimal_knn)\n",
    "knn.fit(X_train, y_train)\n",
    "\n",
    "y_train_predicted = knn.predict(X_train)\n",
    "\n",
    "train_accuracy_knn = np.mean(y_train_predicted == y_train)\n",
    "print(\"Training Accuracy: \", train_accuracy_knn)"
   ]
  },
  {
   "cell_type": "markdown",
   "metadata": {},
   "source": [
    "<font size=6 color=blue>__Question 12__</font>"
   ]
  },
  {
   "cell_type": "code",
   "execution_count": 13,
   "metadata": {},
   "outputs": [
    {
     "name": "stdout",
     "output_type": "stream",
     "text": [
      "[0.84827586 0.84763573 0.86206897 0.86212914 0.8312611  0.84805654\n",
      " 0.84397163 0.87873462 0.8466899  0.85614035]\n",
      "F1 Score: 0.85 (+/- 0.02)\n"
     ]
    }
   ],
   "source": [
    "#Evaluation\n",
    "scores = cross_val_score(knn, X_train, y_train, scoring = 'f1', cv = 10)\n",
    "print(scores)\n",
    "print(\"F1 Score: %.2f (+/- %.2f)\" % (scores.mean(), scores.std()*2))"
   ]
  },
  {
   "cell_type": "markdown",
   "metadata": {},
   "source": [
    "<font size=6 color=blue>__Question 13__</font>"
   ]
  },
  {
   "cell_type": "code",
   "execution_count": 14,
   "metadata": {},
   "outputs": [
    {
     "name": "stdout",
     "output_type": "stream",
     "text": [
      "Precision = 0.791030\n",
      "Recall = 0.924421\n",
      "F1 Score = 0.852539\n"
     ]
    },
    {
     "data": {
      "text/plain": [
       "array([[ 642,  643],\n",
       "       [ 199, 2434]])"
      ]
     },
     "execution_count": 14,
     "metadata": {},
     "output_type": "execute_result"
    }
   ],
   "source": [
    "#Performance Measure\n",
    "y_train_pred = cross_val_predict(knn, X_train, y_train, cv = 10)\n",
    "\n",
    "precision = precision_score(y_train, y_train_pred)\n",
    "print(\"Precision = %f\" %precision)\n",
    "\n",
    "recall = recall_score(y_train, y_train_pred)\n",
    "print(\"Recall = %f\" %recall)\n",
    "\n",
    "f1 = f1_score(y_train, y_train_pred)\n",
    "print(\"F1 Score = %f\" %f1)\n",
    "\n",
    "confusion_matrix(y_train, y_train_pred)"
   ]
  },
  {
   "cell_type": "markdown",
   "metadata": {},
   "source": [
    "<font size=6 color=blue>__Question 14__</font>"
   ]
  },
  {
   "cell_type": "code",
   "execution_count": 15,
   "metadata": {},
   "outputs": [
    {
     "name": "stdout",
     "output_type": "stream",
     "text": [
      "\n",
      "FPR & TPR for Various Threshold Values:\n",
      "FPR:  [0.         0.00233463 0.00233463 ... 0.72217899 0.74396887 1.        ]\n",
      "TPR:  [0.         0.29965818 0.30231675 ... 1.         1.         1.        ]\n",
      "Thresholds:  [2.         1.         0.98187904 ... 0.23310419 0.06750495 0.        ]\n"
     ]
    }
   ],
   "source": [
    "# ROC Curve with FPR&TPR\n",
    "y_scores = cross_val_predict(knn, X_train, y_train, method='predict_proba', cv = 10)[:, 1]\n",
    "fpr, tpr, thresholds = roc_curve(y_train, y_scores)\n",
    "\n",
    "print(\"\\nFPR & TPR for Various Threshold Values:\")\n",
    "print(\"FPR: \", fpr)\n",
    "print(\"TPR: \", tpr)\n",
    "print(\"Thresholds: \", thresholds)"
   ]
  },
  {
   "cell_type": "code",
   "execution_count": 16,
   "metadata": {},
   "outputs": [
    {
     "data": {
      "image/png": "[encoded data removed]",
      "text/plain": [
       "<Figure size 720x432 with 1 Axes>"
      ]
     },
     "metadata": {},
     "output_type": "display_data"
    }
   ],
   "source": [
    "#Plotting ROC\n",
    "plt.style.use('ggplot')\n",
    "fig = plt.figure(figsize=(10, 6))\n",
    "\n",
    "def plot_roc_curve(fpr, tpr, label=None):\n",
    "    plt.plot(fpr, tpr, color='darkorange', linewidth=6, label=label)\n",
    "    plt.plot([0,1],[0,1], color='navy', lw=2, linestyle='--')\n",
    "    plt.axis([0, 1, 0, 1])\n",
    "    plt.title('ROC Curve (Train Data)')\n",
    "    plt.xlabel('False Positive Rate')\n",
    "    plt.ylabel('True Positive Rate')\n",
    "\n",
    "plot_roc_curve(fpr, tpr)\n",
    "plt.show()"
   ]
  },
  {
   "cell_type": "markdown",
   "metadata": {},
   "source": [
    "<font size=6 color=blue>__Question 15__</font>"
   ]
  },
  {
   "cell_type": "code",
   "execution_count": 17,
   "metadata": {},
   "outputs": [
    {
     "name": "stdout",
     "output_type": "stream",
     "text": [
      "The area under the curve is:\n"
     ]
    },
    {
     "data": {
      "text/plain": [
       "0.8598744460092718"
      ]
     },
     "execution_count": 17,
     "metadata": {},
     "output_type": "execute_result"
    }
   ],
   "source": [
    "#Area Under The ROC Curve\n",
    "print('The area under the curve is:')\n",
    "roc_auc_score(y_train, y_scores)"
   ]
  },
  {
   "cell_type": "markdown",
   "metadata": {},
   "source": [
    "<font size=6 color=blue>__Question 16__</font>"
   ]
  },
  {
   "cell_type": "code",
   "execution_count": 18,
   "metadata": {},
   "outputs": [
    {
     "data": {
      "image/png": "[encoded data removed]",
      "text/plain": [
       "<Figure size 720x432 with 1 Axes>"
      ]
     },
     "metadata": {},
     "output_type": "display_data"
    }
   ],
   "source": [
    "#Precision-recall Curve\n",
    "plt.style.use('ggplot')\n",
    "\n",
    "y_scores = cross_val_predict(knn, X_train, y_train, method='predict_proba', cv=10)[:, 1]\n",
    "\n",
    "precisions, recalls, thresholds = precision_recall_curve(y_train, y_scores)\n",
    "\n",
    "fig = plt.figure(figsize=(10, 6))\n",
    "def plot_precision_recall_vs_threshold(precisions, recalls, thresholds):\n",
    "    plt.plot(thresholds, precisions[: -1], 'b--', linewidth=5, label='Precision')\n",
    "    plt.plot(thresholds, recalls[: -1], 'g--', linewidth=3, label='Recall')\n",
    "    plt.xlabel('Threshold')\n",
    "    plt.legend(loc='lower right')\n",
    "    plt.title('Precision-Recall Curve')\n",
    "    plt.ylim([0, 1.1])\n",
    "\n",
    "plot_precision_recall_vs_threshold(precisions, recalls, thresholds)\n",
    "plt.show()"
   ]
  },
  {
   "cell_type": "code",
   "execution_count": 19,
   "metadata": {},
   "outputs": [
    {
     "name": "stdout",
     "output_type": "stream",
     "text": [
      "\n",
      "The optimal threshold for the training data is 0.606669\n"
     ]
    }
   ],
   "source": [
    "#Find optimal Threshold\n",
    "threshold_optimal = -1\n",
    "for i in range(len(precisions)):\n",
    "    if(precisions[i] == recalls[i]):\n",
    "        threshold_optimal = thresholds[i]\n",
    "\n",
    "print('\\nThe optimal threshold for the training data is %f' %threshold_optimal)"
   ]
  },
  {
   "cell_type": "markdown",
   "metadata": {},
   "source": [
    "<font size=6 color=blue>__Question 17__</font>"
   ]
  },
  {
   "cell_type": "code",
   "execution_count": 20,
   "metadata": {},
   "outputs": [
    {
     "name": "stdout",
     "output_type": "stream",
     "text": [
      "Performance Measures Based on the Default Threshold:\n",
      "\n",
      "Precision (Default Threshold 0.5) = 0.791030\n",
      "Recall (Default Threshold 0.5) = 0.924421\n",
      "F1 (Default Threshold 0.5) = 0.852539\n",
      "Confusion Matrix (Default Threshold 0.5)\n",
      " [[ 642  643]\n",
      " [ 199 2434]]\n",
      "\n",
      "------------------------------------------------------------\n",
      "\n",
      "Performance Measures Based on a New Threshold:\n",
      "Precision (Threshold 0.61) = 0.837448\n",
      "Recall (Threshold 0.61) = 0.837448\n",
      "F1 Score (Threshold 0.61) = 0.837448\n",
      "Confusion Matrix (Threshold 0.61)\n",
      "[[ 857  428]\n",
      " [ 428 2205]]\n"
     ]
    }
   ],
   "source": [
    "#Evaluation on test data and performance of the model\n",
    "print('Performance Measures Based on the Default Threshold:\\n')\n",
    "y_train_pred = cross_val_predict(knn ,X_train, y_train, cv=10)\n",
    "\n",
    "precision_train = precision_score(y_train, y_train_pred)\n",
    "print('Precision (Default Threshold 0.5) = %f' %precision_train)\n",
    "\n",
    "recall_train = recall_score(y_train, y_train_pred)\n",
    "print('Recall (Default Threshold 0.5) = %f' %recall_train)\n",
    "\n",
    "f1_train = f1_score(y_train, y_train_pred)\n",
    "print('F1 (Default Threshold 0.5) = %f' %f1_train)\n",
    "\n",
    "print('Confusion Matrix (Default Threshold 0.5)\\n', confusion_matrix(y_train, y_train_pred))\n",
    "\n",
    "print('\\n------------------------------------------------------------\\n')\n",
    "\n",
    "print('Performance Measures Based on a New Threshold:')\n",
    "\n",
    "t = 0.606669\n",
    "\n",
    "y_train_predicted_new = (cross_val_predict(knn, X_train, y_train, method='predict_proba', cv=10)[:, 1] > t).astype(int)\n",
    "\n",
    "precision = precision_score(y_train, y_train_predicted_new)\n",
    "print('Precision (Threshold %.2f) = %f' %(t, precision))\n",
    "\n",
    "recall = recall_score(y_train, y_train_predicted_new)\n",
    "print('Recall (Threshold %.2f) = %f' %(t, recall))\n",
    "\n",
    "f1 = f1_score(y_train, y_train_predicted_new)\n",
    "print('F1 Score (Threshold %.2f) = %f' %(t, f1))\n",
    "\n",
    "print('Confusion Matrix (Threshold %.2f)' %t)\n",
    "print(confusion_matrix(y_train, y_train_predicted_new))"
   ]
  },
  {
   "cell_type": "code",
   "execution_count": 21,
   "metadata": {},
   "outputs": [
    {
     "name": "stdout",
     "output_type": "stream",
     "text": [
      "\n",
      "Test Accuracy:  0.75\n",
      "\n",
      "No. of correct predictions (Test): 735/980\n",
      "\n",
      "Confusion Matrix (Test Data):\n",
      " [[177 178]\n",
      " [ 67 558]]\n"
     ]
    }
   ],
   "source": [
    "#Determine Accuracy\n",
    "\n",
    "test_accuracy_knn = knn.score(X_test, y_test)\n",
    "print('\\nTest Accuracy: ', test_accuracy_knn)\n",
    "\n",
    "y_test_predicted = knn.predict(X_test)\n",
    "print('\\nNo. of correct predictions (Test): %d/%d' %(np.sum(y_test_predicted == y_test), len(y_test)))\n",
    "\n",
    "print('\\nConfusion Matrix (Test Data):\\n', confusion_matrix(y_test, y_test_predicted))"
   ]
  },
  {
   "cell_type": "code",
   "execution_count": null,
   "metadata": {},
   "outputs": [],
   "source": []
  },
  {
   "cell_type": "code",
   "execution_count": null,
   "metadata": {},
   "outputs": [],
   "source": []
  }
 ],
 "metadata": {
  "kernelspec": {
   "display_name": "Python 3",
   "language": "python",
   "name": "python3"
  },
  "language_info": {
   "codemirror_mode": {
    "name": "ipython",
    "version": 3
   },
   "file_extension": ".py",
   "mimetype": "text/x-python",
   "name": "python",
   "nbconvert_exporter": "python",
   "pygments_lexer": "ipython3",
   "version": "3.7.3"
  }
 },
 "nbformat": 4,
 "nbformat_minor": 2
}
