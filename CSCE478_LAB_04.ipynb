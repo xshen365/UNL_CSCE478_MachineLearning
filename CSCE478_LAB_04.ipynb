{
 "cells": [
  {
   "cell_type": "markdown",
   "metadata": {},
   "source": [
    "# Optimization of The K Nearest Neighbors Model \n",
    "\n",
    "\n",
    "In this recitation you will use K Nearest Neighbors (K-NN) model to **optimize a binary classifier**.\n",
    "\n",
    "Your main task would be to compare the performance of two K-NN classifiers that are based on the following two distance metrics:\n",
    "\n",
    "- Minkowski\n",
    "- Mahalanobis\n",
    "\n",
    "\n",
    "You will investigate the following:\n",
    "-\tEffect of feature scaling (standardization)\n",
    "-\tUnderstanding covariance \n",
    "-\tWhich K-NN model (Minkowski or Mahalanobis distance metric) performs better when features have **high covariance**\n",
    "\n",
    "\n",
    "\n",
    "\n",
    "## Note: Data Scaling\n",
    "- Minkowski: If the feature scales vary, then you need to standardize the data during preprocessing\n",
    "- Mahalanobis: No need to standardize the data during preprocessing"
   ]
  },
  {
   "cell_type": "code",
   "execution_count": 1,
   "metadata": {},
   "outputs": [],
   "source": [
    "import warnings\n",
    "import pandas as pd\n",
    "import numpy as np\n",
    "import matplotlib.pyplot as plt\n",
    "%matplotlib inline\n",
    "\n",
    "from numpy import cov\n",
    "from numpy.linalg import inv, matrix_rank, det, eig, cond\n",
    "\n",
    "\n",
    "from sklearn.preprocessing import StandardScaler, scale\n",
    "from sklearn.neighbors import KNeighborsClassifier\n",
    "from sklearn.model_selection import train_test_split, GridSearchCV, cross_val_score, cross_val_predict\n",
    "from sklearn.metrics import confusion_matrix, precision_score, recall_score, f1_score"
   ]
  },
  {
   "cell_type": "markdown",
   "metadata": {},
   "source": [
    "# Create a Synthetic Dataset\n",
    "\n",
    "We created a synthetic dataset that consists of datapoints from two classes (class 0 and 1).\n",
    "\n",
    "These datapoints are generated from two 2D Gaussian distributions.\n",
    "\n",
    "Observe that the 2D features have high covariance."
   ]
  },
  {
   "cell_type": "code",
   "execution_count": 2,
   "metadata": {},
   "outputs": [
    {
     "data": {
      "image/png": "[encoded data removed]",
      "text/plain": [
       "<Figure size 720x432 with 1 Axes>"
      ]
     },
     "metadata": {
      "needs_background": "light"
     },
     "output_type": "display_data"
    }
   ],
   "source": [
    "# The following binary classification dataset is created by drawing data from two 2D Gaussians\n",
    "# Each data point has 2 features (dimensions)\n",
    "\n",
    "\n",
    "# Mean and covariance for Class 0\n",
    "mean0 = [10, 10]\n",
    "cov0 = [[9500, 9480], [9480, 9500]]\n",
    "\n",
    "\n",
    "# Number of datapoints for class 0\n",
    "m0 = 200\n",
    "\n",
    "\n",
    "# Generate class 0 data points from a multivariate (2D) Gaussian distribution\n",
    "#    Here x0_1, x0_2 and x0_3 are 3 dimensions for each data (feature) point\n",
    "\n",
    "x0_1, x0_2 = np.random.multivariate_normal(mean0, cov0, m0).T\n",
    "\n",
    "\n",
    "# Concatenate the 3 dimensions of each feature to create the data matrix for class 0 \n",
    "X0 = np.concatenate((x0_1.reshape(-1, 1), x0_2.reshape(-1, 1)), axis=1)\n",
    "\n",
    "# Create the target vector for class 0 (target is coded with zero)\n",
    "X0_target = np.zeros((m0,), dtype=np.int).reshape(-1, 1)\n",
    "\n",
    "\n",
    "\n",
    "# Mean and covariance for Class 1\n",
    "mean1 = [25, 15]\n",
    "cov1 = [[9500, 9480], [9480, 9500]]\n",
    "\n",
    "# Number of datapoints for class 1\n",
    "m1 = 200\n",
    "\n",
    "\n",
    "# Generate class 1 data points from a multivariate (2D) Gaussian distribution\n",
    "#    Here x1_1, x1_2 and x1_3 are 2 dimensions for each data (feature) point\n",
    "x1_1, x1_2 = np.random.multivariate_normal(mean1, cov1, m1).T\n",
    "\n",
    "# Concatenate the 3 dimensions of each feature to create the data matrix for class 1\n",
    "X1 = np.concatenate((x1_1.reshape(-1, 1), x1_2.reshape(-1, 1)), axis=1)\n",
    "\n",
    "# Create the target vector for class 1 (target is coded with one)\n",
    "X1_target = np.ones((m1,), dtype=np.int).reshape(-1, 1)\n",
    "\n",
    "\n",
    "#  Class 0 and 1 data are combined to create a single data matrix X\n",
    "X = np.append(X0, X1, axis=0)\n",
    "\n",
    "# Target values for class 0 & 1 are combined to create a single target vector\n",
    "y = np.concatenate((X0_target, X1_target), axis=0)\n",
    "\n",
    "\n",
    "\n",
    "\n",
    "\n",
    "# Draw a scatter plot\n",
    "fig = plt.figure(figsize=(10, 6))\n",
    "plt.scatter(X0[:, 0], X0[:, 1],alpha=0.9, c=\"blue\", edgecolors='none', s=20, label=\"Class 0\")\n",
    "plt.scatter(X1[:, 0], X1[:, 1],alpha=0.9, c=\"red\", edgecolors='none', s=20, label=\"Class 1\")\n",
    "# plt.xlim(0,2)\n",
    "# plt.ylim(0,500)\n",
    "plt.title(\"Binary Data (Non-Standardized)\")\n",
    "plt.legend(loc=2)\n",
    "plt.xlabel(\"$x_1$\")\n",
    "plt.ylabel(\"$x_2$\", rotation=0)\n",
    "plt.show()\n"
   ]
  },
  {
   "cell_type": "markdown",
   "metadata": {},
   "source": [
    "## Investigate the Covariance Matrix and Its Properties\n",
    "\n",
    "If a covariance matrix is singular, then its:\n",
    "1. Determinant will be 0 (Note: determinant is the product of the eigenvalues; so if one or more eigvalues are zero, then the determinant will be zero)\n",
    "2. It will not be positive definite (there will be zero eigenvalues)\n",
    "3. It will suffer from rank deficiency (not full rank)\n",
    "\n",
    "\n",
    "\n",
    "\n",
    "### Some Caveats of Numerical Algorithms:\n",
    "- A covariance matrix is a real symmetric matrix, so its eigenvalues should be real. However, numerical algorithms that don't assume (or detect) that the matrix is symmetric might return small imaginary components due to roundoff error. \n",
    "\n",
    "- Due to the numerical algorithms, sometimes we might see that a matrix has full rank, but its determinant is zero. This happens due to rounding off issues in numerical algorithms.\n",
    "\n",
    "- Also, sometimes we might see that a matrix has zero determinant (e.g., -0.0), but it's non-sigular (its inverse is defined). Again this happens due to the rounding off issue.\n",
    "\n",
    "## Condition Number\n",
    "\n",
    "When we observe a conflicting situation (zero determinant but full rank), we may compute the condition number of a matrix to identify its singularity.\n",
    "\n",
    "If the condition number is very large, then the matrix is said to be ill-conditioned. Practically, such a matrix is almost singular, and the computation of its inverse, or solution of a linear system of equations is prone to large numerical errors. Super high condition number would mean that some variables are highly correlated. "
   ]
  },
  {
   "cell_type": "markdown",
   "metadata": {},
   "source": [
    "For the folowing calculations, we use following numpy functions:\n",
    "- cov (from numpy)\n",
    "- inv, matrix_rank, det, eig, cond (from numpy.linalg)\n",
    "\n",
    "Note that the cov() function requires the transpose of the data matrix."
   ]
  },
  {
   "cell_type": "code",
   "execution_count": 3,
   "metadata": {},
   "outputs": [
    {
     "name": "stdout",
     "output_type": "stream",
     "text": [
      "Dimension of X:  (400, 2)\n",
      "\n",
      "Rank of X:  2\n",
      "\n",
      "Covariance of X:\n",
      " [[9859.8273329  9863.57651371]\n",
      " [9863.57651371 9928.17659105]]\n",
      "\n",
      "Dimension of the Covariance of X:  (2, 2)\n",
      "\n",
      "Determinant of the Covariance of X:  599965.276555742\n",
      "\n",
      "Number of complex eigenvalues: 0\n",
      "\n",
      "Rank of the Covariance matrix:  2\n",
      "\n",
      "Condition Number of the Covariance matrix:  650.6447320971561\n"
     ]
    }
   ],
   "source": [
    "print(\"Dimension of X: \", X.shape)\n",
    "print(\"\\nRank of X: \", matrix_rank(X))\n",
    "\n",
    "# Covariance of X\n",
    "Sigma = cov(X.T)\n",
    "\n",
    "print(\"\\nCovariance of X:\\n\", Sigma)\n",
    "\n",
    "print(\"\\nDimension of the Covariance of X: \", Sigma.shape)\n",
    "\n",
    "print(\"\\nDeterminant of the Covariance of X: \", det(Sigma))\n",
    "\n",
    "\n",
    "# Compute eigenvalues and eigenvectors \n",
    "eigenvalues, eigenvectors = eig(Sigma)\n",
    "\n",
    "\n",
    "# Count the number of complex eigenvalues\n",
    "noOfComplexEigenvalues = 0\n",
    "for i in range(len(eigenvalues)):\n",
    "    if isinstance(eigenvalues[i], complex):\n",
    "        noOfComplexEigenvalues = noOfComplexEigenvalues + 1\n",
    "        \n",
    "print(\"\\nNumber of complex eigenvalues: %d\" % noOfComplexEigenvalues)\n",
    "\n",
    "\n",
    "\n",
    "print(\"\\nRank of the Covariance matrix: \", matrix_rank(Sigma))\n",
    "\n",
    "#print(\"\\nCovariance Matrix\\n\", Sigma)\n",
    "\n",
    "\n",
    "condNum = cond(Sigma)\n",
    "print(\"\\nCondition Number of the Covariance matrix: \", condNum)\n"
   ]
  },
  {
   "cell_type": "markdown",
   "metadata": {},
   "source": [
    "# Create Test and Train Dataset\n",
    "\n",
    "We use sklearn's train_test_split function to spilt the dataset into training and test subsets. The data is shuffled by default before splitting.\n",
    "\n",
    "This function splits arrays or matrices into **random** train and test subsets.\n",
    "\n",
    "For the reproducability of the results, we use the same seed for the random number generator. The seed is set by the \"random_state\" parameter of the split function. \n",
    "\n",
    "However, if we don't want to produce the same train and test subsets in repeated experiments, then we drop the \"random_state\" parameter from the funtion.\n",
    "\n",
    "\n",
    "### Note: Target y\n",
    "\n",
    "The target y is defined as a 1D vector. The sklearn KNeighborsClassifier model requires the target to be a 1D array. \n",
    "\n",
    "We use the numpy.ravel() function to create a flattened array from the 1D vector y.\n",
    "\n",
    "We create seperate train-test sets for both the non-standardized and the standardized data."
   ]
  },
  {
   "cell_type": "code",
   "execution_count": 4,
   "metadata": {},
   "outputs": [
    {
     "name": "stdout",
     "output_type": "stream",
     "text": [
      "(320, 2)\n",
      "(80, 2)\n",
      "(320,)\n",
      "(80,)\n"
     ]
    }
   ],
   "source": [
    "# Convert the target as a 1D array\n",
    "y = y.ravel()\n",
    "\n",
    "X_train, X_test, y_train, y_test = train_test_split(X, y, test_size=0.2)\n",
    "\n",
    "print(X_train.shape)\n",
    "print(X_test.shape)\n",
    "print(y_train.shape)\n",
    "print(y_test.shape)"
   ]
  },
  {
   "cell_type": "markdown",
   "metadata": {},
   "source": [
    "# Covariance of Train & Test Data\n",
    "\n",
    "For training a K-NN model using the Mahalanobis distance metric, we need to compute the data covariance & inverse of the covariance matrices.\n",
    "\n",
    "For computing the inverse of the covariance matrix, first try the inv() function.\n",
    "\n",
    "If you get \"singular matrix\" error, then try the pseudoinverse pinv() function."
   ]
  },
  {
   "cell_type": "markdown",
   "metadata": {},
   "source": [
    "## Task 1 (4 pts): \n",
    "\n",
    "Compute the following:\n",
    "\n",
    "- Covariance matrix of X_train\n",
    "- Determinant of the Covariance matrix of X_train\n",
    "- Rank of the Covariance matrix of X_train\n",
    "- Inverse of the Covariance matrix of X_train\n"
   ]
  },
  {
   "cell_type": "code",
   "execution_count": 5,
   "metadata": {},
   "outputs": [
    {
     "name": "stdout",
     "output_type": "stream",
     "text": [
      "The covariance matrix of X_train is:\n",
      "\n",
      " [[9655.18120453 9678.68957773]\n",
      " [9678.68957773 9762.15512267]]\n",
      "\n",
      "The determinant of the covariance matrix of X_train is:\n",
      "\n",
      " 578344.714118049\n",
      "\n",
      "The rank of the covariance matrix of X_train is:\n",
      "\n",
      " 2\n",
      "\n",
      "The inverse of the covariance matrix of X_train is:\n",
      "\n",
      " [[ 0.01687947 -0.01673516]\n",
      " [-0.01673516  0.01669451]]\n"
     ]
    }
   ],
   "source": [
    "# Covariance matrix of X_train\n",
    "X_train_cov = cov(X_train.T)\n",
    "print('The covariance matrix of X_train is:\\n\\n', X_train_cov)\n",
    "\n",
    "\n",
    "# Determinant of the Covariance matrix of X_train\n",
    "X_train_cov_det = det(X_train_cov)\n",
    "print('\\nThe determinant of the covariance matrix of X_train is:\\n\\n', X_train_cov_det)\n",
    "\n",
    "\n",
    "\n",
    "# Rank of the Covariance matrix of X_train\n",
    "X_train_cov_rank = matrix_rank(X_train_cov)\n",
    "print('\\nThe rank of the covariance matrix of X_train is:\\n\\n', X_train_cov_rank)\n",
    "\n",
    "\n",
    "\n",
    "\n",
    "# Inverse of the Covariance matrix of X_train\n",
    "X_train_cov_inv = inv(X_train_cov)\n",
    "print('\\nThe inverse of the covariance matrix of X_train is:\\n\\n', X_train_cov_inv)\n",
    "\n",
    "\n",
    "\n"
   ]
  },
  {
   "cell_type": "markdown",
   "metadata": {},
   "source": [
    "## Minkowski Distance Metric: Model Selection\n",
    "\n",
    "A K-NN model is defined by a set of parameters: nearest neighbors (K), distance metric (p), etc. These are called **hyperparameters**. We need to select the best model based on the optimal values of these hyperparameters. This process is called hyperparameter tuning.\n",
    "\n",
    "The model parameters are known as **hyperparameters** because the values of these parameters are used to control the learning process. By contrast, the values of other parameters are learned. In the K-NN model there is no learning, thus we only tune the hyperparameters to create the optimal model\n",
    "\n",
    "Hyperparameters are are passed as arguments to the constructor of the estimator classes. We search the hyperparameter space for the best cross validation score.\n",
    "\n",
    "\n",
    "### Hyperparameter Tuning\n",
    "\n",
    "The best way to do hyperparameter tuning is to use cross-validation.\n",
    "\n",
    "We will use Scikit-Learn’s **GridSearchCV** to search the combinations of hyperparameter values that provide the best performance.\n",
    "\n",
    "We need to tell which hyperparameters we want the GridSearchCV to experiment with, and what values to try out. It will evaluate all the possible combinations of hyperparameter values, using cross-validation. \n",
    "\n",
    "We will tune the following hyperparameters of the GridSearchCV model.\n",
    "\n",
    "- n_neighbors \n",
    "- weights \n",
    "- p \n",
    "    \n",
    "\n",
    "\n",
    "### GridSearchCV Parameters\n",
    "\n",
    "Following are the most frequenly used parameters by GridSearchCV.\n",
    "\n",
    "- estimator : estimator object. This is assumed to implement the scikit-learn estimator interface. Either estimator needs to provide a score function, or scoring must be passed.\n",
    "\n",
    "- param_grid : Dictionary with parameters names (string) as keys and lists of parameter settings to try as values, or a list of such dictionaries, in which case the grids spanned by each dictionary in the list are explored. This enables searching over any sequence of parameter settings.\n",
    "\n",
    "- scoring : string, callable, list/tuple, dict or None, default: None\n",
    "\n",
    "    -- A single string (see The scoring parameter: defining model evaluation rules) or a callable (see Defining your scoring strategy from metric functions) to evaluate the predictions on the test set.\n",
    "\n",
    "\n",
    "- n_jobs : int or None, optional (default=None). Number of jobs to run in parallel. \n",
    "\n",
    "    -- n_jobs= None means 1 unless in a joblib.parallel_backend context. \n",
    "   \n",
    "    -- n_jobs = -1 means using all processors. \n",
    "\n",
    "- cv : int. Determines the cross-validation splitting strategy. None, to use the default 3-fold cross validation.\n",
    "\n",
    "- verbose : integer. Controls the verbosity: the higher, the more messages.\n",
    "\n",
    "\n",
    "### Note: the scoring function\n",
    "\n",
    "The GridSearchCV takes an argument to define the scoring metric (performance measure). \n",
    "\n",
    "See the list of possible scoring functions:\n",
    "https://scikit-learn.org/stable/modules/model_evaluation.html#scoring-parameter\n",
    "\n",
    "For multiclass classification, we may use \"f1_micro\" scoring function. The f1_micro function is the average of the F1 score of each class with weighting depending on the average parameter.\n",
    "\n",
    "In the binary classification, f1 score function can be used. We may also use the precision, recall, roc_auc functions."
   ]
  },
  {
   "cell_type": "markdown",
   "metadata": {},
   "source": [
    "## Task 2 (3 + 1 + 1 = 5 pts)\n",
    "\n",
    "Do the following:\n",
    "- Perform model selection using the Minkowski distance metric. Use the given \"param_grid\" values.\n",
    "- Report best F1 score\n",
    "- Report Optimal Hyperparameter Values"
   ]
  },
  {
   "cell_type": "code",
   "execution_count": 6,
   "metadata": {},
   "outputs": [
    {
     "name": "stdout",
     "output_type": "stream",
     "text": [
      "Fitting 5 folds for each of 320 candidates, totalling 1600 fits\n"
     ]
    },
    {
     "name": "stderr",
     "output_type": "stream",
     "text": [
      "[Parallel(n_jobs=-1)]: Using backend LokyBackend with 8 concurrent workers.\n",
      "[Parallel(n_jobs=-1)]: Done  16 tasks      | elapsed:    1.4s\n"
     ]
    },
    {
     "name": "stdout",
     "output_type": "stream",
     "text": [
      "Best Score: 0.703575\n",
      "Optimal Hyperparameter Values:  {'n_neighbors': 13, 'p': 20, 'weights': 'uniform'}\n",
      "\n",
      "\n",
      "CPU times: user 981 ms, sys: 115 ms, total: 1.1 s\n",
      "Wall time: 2.56 s\n"
     ]
    },
    {
     "name": "stderr",
     "output_type": "stream",
     "text": [
      "[Parallel(n_jobs=-1)]: Done 1600 out of 1600 | elapsed:    2.5s finished\n"
     ]
    }
   ],
   "source": [
    "%%time\n",
    "\n",
    "warnings.filterwarnings('ignore')\n",
    "\n",
    "# The param_grid tells Scikit-Learn to evaluate all combinations of the hyperparameter values \n",
    "param_grid = {'n_neighbors': np.arange(1, 40, 2), 'p': [1, 2, 5, 10, 20, 30, 50, 100], \n",
    "              'weights': [\"uniform\", \"distance\"]}\n",
    "\n",
    "knn_clf = KNeighborsClassifier()\n",
    "\n",
    "knn_cv = GridSearchCV(knn_clf, param_grid, scoring='f1', cv=5, verbose=3, n_jobs=-1)\n",
    "\n",
    "knn_cv.fit(X_train, y_train)\n",
    "\n",
    "params_optimal_knn = knn_cv.best_params_\n",
    "\n",
    "print(\"Best Score: %f\" %knn_cv.best_score_)\n",
    "print(\"Optimal Hyperparameter Values: \", params_optimal_knn)\n",
    "print(\"\\n\")"
   ]
  },
  {
   "cell_type": "markdown",
   "metadata": {},
   "source": [
    "## Minkowski Distance Metric: Select The Best Model \n",
    "\n",
    "Using the optimal hyperparameter values, create the best model.\n",
    "\n",
    "Then, fit the model."
   ]
  },
  {
   "cell_type": "markdown",
   "metadata": {},
   "source": [
    "## Task 3 (4 + 1 = 5 pts)\n",
    "\n",
    "Do the following:\n",
    "- Train a model using the optimal hyperparameter values\n",
    "- Report training accuracy"
   ]
  },
  {
   "cell_type": "code",
   "execution_count": 7,
   "metadata": {},
   "outputs": [
    {
     "name": "stdout",
     "output_type": "stream",
     "text": [
      "\n",
      "Training Accuracy:  0.765625\n"
     ]
    }
   ],
   "source": [
    "knn = KNeighborsClassifier(**params_optimal_knn)\n",
    "knn.fit(X_train, y_train)\n",
    "\n",
    "y_train_pred = knn.predict(X_train)\n",
    "\n",
    "train_accuracy_knn = np.mean(y_train_pred == y_train)\n",
    "\n",
    "print(\"\\nTraining Accuracy: \", train_accuracy_knn)"
   ]
  },
  {
   "cell_type": "markdown",
   "metadata": {},
   "source": [
    "## Minkowski Distance Metric: Evaluate The Model Using Test Data\n",
    "\n",
    "The KNeighborsClassifier model has a default \"score\" function that computes the accuracy of the model.\n",
    "\n",
    "Often times the accuracy is not a good measure.\n",
    "\n",
    "We also compute the other performance measures, such as the confusion matrix, precision, recall, and the F1 score for the test data."
   ]
  },
  {
   "cell_type": "markdown",
   "metadata": {},
   "source": [
    "## Task 4 (6 pts)\n",
    "\n",
    "Do the following on the test data:\n",
    "- Compute test accuracy\n",
    "- Compute no. of correct predictions on test data\n",
    "- Compute confusion matrix\n",
    "- Compute precision, recall & F1 score"
   ]
  },
  {
   "cell_type": "code",
   "execution_count": 8,
   "metadata": {},
   "outputs": [
    {
     "name": "stdout",
     "output_type": "stream",
     "text": [
      "\n",
      "Test Accuracy:  0.55\n",
      "\n",
      "No. of correct predictions (Test): 44/80\n",
      "\n",
      "Confusion Matrix (Test Data):\n",
      " [[25 14]\n",
      " [22 19]]\n",
      "\n",
      "Precision =  0.5757575757575758\n",
      "Recall =  0.4634146341463415\n",
      "F1 Score =  0.5135135135135135\n"
     ]
    }
   ],
   "source": [
    "test_accuracy_knn = knn.score(X_test, y_test)\n",
    "print(\"\\nTest Accuracy: \", test_accuracy_knn)\n",
    "\n",
    "\n",
    "y_test_pred = knn.predict(X_test)\n",
    "print(\"\\nNo. of correct predictions (Test): %d/%d\" %(np.sum(y_test_pred == y_test), len(y_test)))\n",
    "\n",
    "\n",
    "test_confusion_matrix = confusion_matrix(y_test, y_test_pred)\n",
    "print(\"\\nConfusion Matrix (Test Data):\\n\", test_confusion_matrix)\n",
    "\n",
    "\n",
    "precision = precision_score(y_test, y_test_pred)\n",
    "print(\"\\nPrecision = \", precision)\n",
    "\n",
    "recall = recall_score(y_test, y_test_pred)\n",
    "print(\"Recall = \", recall)\n",
    "\n",
    "f1 = f1_score(y_test, y_test_pred)\n",
    "print(\"F1 Score = \", f1)"
   ]
  },
  {
   "cell_type": "markdown",
   "metadata": {},
   "source": [
    "# Mahalanobis Distance Metric\n",
    "\n",
    "\n",
    "Note that the Mahalanobis distance metric works only with the brute force algorithm in sklearn. With this distance metric we tune only the following two hyperparameters.\n",
    "- weights: \"distance\", \"uniform\"\n",
    "- n_neighbors: int\n",
    "\n",
    "Also the data should not be standardized before using the Mahalanobis distance metric.\n",
    "\n",
    "\n",
    "## Mahalanobis Distance Metric: Model Selection\n",
    "\n",
    "We cannot use GridSearchCV with the Mahalanobis distance metric.\n",
    "\n",
    "Because for each iteration of the cross-validation by GridSearchCV, a new train fold is created which requires to compute the inverse of the feature covariance matrix.\n",
    "\n",
    "With the sklearn grid search we cannot compute the inverse of the covariance matrix dynamically for each training fold.\n",
    "\n",
    "Thus, we use the following code to search for the combination of the \"weights\" and \"n_neighbors\" hyperparameters with the Mahalanobis distance metric.\n",
    "\n",
    "Note that the “metric_params” parameter is used to provide the feature covariance matrix.\n"
   ]
  },
  {
   "cell_type": "markdown",
   "metadata": {},
   "source": [
    "## Task 5 (10 + 10 + 5 = 25 pts)\n",
    "\n",
    "To train a K-NN model using the Mahalanobis distance metric, use the following template:\n",
    "\n",
    "    knn_mahalanobis = KNeighborsClassifier(weights=?, algorithm='brute', n_neighbors=?, metric = \"mahalanobis\", \n",
    "                              metric_params={'V': ?})\n",
    "                              \n",
    "Here, the parameter $weights$ should be either \"uniform\" or \"distance\" and $metric\\_params$ should be the covariance matrix of X_train.\n",
    "\n",
    "Do the following.\n",
    "- Use weights=\"uniform\" & vary n_neighbors from 1 to 60 to compute a set of training accuracy and validation accuracy (use the cross_val_score function) values. Then plot these two accuracies against the values of n_neighbors.\n",
    "\n",
    "- Use weights=\"distance\" & vary n_neighbors from 1 to 60 to compute a set of training accuracy and validation accuracy (use the cross_val_score function) values. Then plot these two accuracies against the values of n_neighbors.\n",
    "\n",
    "- Then, from the results obtained from the above two tasks determine an optimal pair of (a) n_neighbors & (b) weights. The optimal pair should be chosen based on maximum cross validation accuracy. "
   ]
  },
  {
   "cell_type": "code",
   "execution_count": 9,
   "metadata": {},
   "outputs": [
    {
     "name": "stdout",
     "output_type": "stream",
     "text": [
      "\n",
      "Weight: uniform\n",
      "Max K:  41\n",
      "Max Validation Accuracy:  0.828125\n",
      "\n",
      "Weight: distance\n",
      "Max K:  36\n",
      "Max Validation Accuracy:  0.859375\n",
      "\n",
      "Optimal K:  36\n",
      "Optimal weight: distance\n",
      "Optimal Validation Accuracy:  0.859375\n"
     ]
    },
    {
     "data": {
      "image/png": "[encoded data removed]",
      "text/plain": [
       "<Figure size 720x360 with 1 Axes>"
      ]
     },
     "metadata": {
      "needs_background": "light"
     },
     "output_type": "display_data"
    },
    {
     "data": {
      "image/png": "[encoded data removed]",
      "text/plain": [
       "<Figure size 720x360 with 1 Axes>"
      ]
     },
     "metadata": {
      "needs_background": "light"
     },
     "output_type": "display_data"
    }
   ],
   "source": [
    "# weights = \"uniform\" & n_neighbors = range of Ks from 1 to 60\n",
    "X_train_cov = cov(X_train.T)\n",
    "train_accu_set_uniform = []\n",
    "val_accu_set_uniform = []\n",
    "K_vals = range(1, 60)\n",
    "for i in K_vals:\n",
    "    knn_mahalanobis = KNeighborsClassifier(weights='uniform', algorithm='brute', n_neighbors=i, metric=\"mahalanobis\", metric_params={'V': X_train_cov})\n",
    "    \n",
    "    knn_mahalanobis.fit(X_train, y_train)\n",
    "    y_train_pred_mahalanobis = knn_mahalanobis.predict(X_train)\n",
    "    \n",
    "    train_accu_mahalanobis = knn_mahalanobis.score(X_train, y_train)\n",
    "    train_accu_set_uniform.append(train_accu_mahalanobis)\n",
    "    validation_accu_uniform = cross_val_score(knn_mahalanobis, X_train, y_train, cv=5, scoring='accuracy')\n",
    "    val_accu_set_uniform.append(max(validation_accu_uniform))\n",
    "    \n",
    "max_accu_validation_uniform = max(val_accu_set_uniform)\n",
    "k_validation_best_uniform = 0\n",
    "for i in range(len(val_accu_set_uniform)):\n",
    "    if val_accu_set_uniform[i] == max_accu_validation_uniform:\n",
    "        k_validation_best_uniform = i\n",
    "\n",
    "\n",
    "plt.figure(figsize=(10, 5))\n",
    "plt.scatter(K_vals, train_accu_set_uniform, c='blue', alpha=0.6, label='Train values')\n",
    "plt.xlabel('K Values')\n",
    "plt.ylabel('Accuracy')\n",
    "plt.title('Accuracy vs. K - uniform')\n",
    "plt.scatter(K_vals, val_accu_set_uniform, c='red', alpha=0.6, label='Validation Values')\n",
    "plt.legend()\n",
    "#print(np.asarray(train_accu_set_uniform).shape)\n",
    "#print(np.asarray(val_accu_set).shape)\n",
    "\n",
    "print(\"\\nWeight: uniform\")\n",
    "print(\"Max K: \", k_validation_best_uniform)\n",
    "print(\"Max Validation Accuracy: \", max_accu_validation_uniform)\n",
    "\n",
    "\n",
    "\n",
    "\n",
    "# weights = \"distance\" & n_neighbors = range of Ks from 1 to 60\n",
    "X_train_cov = cov(X_train.T)\n",
    "train_accu_set_distance = []\n",
    "val_accu_set_distance = []\n",
    "K_vals = range(1, 60)\n",
    "for i in K_vals:\n",
    "    knn_mahalanobis = KNeighborsClassifier(weights='distance', algorithm='brute', n_neighbors=i, metric=\"mahalanobis\", metric_params={'V': X_train_cov})\n",
    "    \n",
    "    knn_mahalanobis.fit(X_train, y_train)\n",
    "    y_train_pred_mahalanobis = knn_mahalanobis.predict(X_train)\n",
    "    \n",
    "    train_accu_mahalanobis = knn_mahalanobis.score(X_train, y_train)\n",
    "    train_accu_set_distance.append(train_accu_mahalanobis)\n",
    "    validation_accu_distance = cross_val_score(knn_mahalanobis, X_train, y_train, cv=5, scoring='accuracy')\n",
    "    val_accu_set_distance.append(max(validation_accu_distance))\n",
    "\n",
    "max_accu_validation_distance = max(val_accu_set_distance)\n",
    "k_validation_best_distance = 0\n",
    "for i in range(len(val_accu_set_distance)):\n",
    "    if val_accu_set_distance[i] == max_accu_validation_distance:\n",
    "        k_validation_best_distance = i\n",
    "\n",
    "plt.figure(figsize=(10, 5))\n",
    "plt.scatter(K_vals, train_accu_set_distance, c='blue', alpha=0.6, label='Train values')\n",
    "plt.xlabel('K Values')\n",
    "plt.ylabel('Accuracy')\n",
    "plt.title('Accuracy vs. K - distance')\n",
    "plt.scatter(K_vals, val_accu_set_distance, c='red', alpha=0.6, label='Validation Values')\n",
    "plt.legend()\n",
    "\n",
    "\n",
    "\n",
    "print(\"\\nWeight: distance\")\n",
    "print(\"Max K: \", k_validation_best_distance)\n",
    "print(\"Max Validation Accuracy: \", max_accu_validation_distance)\n",
    "\n",
    "\n",
    "\n",
    "\n",
    "\n",
    "if max_accu_validation_uniform > max_accu_validation_distance:\n",
    "    print(\"\\nOptimal K: \", k_validation_best_uniform)\n",
    "else:\n",
    "    print(\"\\nOptimal K: \", k_validation_best_distance)\n",
    "if max_accu_validation_uniform > max_accu_validation_distance:\n",
    "    print(\"Optimal weight: uniform\") \n",
    "else:\n",
    "    print(\"Optimal weight: distance\") \n",
    "print(\"Optimal Validation Accuracy: \", max(max_accu_validation_uniform, max_accu_validation_distance))   \n"
   ]
  },
  {
   "cell_type": "markdown",
   "metadata": {},
   "source": [
    "## Mahalanobis Distance Metric: Evaluation of the KNN Model "
   ]
  },
  {
   "cell_type": "markdown",
   "metadata": {},
   "source": [
    "## Task 6 (3 + 1 + 1 + 1 + 1 + 1 + 1 + 1 = 10  pts)\n",
    "\n",
    "Do the following for the Mahalanobis distance metric based model:\n",
    "- Train a model using the optimal hyperparameter values (weights & n_neighbors)\n",
    "- Report training accuracy\n",
    "- Compute test accuracy\n",
    "- Compute no. of correct predictions on test data\n",
    "- Compute confusion matrix\n",
    "- Compute precision, recall & F1 score"
   ]
  },
  {
   "cell_type": "code",
   "execution_count": 10,
   "metadata": {},
   "outputs": [
    {
     "name": "stdout",
     "output_type": "stream",
     "text": [
      "\n",
      "Training Accuracy (Mahalanobis Distance):  0.771875\n",
      "\n",
      "Test Accuracy:  0.75\n",
      "\n",
      "No. of correct predictions (Test): 60/80\n",
      "\n",
      "Confusion Matrix (Test Data):\n",
      " [[26 13]\n",
      " [ 7 34]]\n",
      "\n",
      "Precision =  0.723404255319149\n",
      "Recall =  0.8292682926829268\n",
      "F1 Score =  0.7727272727272727\n"
     ]
    }
   ],
   "source": [
    "X_train_cov = cov(X_train.T)\n",
    "knn_mahalanobis = KNeighborsClassifier(weights='uniform', algorithm='brute', n_neighbors=k_validation_best_uniform, metric=\"mahalanobis\", metric_params={'V': X_train_cov})\n",
    "knn_mahalanobis.fit(X_train, y_train)\n",
    "y_train_pred_mahalanobis = knn_mahalanobis.predict(X_train)\n",
    "train_accuracy_knn_mahalanobis = np.mean(y_train_pred_mahalanobis == y_train)\n",
    "\n",
    "print(\"\\nTraining Accuracy (Mahalanobis Distance): \", train_accuracy_knn_mahalanobis)\n",
    "\n",
    "test_accuracy_knn_mahalanobis = knn_mahalanobis.score(X_test, y_test)\n",
    "print(\"\\nTest Accuracy: \", test_accuracy_knn_mahalanobis)\n",
    "\n",
    "\n",
    "y_test_pred_mahalanobis = knn_mahalanobis.predict(X_test)\n",
    "print(\"\\nNo. of correct predictions (Test): %d/%d\" % (np.sum(y_test_pred_mahalanobis == y_test), len(y_test)))\n",
    "\n",
    "\n",
    "\n",
    "confusion_matrix_mahalanobis = confusion_matrix(y_test, y_test_pred_mahalanobis)\n",
    "print(\"\\nConfusion Matrix (Test Data):\\n\", confusion_matrix_mahalanobis)\n",
    "\n",
    "precision = precision_score(y_test, y_test_pred_mahalanobis)\n",
    "print(\"\\nPrecision = \", precision)\n",
    "\n",
    "recall = recall_score(y_test, y_test_pred_mahalanobis)\n",
    "print(\"Recall = \", recall)\n",
    "\n",
    "\n",
    "f1 = f1_score(y_test, y_test_pred_mahalanobis)\n",
    "print(\"F1 Score = \", f1)"
   ]
  },
  {
   "cell_type": "markdown",
   "metadata": {},
   "source": [
    "# Function for Plotting Decision Bounday \n",
    "\n",
    "\n",
    "To better understand how the K Nearest Neighbors model classifier performs classifiation, we need to **<font color=red size=6> visualize </font>** its decision boundary.\n",
    "\n",
    "\n",
    "We define the function \"decision_boundary_class_colored\" to plot the decision boundary. "
   ]
  },
  {
   "cell_type": "code",
   "execution_count": 11,
   "metadata": {},
   "outputs": [],
   "source": [
    "def decision_boundary_class_colored(clf, X, plotDistanceFromHyperplane=False, colorBar=False):\n",
    "    \n",
    "    # Get the min and max value of feature x1\n",
    "    x1min, x1max = X[:,0].min() - 1, X[:, 0].max() + 1\n",
    "    \n",
    "    # Get the min and max value of feature x2\n",
    "    x2min, x2max = X[:,1].min() - 1, X[:, 1].max() + 1\n",
    "    \n",
    "    # Create the mesh grid\n",
    "    x1s = np.linspace(x1min, x1max, 100)\n",
    "    x2s = np.linspace(x2min, x2max, 100)\n",
    "    x1, x2 = np.meshgrid(x1s, x2s)\n",
    "    \n",
    "    \n",
    "    # Create pairs of new points from the grid\n",
    "    X_new = np.c_[x1.ravel(), x2.ravel()]\n",
    "    \n",
    "    \n",
    "    # Compute the class predictions for all new points\n",
    "    y_pred = clf.predict(X_new).reshape(x1.shape)\n",
    "    \n",
    "    \n",
    "    # Generate the contourf plot for the predictions\n",
    "    plt.contourf(x1, x2, y_pred, cmap=plt.cm.binary, alpha=0.8)\n",
    "    \n",
    "    \n",
    "    if(plotDistanceFromHyperplane == True):\n",
    "    \n",
    "        # Compute the signed distance of a sample to the hyperplane for all new points\n",
    "        y_decision = clf.decision_function(X_new).reshape(x1.shape)\n",
    "\n",
    "        # Generate the contourf plot for the distance of all points from the hyperplane\n",
    "        plt.contourf(x1, x2, y_decision, cmap=plt.cm.bwr, alpha=0.2)\n",
    "    \n",
    "    if(colorBar==True):\n",
    "        plt.colorbar()\n",
    "    "
   ]
  },
  {
   "cell_type": "markdown",
   "metadata": {},
   "source": [
    "## Decision Boundary: Minowski Distance vs Mahalanobis Distance"
   ]
  },
  {
   "cell_type": "markdown",
   "metadata": {},
   "source": [
    "## Task 7 (4 + 1 = 5 pts): \n",
    "\n",
    "Do the following:\n",
    "- Plot the decision boundaries on the given dataset by using two optimal models using Minkowski and Mahalanobis distance metrics\n",
    "- On the title of the plots show the training and test accuracies"
   ]
  },
  {
   "cell_type": "code",
   "execution_count": 12,
   "metadata": {},
   "outputs": [
    {
     "data": {
      "text/plain": [
       "([], <a list of 0 Text yticklabel objects>)"
      ]
     },
     "execution_count": 12,
     "metadata": {},
     "output_type": "execute_result"
    },
    {
     "data": {
      "image/png": "[encoded data removed]",
      "text/plain": [
       "<Figure size 1296x576 with 2 Axes>"
      ]
     },
     "metadata": {},
     "output_type": "display_data"
    }
   ],
   "source": [
    "#Minkowski\n",
    "plt.figure(figsize=(18,8))\n",
    "\n",
    "plt.subplot(121)\n",
    "decision_boundary_class_colored(knn, X, plotDistanceFromHyperplane=False)\n",
    "plt.plot(X[y.ravel()==0, 0], X[y.ravel()==0, 1], \"ro\")\n",
    "plt.plot(X[y.ravel()==1, 0], X[y.ravel()==1, 1], \"yo\")\n",
    "plt.xlabel(\"$x_1$\", fontsize=17)\n",
    "plt.ylabel(\"$x_2$\", fontsize=17)\n",
    "plt.title(\"Minkowski\\nTrain Accuracy: %f \\n Test Accuracy: %f\"% \n",
    "          (train_accuracy_knn, test_accuracy_knn) , fontsize=16)\n",
    "plt.xticks(())\n",
    "plt.yticks(())\n",
    "\n",
    "#Mahalanobis\n",
    "plt.subplot(122)\n",
    "decision_boundary_class_colored(knn_mahalanobis, X, plotDistanceFromHyperplane=False)\n",
    "plt.plot(X[y.ravel()==0, 0], X[y.ravel()==0, 1], \"ro\")\n",
    "plt.plot(X[y.ravel()==1, 0], X[y.ravel()==1, 1], \"yo\")\n",
    "plt.xlabel(\"$x_1$\", fontsize=17)\n",
    "plt.ylabel(\"$x_2$\", fontsize=17)\n",
    "plt.title(\"Mahalanobis\\nTrain Accuracy: %f \\n Test Accuracy: %f\"% \n",
    "          (train_accuracy_knn_mahalanobis, test_accuracy_knn_mahalanobis) , fontsize=16)\n",
    "plt.xticks(())\n",
    "plt.yticks(())"
   ]
  },
  {
   "cell_type": "markdown",
   "metadata": {},
   "source": [
    "Once you have completed the above tasks, run this notebook five times and fill out the following two tables. \n",
    "\n",
    "Before every run restart the notebook."
   ]
  },
  {
   "cell_type": "markdown",
   "metadata": {},
   "source": [
    "## Task 8 (10 pts):\n",
    "\n",
    "Report Minkowski distance metric based optimal hyperparameter values (obtained from grid search cross-validation) and performance measures on test data."
   ]
  },
  {
   "cell_type": "code",
   "execution_count": 13,
   "metadata": {},
   "outputs": [
    {
     "data": {
      "text/html": [
       "<div>\n",
       "<style scoped>\n",
       "    .dataframe tbody tr th:only-of-type {\n",
       "        vertical-align: middle;\n",
       "    }\n",
       "\n",
       "    .dataframe tbody tr th {\n",
       "        vertical-align: top;\n",
       "    }\n",
       "\n",
       "    .dataframe thead th {\n",
       "        text-align: right;\n",
       "    }\n",
       "</style>\n",
       "<table border=\"1\" class=\"dataframe\">\n",
       "  <thead>\n",
       "    <tr style=\"text-align: right;\">\n",
       "      <th></th>\n",
       "      <th>weights</th>\n",
       "      <th>n_neighbors</th>\n",
       "      <th>p</th>\n",
       "      <th>Accuracy</th>\n",
       "      <th>Precision</th>\n",
       "      <th>Recall</th>\n",
       "      <th>F1 Score</th>\n",
       "    </tr>\n",
       "  </thead>\n",
       "  <tbody>\n",
       "    <tr>\n",
       "      <th>0</th>\n",
       "      <td>distance</td>\n",
       "      <td>27</td>\n",
       "      <td>10</td>\n",
       "      <td>0.7125</td>\n",
       "      <td>0.7441860465116279</td>\n",
       "      <td>0.7272727272727273</td>\n",
       "      <td>0.735632183908046</td>\n",
       "    </tr>\n",
       "    <tr>\n",
       "      <th>1</th>\n",
       "      <td>distance</td>\n",
       "      <td>20</td>\n",
       "      <td>3</td>\n",
       "      <td>0.6875</td>\n",
       "      <td>0.725</td>\n",
       "      <td>0.6744186046511628</td>\n",
       "      <td>0.6987951807228916</td>\n",
       "    </tr>\n",
       "    <tr>\n",
       "      <th>2</th>\n",
       "      <td>distance</td>\n",
       "      <td>5</td>\n",
       "      <td>5</td>\n",
       "      <td>0.6875</td>\n",
       "      <td>0.6842105263157895</td>\n",
       "      <td>0.6666666666666666</td>\n",
       "      <td>0.6753246753246753</td>\n",
       "    </tr>\n",
       "    <tr>\n",
       "      <th>3</th>\n",
       "      <td>uniform</td>\n",
       "      <td>3</td>\n",
       "      <td>50</td>\n",
       "      <td>0.725</td>\n",
       "      <td>0.8387096774193549</td>\n",
       "      <td>0.6046511627906976</td>\n",
       "      <td>0.7027027027027026</td>\n",
       "    </tr>\n",
       "    <tr>\n",
       "      <th>4</th>\n",
       "      <td>distance</td>\n",
       "      <td>27</td>\n",
       "      <td>20</td>\n",
       "      <td>0.65</td>\n",
       "      <td>0.5652173913043478</td>\n",
       "      <td>0.7647058823529411</td>\n",
       "      <td>0.65</td>\n",
       "    </tr>\n",
       "  </tbody>\n",
       "</table>\n",
       "</div>"
      ],
      "text/plain": [
       "    weights n_neighbors   p Accuracy           Precision              Recall  \\\n",
       "0  distance          27  10   0.7125  0.7441860465116279  0.7272727272727273   \n",
       "1  distance          20   3   0.6875               0.725  0.6744186046511628   \n",
       "2  distance           5   5   0.6875  0.6842105263157895  0.6666666666666666   \n",
       "3   uniform           3  50    0.725  0.8387096774193549  0.6046511627906976   \n",
       "4  distance          27  20     0.65  0.5652173913043478  0.7647058823529411   \n",
       "\n",
       "             F1 Score  \n",
       "0   0.735632183908046  \n",
       "1  0.6987951807228916  \n",
       "2  0.6753246753246753  \n",
       "3  0.7027027027027026  \n",
       "4                0.65  "
      ]
     },
     "execution_count": 13,
     "metadata": {},
     "output_type": "execute_result"
    }
   ],
   "source": [
    "\n",
    "minkowski = pd.DataFrame({\"weights\":[\"distance\", \"distance\", \"distance\", \"uniform\", \"distance\"], \n",
    "                   \"n_neighbors\":[\"27\", \"20\", \"5\", \"3\", \"27\"], \n",
    "                   \"p\":[\"10\", \"3\", \"5\", \"50\", \"20\"], \n",
    "                   \"Accuracy\":[\"0.7125\", \"0.6875\", \"0.6875\", \"0.725\", \"0.65\"],\n",
    "                   \"Precision\":[\"0.7441860465116279\", \"0.725\", \"0.6842105263157895\", \"0.8387096774193549\", \"0.5652173913043478\"],\n",
    "                   \"Recall\":[\"0.7272727272727273\", \"0.6744186046511628\", \"0.6666666666666666\", \"0.6046511627906976\", \"0.7647058823529411\"],\n",
    "                   \"F1 Score\":[\"0.735632183908046\", \"0.6987951807228916\", \"0.6753246753246753\", \"0.7027027027027026\", \"0.65\"]\n",
    "                  })\n",
    "\n",
    "minkowski"
   ]
  },
  {
   "cell_type": "markdown",
   "metadata": {},
   "source": [
    "## Task 9 (10 pts):\n",
    "\n",
    "Report Mahalanobis distance metric based optimal hyperparameter values (obtained from grid search cross-validation) and performance measures on test data."
   ]
  },
  {
   "cell_type": "code",
   "execution_count": 14,
   "metadata": {},
   "outputs": [
    {
     "data": {
      "text/html": [
       "<div>\n",
       "<style scoped>\n",
       "    .dataframe tbody tr th:only-of-type {\n",
       "        vertical-align: middle;\n",
       "    }\n",
       "\n",
       "    .dataframe tbody tr th {\n",
       "        vertical-align: top;\n",
       "    }\n",
       "\n",
       "    .dataframe thead th {\n",
       "        text-align: right;\n",
       "    }\n",
       "</style>\n",
       "<table border=\"1\" class=\"dataframe\">\n",
       "  <thead>\n",
       "    <tr style=\"text-align: right;\">\n",
       "      <th></th>\n",
       "      <th>weights</th>\n",
       "      <th>n_neighbors</th>\n",
       "      <th>Accuracy</th>\n",
       "      <th>Precision</th>\n",
       "      <th>Recall</th>\n",
       "      <th>F1 Score</th>\n",
       "    </tr>\n",
       "  </thead>\n",
       "  <tbody>\n",
       "    <tr>\n",
       "      <th>0</th>\n",
       "      <td>uniform</td>\n",
       "      <td>58</td>\n",
       "      <td>0.7875</td>\n",
       "      <td>0.8292682926829268</td>\n",
       "      <td>0.7727272727272727</td>\n",
       "      <td>0.7999999999999999</td>\n",
       "    </tr>\n",
       "    <tr>\n",
       "      <th>1</th>\n",
       "      <td>uniform</td>\n",
       "      <td>8</td>\n",
       "      <td>0.725</td>\n",
       "      <td>0.7692307692307693</td>\n",
       "      <td>0.6976744186046512</td>\n",
       "      <td>0.7317073170731708</td>\n",
       "    </tr>\n",
       "    <tr>\n",
       "      <th>2</th>\n",
       "      <td>distance</td>\n",
       "      <td>58</td>\n",
       "      <td>0.8125</td>\n",
       "      <td>0.8</td>\n",
       "      <td>0.8205128205128205</td>\n",
       "      <td>0.810126582278481</td>\n",
       "    </tr>\n",
       "    <tr>\n",
       "      <th>3</th>\n",
       "      <td>uniform</td>\n",
       "      <td>47</td>\n",
       "      <td>0.6875</td>\n",
       "      <td>0.725</td>\n",
       "      <td>0.6744186046511628</td>\n",
       "      <td>0.6987951807228916</td>\n",
       "    </tr>\n",
       "    <tr>\n",
       "      <th>4</th>\n",
       "      <td>uniform</td>\n",
       "      <td>13</td>\n",
       "      <td>0.7875</td>\n",
       "      <td>0.7297297297297297</td>\n",
       "      <td>0.7941176470588235</td>\n",
       "      <td>0.7605633802816901</td>\n",
       "    </tr>\n",
       "  </tbody>\n",
       "</table>\n",
       "</div>"
      ],
      "text/plain": [
       "    weights n_neighbors Accuracy           Precision              Recall  \\\n",
       "0   uniform          58   0.7875  0.8292682926829268  0.7727272727272727   \n",
       "1   uniform           8    0.725  0.7692307692307693  0.6976744186046512   \n",
       "2  distance          58   0.8125                 0.8  0.8205128205128205   \n",
       "3   uniform          47   0.6875               0.725  0.6744186046511628   \n",
       "4   uniform          13   0.7875  0.7297297297297297  0.7941176470588235   \n",
       "\n",
       "             F1 Score  \n",
       "0  0.7999999999999999  \n",
       "1  0.7317073170731708  \n",
       "2   0.810126582278481  \n",
       "3  0.6987951807228916  \n",
       "4  0.7605633802816901  "
      ]
     },
     "execution_count": 14,
     "metadata": {},
     "output_type": "execute_result"
    }
   ],
   "source": [
    "\n",
    "mahalanobis = pd.DataFrame({\"weights\":[\"uniform\", \"uniform\", \"distance\", \"uniform\", \"uniform\"], \n",
    "                   \"n_neighbors\":[\"58\", \"8\", \"58\", \"47\", \"13\"],  \n",
    "                   \"Accuracy\":[\"0.7875\", \"0.725\", \"0.8125\", \"0.6875\", \"0.7875\"],\n",
    "                   \"Precision\":[\"0.8292682926829268\", \"0.7692307692307693\", \"0.8\", \"0.725\", \"0.7297297297297297\"],\n",
    "                   \"Recall\":[\"0.7727272727272727\", \"0.6976744186046512\", \"0.8205128205128205\", \"0.6744186046511628\", \"0.7941176470588235\"],\n",
    "                   \"F1 Score\":[\"0.7999999999999999\", \"0.7317073170731708\", \"0.810126582278481\", \"0.6987951807228916\", \"0.7605633802816901\"]\n",
    "                  })\n",
    "\n",
    "mahalanobis"
   ]
  },
  {
   "cell_type": "markdown",
   "metadata": {},
   "source": [
    "## Task 10 (10 pts):\n",
    "\n",
    "Standardize the data and report Minkowski distance metric based optimal hyperparameter values (obtained from grid search cross-validation) and performance measures on test data."
   ]
  },
  {
   "cell_type": "code",
   "execution_count": 15,
   "metadata": {},
   "outputs": [],
   "source": [
    "#Standardize Data\n",
    "y = y.ravel()\n",
    "X_std = scale(X)\n",
    "X_std_train, X_std_test, y_std_train, y_std_test = train_test_split(X_std, y, test_size=0.2, random_state=0)"
   ]
  },
  {
   "cell_type": "code",
   "execution_count": 16,
   "metadata": {},
   "outputs": [
    {
     "name": "stdout",
     "output_type": "stream",
     "text": [
      "Fitting 5 folds for each of 320 candidates, totalling 1600 fits\n"
     ]
    },
    {
     "name": "stderr",
     "output_type": "stream",
     "text": [
      "[Parallel(n_jobs=-1)]: Using backend LokyBackend with 8 concurrent workers.\n",
      "[Parallel(n_jobs=-1)]: Done  16 tasks      | elapsed:    0.2s\n"
     ]
    },
    {
     "name": "stdout",
     "output_type": "stream",
     "text": [
      "Best Score: 0.687715\n",
      "Optimal Hyperparameter Values:  {'n_neighbors': 5, 'p': 10, 'weights': 'uniform'}\n",
      "\n",
      "\n",
      "CPU times: user 674 ms, sys: 15.3 ms, total: 690 ms\n",
      "Wall time: 1.09 s\n"
     ]
    },
    {
     "name": "stderr",
     "output_type": "stream",
     "text": [
      "[Parallel(n_jobs=-1)]: Done 1600 out of 1600 | elapsed:    1.1s finished\n"
     ]
    }
   ],
   "source": [
    "%%time\n",
    "#Model Selection on Standardized Data\n",
    "warnings.filterwarnings('ignore')\n",
    "\n",
    "# The param_grid tells Scikit-Learn to evaluate all combinations of the hyperparameter values \n",
    "param_grid = {'n_neighbors': np.arange(1, 40, 2), 'p': [1, 2, 5, 10, 20, 30, 50, 100], \n",
    "              'weights': [\"uniform\", \"distance\"]}\n",
    "\n",
    "knn_std_clf = KNeighborsClassifier()\n",
    "\n",
    "knn_std_cv = GridSearchCV(knn_std_clf, param_grid, scoring='f1', cv=5, verbose=3, n_jobs=-1)\n",
    "\n",
    "knn_std_cv.fit(X_std_train, y_std_train)\n",
    "\n",
    "params_optimal_std_knn = knn_std_cv.best_params_\n",
    "\n",
    "print(\"Best Score: %f\" %knn_std_cv.best_score_)\n",
    "print(\"Optimal Hyperparameter Values: \", params_optimal_std_knn)\n",
    "print(\"\\n\")"
   ]
  },
  {
   "cell_type": "code",
   "execution_count": 17,
   "metadata": {},
   "outputs": [
    {
     "name": "stdout",
     "output_type": "stream",
     "text": [
      "\n",
      "Training Accuracy (standardized data):  0.778125\n"
     ]
    }
   ],
   "source": [
    "#Find Optimal Model\n",
    "knn_std = KNeighborsClassifier(**params_optimal_std_knn)\n",
    "knn_std.fit(X_std_train, y_std_train) \n",
    "\n",
    "y_std_train_predicted = knn_std.predict(X_std_train)\n",
    "\n",
    "train_accuracy_std_knn = np.mean(y_std_train_predicted == y_std_train)\n",
    "print(\"\\nTraining Accuracy (standardized data): \", train_accuracy_std_knn)"
   ]
  },
  {
   "cell_type": "code",
   "execution_count": 18,
   "metadata": {},
   "outputs": [
    {
     "name": "stdout",
     "output_type": "stream",
     "text": [
      "\n",
      "Test Accuracy:  0.575\n",
      "\n",
      "No. of correct predictions (Test): 61/80\n",
      "\n",
      "Confusion Matrix (Test Data):\n",
      " [[34 12]\n",
      " [ 7 27]]\n",
      "\n",
      "Precision =  0.6923076923076923\n",
      "Recall =  0.7941176470588235\n",
      "F1 Score =  0.7397260273972601\n"
     ]
    }
   ],
   "source": [
    "#Model Evaluation on Standardized Data\n",
    "test_accuracy_std_knn = knn.score(X_std_test, y_std_test)\n",
    "print(\"\\nTest Accuracy: \", test_accuracy_std_knn)\n",
    "\n",
    "\n",
    "y_std_test_pred = knn_std.predict(X_std_test)\n",
    "print(\"\\nNo. of correct predictions (Test): %d/%d\" %(np.sum(y_std_test_pred == y_std_test), len(y_std_test)))\n",
    "\n",
    "\n",
    "test_std_confusion_matrix = confusion_matrix(y_std_test, y_std_test_pred)\n",
    "print(\"\\nConfusion Matrix (Test Data):\\n\", test_std_confusion_matrix)\n",
    "\n",
    "\n",
    "precision_std = precision_score(y_std_test, y_std_test_pred)\n",
    "print(\"\\nPrecision = \", precision_std)\n",
    "\n",
    "recall_std = recall_score(y_std_test, y_std_test_pred)\n",
    "print(\"Recall = \", recall_std)\n",
    "\n",
    "f1_std = f1_score(y_std_test, y_std_test_pred)\n",
    "print(\"F1 Score = \", f1_std)"
   ]
  },
  {
   "cell_type": "code",
   "execution_count": 19,
   "metadata": {},
   "outputs": [
    {
     "data": {
      "text/html": [
       "<div>\n",
       "<style scoped>\n",
       "    .dataframe tbody tr th:only-of-type {\n",
       "        vertical-align: middle;\n",
       "    }\n",
       "\n",
       "    .dataframe tbody tr th {\n",
       "        vertical-align: top;\n",
       "    }\n",
       "\n",
       "    .dataframe thead th {\n",
       "        text-align: right;\n",
       "    }\n",
       "</style>\n",
       "<table border=\"1\" class=\"dataframe\">\n",
       "  <thead>\n",
       "    <tr style=\"text-align: right;\">\n",
       "      <th></th>\n",
       "      <th>weights</th>\n",
       "      <th>n_neighbors</th>\n",
       "      <th>p</th>\n",
       "      <th>Accuracy</th>\n",
       "      <th>Precision</th>\n",
       "      <th>Recall</th>\n",
       "      <th>F1 Score</th>\n",
       "    </tr>\n",
       "  </thead>\n",
       "  <tbody>\n",
       "    <tr>\n",
       "      <th>0</th>\n",
       "      <td>uniform</td>\n",
       "      <td>3</td>\n",
       "      <td>1</td>\n",
       "      <td>0.575</td>\n",
       "      <td>0.6444444444444445</td>\n",
       "      <td>0.8529411764705882</td>\n",
       "      <td>0.7341772151898734</td>\n",
       "    </tr>\n",
       "    <tr>\n",
       "      <th>1</th>\n",
       "      <td>distance</td>\n",
       "      <td>7</td>\n",
       "      <td>2</td>\n",
       "      <td>0.575</td>\n",
       "      <td>0.5365853658536586</td>\n",
       "      <td>0.6470588235294118</td>\n",
       "      <td>0.5866666666666668</td>\n",
       "    </tr>\n",
       "    <tr>\n",
       "      <th>2</th>\n",
       "      <td>distance</td>\n",
       "      <td>3</td>\n",
       "      <td>1</td>\n",
       "      <td>0.575</td>\n",
       "      <td>0.5813953488372093</td>\n",
       "      <td>0.7352941176470589</td>\n",
       "      <td>0.6493506493506493</td>\n",
       "    </tr>\n",
       "    <tr>\n",
       "      <th>3</th>\n",
       "      <td>distance</td>\n",
       "      <td>5</td>\n",
       "      <td>20</td>\n",
       "      <td>0.575</td>\n",
       "      <td>0.675</td>\n",
       "      <td>0.7941176470588235</td>\n",
       "      <td>0.7297297297297296</td>\n",
       "    </tr>\n",
       "    <tr>\n",
       "      <th>4</th>\n",
       "      <td>uniform</td>\n",
       "      <td>9</td>\n",
       "      <td>30</td>\n",
       "      <td>0.575</td>\n",
       "      <td>0.6666666666666666</td>\n",
       "      <td>0.8823529411764706</td>\n",
       "      <td>0.7594936708860759</td>\n",
       "    </tr>\n",
       "  </tbody>\n",
       "</table>\n",
       "</div>"
      ],
      "text/plain": [
       "    weights n_neighbors   p Accuracy           Precision              Recall  \\\n",
       "0   uniform           3   1    0.575  0.6444444444444445  0.8529411764705882   \n",
       "1  distance           7   2    0.575  0.5365853658536586  0.6470588235294118   \n",
       "2  distance           3   1    0.575  0.5813953488372093  0.7352941176470589   \n",
       "3  distance           5  20    0.575               0.675  0.7941176470588235   \n",
       "4   uniform           9  30    0.575  0.6666666666666666  0.8823529411764706   \n",
       "\n",
       "             F1 Score  \n",
       "0  0.7341772151898734  \n",
       "1  0.5866666666666668  \n",
       "2  0.6493506493506493  \n",
       "3  0.7297297297297296  \n",
       "4  0.7594936708860759  "
      ]
     },
     "execution_count": 19,
     "metadata": {},
     "output_type": "execute_result"
    }
   ],
   "source": [
    "\n",
    "\n",
    "\n",
    "minkowski_standardized = pd.DataFrame({\"weights\":[\"uniform\", \"distance\", \"distance\", \"distance\", \"uniform\"], \n",
    "                   \"n_neighbors\":[\"3\", \"7\", \"3\", \"5\", \"9\"], \n",
    "                   \"p\":[\"1\", \"2\", \"1\", \"20\", \"30\"], \n",
    "                   \"Accuracy\":[\"0.575\", \"0.575\", \"0.575\", \"0.575\", \"0.575\"],\n",
    "                   \"Precision\":[\"0.6444444444444445\", \"0.5365853658536586\", \"0.5813953488372093\", \"0.675\", \"0.6666666666666666\"],\n",
    "                   \"Recall\":[\"0.8529411764705882\", \"0.6470588235294118\", \"0.7352941176470589\", \"0.7941176470588235\", \"0.8823529411764706\"],\n",
    "                   \"F1 Score\":[\"0.7341772151898734\", \"0.5866666666666668\", \"0.6493506493506493\", \"0.7297297297297296\", \"0.7594936708860759\"]\n",
    "                  })\n",
    "\n",
    "minkowski_standardized"
   ]
  },
  {
   "cell_type": "markdown",
   "metadata": {},
   "source": [
    "## Task 11 (5 pts)\n",
    "\n",
    "Does standardization have any significant impact on the performance of the models? Justify your answer."
   ]
  },
  {
   "cell_type": "markdown",
   "metadata": {},
   "source": [
    "Answer: Yes.\n",
    "\n",
    "\n",
    "Justification: Since the class(features) distribution is uneven, so f1 score is a better performance measure than test accuracy. By looking at f1 scores for standardized data, they are obviously and overally better than that for the non-standardized data, even the test accuracy is better on the non-standardized data. \n",
    "\n"
   ]
  },
  {
   "cell_type": "markdown",
   "metadata": {},
   "source": [
    "## Task 12 (5 pts)\n",
    "\n",
    "Which distance metric (Minkowski or Mahalanobis) gave you better performance? Justify your answer (5pts)."
   ]
  },
  {
   "cell_type": "markdown",
   "metadata": {},
   "source": [
    "Answer: Mahalanobis gave me better performance.\n",
    "\n",
    "\n",
    "\n",
    "\n",
    "Justification: Test accuracy for Mahalanobis is better than Minkowski distance metric. The f1 scores for Mahalanobis are much better than that for Minkowski. Also by looking at the confusion matrices for both metrics, the false positive and false negative values are less for Mahalanobis metric thus less errors happen when doing predictions.\n",
    "\n"
   ]
  },
  {
   "cell_type": "markdown",
   "metadata": {},
   "source": [
    "\n",
    "## Score Distribution\n",
    "\n",
    "- Task 1 (4 pts)\n",
    "- Task 2 (3 + 1 + 1 = 5 pts)\n",
    "- Task 3 (4 + 1 = 5 pts)\n",
    "- Task 4 (6 pts)\n",
    "- Task 5 (10 + 10 + 5 = 25 pts)\n",
    "- Task 6 (3 + 1 + 1 + 1 + 1 + 1 + 1 + 1 = 10  pts)\n",
    "- Task 7 (4 + 1 = 5 pts)\n",
    "- Task 8 (10 pts)\n",
    "- Task 9 (10 pts)\n",
    "- Task 10 (10 pts)\n",
    "- Task 11 (5 pts)\n",
    "- Task 12 (5 pts)\n",
    "\n",
    "Total = 100"
   ]
  },
  {
   "cell_type": "code",
   "execution_count": null,
   "metadata": {},
   "outputs": [],
   "source": []
  }
 ],
 "metadata": {
  "anaconda-cloud": {},
  "kernelspec": {
   "display_name": "Python 3",
   "language": "python",
   "name": "python3"
  },
  "language_info": {
   "codemirror_mode": {
    "name": "ipython",
    "version": 3
   },
   "file_extension": ".py",
   "mimetype": "text/x-python",
   "name": "python",
   "nbconvert_exporter": "python",
   "pygments_lexer": "ipython3",
   "version": "3.7.9"
  }
 },
 "nbformat": 4,
 "nbformat_minor": 1
}
